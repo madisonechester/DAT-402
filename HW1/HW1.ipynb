{
 "cells": [
  {
   "cell_type": "markdown",
   "metadata": {},
   "source": [
    "**IMPORTANT** <br> <ul> <li> Do **NOT** replace or remove this notebook (ipynb file)! Each cell has unique nbgrader's metadata and ID which, if changed outside the nbgrader, cannot pass the tests. Do **NOT** change the name of the file!</li> <li> To receive any credit, don't forget to **SUBMIT** your notebook when you are done! You can have multiple submissions before the deadline; only the last one is saved, including its timestamp.</li> <li>Before submitting, **Validate** your notebook to check if your codes pass all visible tests. </li> <li>Make sure you fill in any cell with the comment `# your code here`. Remove or comment the command `fail()` (in R), or `raise NotImplementedError` (in Python) and place your code there </li> </ul>"
   ]
  },
  {
   "cell_type": "code",
   "execution_count": 1,
   "metadata": {},
   "outputs": [],
   "source": [
    "NAME = \"Madison Chester\""
   ]
  },
  {
   "cell_type": "markdown",
   "metadata": {},
   "source": [
    "---"
   ]
  },
  {
   "cell_type": "markdown",
   "metadata": {
    "deletable": false,
    "editable": false,
    "nbgrader": {
     "cell_type": "markdown",
     "checksum": "3e79eeb8afe3d7da50e6af663f7f1f80",
     "grade": false,
     "grade_id": "cell-01be3d62fd71820d",
     "locked": true,
     "schema_version": 3,
     "solution": false,
     "task": false
    }
   },
   "source": [
    "# Naive Bayes in Python\n",
    "\n",
    "\n",
    "<br>\n",
    "\n",
    "Let's start by importing libraries. Run the following cell.\n"
   ]
  },
  {
   "cell_type": "code",
   "execution_count": 2,
   "metadata": {
    "deletable": false,
    "editable": false,
    "nbgrader": {
     "cell_type": "code",
     "checksum": "0b6162d25bef9c65c61d9421b32fb945",
     "grade": false,
     "grade_id": "cell-b3a0c838c3874782",
     "locked": true,
     "schema_version": 3,
     "solution": false,
     "task": false
    }
   },
   "outputs": [],
   "source": [
    "import pandas as pd\n",
    "import matplotlib.pyplot as plt\n",
    "import numpy as np\n",
    "from sklearn.preprocessing import OrdinalEncoder # for encoding categorical features from strings to number arrays\n",
    "from sklearn.naive_bayes import MultinomialNB, CategoricalNB\n",
    "\n",
    "from sklearn.metrics import confusion_matrix\n",
    "from sklearn.metrics import accuracy_score"
   ]
  },
  {
   "cell_type": "markdown",
   "metadata": {
    "deletable": false,
    "editable": false,
    "nbgrader": {
     "cell_type": "markdown",
     "checksum": "1ead82e20fcd4ec2efc83165616a104b",
     "grade": false,
     "grade_id": "cell-0ba8909335e40e15",
     "locked": true,
     "schema_version": 3,
     "solution": false,
     "task": false
    }
   },
   "source": [
    "## Read in and quick look at the data \n",
    "\n",
    "<br>\n",
    "\n",
    "We use data set `Heart.csv`, from *An Introduction to Statistical Learning with Applications in R* (ISLR): <https://www.statlearning.com>. <br>\n",
    "\n",
    "Run the following cell to explore the data set."
   ]
  },
  {
   "cell_type": "code",
   "execution_count": 3,
   "metadata": {
    "deletable": false,
    "editable": false,
    "nbgrader": {
     "cell_type": "code",
     "checksum": "9fbcf0559572c3738b42658b7106214c",
     "grade": false,
     "grade_id": "cell-914441ee0eaf607c",
     "locked": true,
     "schema_version": 3,
     "solution": false,
     "task": false
    }
   },
   "outputs": [
    {
     "name": "stdout",
     "output_type": "stream",
     "text": [
      "(303, 15)\n"
     ]
    },
    {
     "data": {
      "text/html": [
       "<div>\n",
       "<style scoped>\n",
       "    .dataframe tbody tr th:only-of-type {\n",
       "        vertical-align: middle;\n",
       "    }\n",
       "\n",
       "    .dataframe tbody tr th {\n",
       "        vertical-align: top;\n",
       "    }\n",
       "\n",
       "    .dataframe thead th {\n",
       "        text-align: right;\n",
       "    }\n",
       "</style>\n",
       "<table border=\"1\" class=\"dataframe\">\n",
       "  <thead>\n",
       "    <tr style=\"text-align: right;\">\n",
       "      <th></th>\n",
       "      <th>PatientID</th>\n",
       "      <th>Age</th>\n",
       "      <th>Sex</th>\n",
       "      <th>ChestPain</th>\n",
       "      <th>RestBP</th>\n",
       "      <th>Chol</th>\n",
       "      <th>Fbs</th>\n",
       "      <th>RestECG</th>\n",
       "      <th>MaxHR</th>\n",
       "      <th>ExAng</th>\n",
       "      <th>Oldpeak</th>\n",
       "      <th>Slope</th>\n",
       "      <th>Ca</th>\n",
       "      <th>Thal</th>\n",
       "      <th>AHD</th>\n",
       "    </tr>\n",
       "  </thead>\n",
       "  <tbody>\n",
       "    <tr>\n",
       "      <th>0</th>\n",
       "      <td>1</td>\n",
       "      <td>63</td>\n",
       "      <td>1</td>\n",
       "      <td>typical</td>\n",
       "      <td>145</td>\n",
       "      <td>233</td>\n",
       "      <td>1</td>\n",
       "      <td>2</td>\n",
       "      <td>150</td>\n",
       "      <td>0</td>\n",
       "      <td>2.3</td>\n",
       "      <td>3</td>\n",
       "      <td>0.0</td>\n",
       "      <td>fixed</td>\n",
       "      <td>No</td>\n",
       "    </tr>\n",
       "    <tr>\n",
       "      <th>1</th>\n",
       "      <td>2</td>\n",
       "      <td>67</td>\n",
       "      <td>1</td>\n",
       "      <td>asymptomatic</td>\n",
       "      <td>160</td>\n",
       "      <td>286</td>\n",
       "      <td>0</td>\n",
       "      <td>2</td>\n",
       "      <td>108</td>\n",
       "      <td>1</td>\n",
       "      <td>1.5</td>\n",
       "      <td>2</td>\n",
       "      <td>3.0</td>\n",
       "      <td>normal</td>\n",
       "      <td>Yes</td>\n",
       "    </tr>\n",
       "    <tr>\n",
       "      <th>2</th>\n",
       "      <td>3</td>\n",
       "      <td>67</td>\n",
       "      <td>1</td>\n",
       "      <td>asymptomatic</td>\n",
       "      <td>120</td>\n",
       "      <td>229</td>\n",
       "      <td>0</td>\n",
       "      <td>2</td>\n",
       "      <td>129</td>\n",
       "      <td>1</td>\n",
       "      <td>2.6</td>\n",
       "      <td>2</td>\n",
       "      <td>2.0</td>\n",
       "      <td>reversable</td>\n",
       "      <td>Yes</td>\n",
       "    </tr>\n",
       "    <tr>\n",
       "      <th>3</th>\n",
       "      <td>4</td>\n",
       "      <td>37</td>\n",
       "      <td>1</td>\n",
       "      <td>nonanginal</td>\n",
       "      <td>130</td>\n",
       "      <td>250</td>\n",
       "      <td>0</td>\n",
       "      <td>0</td>\n",
       "      <td>187</td>\n",
       "      <td>0</td>\n",
       "      <td>3.5</td>\n",
       "      <td>3</td>\n",
       "      <td>0.0</td>\n",
       "      <td>normal</td>\n",
       "      <td>No</td>\n",
       "    </tr>\n",
       "    <tr>\n",
       "      <th>4</th>\n",
       "      <td>5</td>\n",
       "      <td>41</td>\n",
       "      <td>0</td>\n",
       "      <td>nontypical</td>\n",
       "      <td>130</td>\n",
       "      <td>204</td>\n",
       "      <td>0</td>\n",
       "      <td>2</td>\n",
       "      <td>172</td>\n",
       "      <td>0</td>\n",
       "      <td>1.4</td>\n",
       "      <td>1</td>\n",
       "      <td>0.0</td>\n",
       "      <td>normal</td>\n",
       "      <td>No</td>\n",
       "    </tr>\n",
       "  </tbody>\n",
       "</table>\n",
       "</div>"
      ],
      "text/plain": [
       "   PatientID  Age  Sex     ChestPain  RestBP  Chol  Fbs  RestECG  MaxHR  \\\n",
       "0          1   63    1       typical     145   233    1        2    150   \n",
       "1          2   67    1  asymptomatic     160   286    0        2    108   \n",
       "2          3   67    1  asymptomatic     120   229    0        2    129   \n",
       "3          4   37    1    nonanginal     130   250    0        0    187   \n",
       "4          5   41    0    nontypical     130   204    0        2    172   \n",
       "\n",
       "   ExAng  Oldpeak  Slope   Ca        Thal  AHD  \n",
       "0      0      2.3      3  0.0       fixed   No  \n",
       "1      1      1.5      2  3.0      normal  Yes  \n",
       "2      1      2.6      2  2.0  reversable  Yes  \n",
       "3      0      3.5      3  0.0      normal   No  \n",
       "4      0      1.4      1  0.0      normal   No  "
      ]
     },
     "execution_count": 3,
     "metadata": {},
     "output_type": "execute_result"
    }
   ],
   "source": [
    "df = pd.read_csv('Heart.csv', sep=',')\n",
    "\n",
    "print(df.shape)\n",
    "df.head()\n"
   ]
  },
  {
   "cell_type": "markdown",
   "metadata": {
    "deletable": false,
    "editable": false,
    "nbgrader": {
     "cell_type": "markdown",
     "checksum": "74ec3dff5d04f10ea863d94cea7d1b25",
     "grade": false,
     "grade_id": "cell-f5fe4160f1c994a8",
     "locked": true,
     "schema_version": 3,
     "solution": false,
     "task": false
    }
   },
   "source": [
    "Each row (i.e. observation) represents a single patient. The last variable, `AHD`, is binary (Yes/No) and indicates presence of heart disease based on the **A**ngiographic **H**eart **D**isease test. This variable will be our output categorical variable. All other variables except the first one (PatientID) are our predictors/features.<br>\n",
    "\n",
    "<br>\n",
    "\n",
    "### Goal\n",
    "\n",
    "The goal is to use Naive Bayes method to classify patients by the `AHD` label. That is, based on the predictor variables (features), we want to predict whether the patient has heart disease (`AHD = \"Yes\"`) or not (`AHD = \"No\"`).\n",
    "\n",
    "<br>"
   ]
  },
  {
   "cell_type": "markdown",
   "metadata": {
    "deletable": false,
    "editable": false,
    "nbgrader": {
     "cell_type": "markdown",
     "checksum": "f2618517e532290b1d035bdf503a7bfe",
     "grade": false,
     "grade_id": "cell-1424dac770731dbd",
     "locked": true,
     "schema_version": 3,
     "solution": false,
     "task": false
    }
   },
   "source": [
    "## Data munging and cleaning\n",
    "\n",
    "<br>\n",
    "\n",
    "The variable `PatientID` is not a predictor, so we remove it from our data frame `df`.\n",
    "\n",
    "To remove `PatientID`, use `pandas` method `drop()` to drop\n",
    "\n",
    "`df = df.drop(columns = ??)`\n",
    "\n",
    "or `iloc()` to extract needed data:\n",
    "\n",
    "`df = df.iloc[??, ??]`\n",
    "\n",
    "By now (i.e. after several DAT classes), we are not beginners anymore and should be comfortable with googling documentation for a desireable method/function, or searching for how to perform certain action (eg: \"`how to drop/remove column in pandas data frame in python`\"). A good portion of their job, data scientist/programmer spends on googling things like this, since one cannot (**and should not**) memorize all the syntax."
   ]
  },
  {
   "cell_type": "code",
   "execution_count": 4,
   "metadata": {
    "deletable": false,
    "editable": false,
    "nbgrader": {
     "cell_type": "code",
     "checksum": "a6761a09407c94673ea1718843dc7540",
     "grade": false,
     "grade_id": "cell-c9ba5199f5754e4c",
     "locked": true,
     "schema_version": 3,
     "solution": false,
     "task": false
    }
   },
   "outputs": [
    {
     "name": "stdout",
     "output_type": "stream",
     "text": [
      "(303, 14)\n"
     ]
    },
    {
     "data": {
      "text/html": [
       "<div>\n",
       "<style scoped>\n",
       "    .dataframe tbody tr th:only-of-type {\n",
       "        vertical-align: middle;\n",
       "    }\n",
       "\n",
       "    .dataframe tbody tr th {\n",
       "        vertical-align: top;\n",
       "    }\n",
       "\n",
       "    .dataframe thead th {\n",
       "        text-align: right;\n",
       "    }\n",
       "</style>\n",
       "<table border=\"1\" class=\"dataframe\">\n",
       "  <thead>\n",
       "    <tr style=\"text-align: right;\">\n",
       "      <th></th>\n",
       "      <th>Age</th>\n",
       "      <th>Sex</th>\n",
       "      <th>ChestPain</th>\n",
       "      <th>RestBP</th>\n",
       "      <th>Chol</th>\n",
       "      <th>Fbs</th>\n",
       "      <th>RestECG</th>\n",
       "      <th>MaxHR</th>\n",
       "      <th>ExAng</th>\n",
       "      <th>Oldpeak</th>\n",
       "      <th>Slope</th>\n",
       "      <th>Ca</th>\n",
       "      <th>Thal</th>\n",
       "      <th>AHD</th>\n",
       "    </tr>\n",
       "  </thead>\n",
       "  <tbody>\n",
       "    <tr>\n",
       "      <th>0</th>\n",
       "      <td>63</td>\n",
       "      <td>1</td>\n",
       "      <td>typical</td>\n",
       "      <td>145</td>\n",
       "      <td>233</td>\n",
       "      <td>1</td>\n",
       "      <td>2</td>\n",
       "      <td>150</td>\n",
       "      <td>0</td>\n",
       "      <td>2.3</td>\n",
       "      <td>3</td>\n",
       "      <td>0.0</td>\n",
       "      <td>fixed</td>\n",
       "      <td>No</td>\n",
       "    </tr>\n",
       "    <tr>\n",
       "      <th>1</th>\n",
       "      <td>67</td>\n",
       "      <td>1</td>\n",
       "      <td>asymptomatic</td>\n",
       "      <td>160</td>\n",
       "      <td>286</td>\n",
       "      <td>0</td>\n",
       "      <td>2</td>\n",
       "      <td>108</td>\n",
       "      <td>1</td>\n",
       "      <td>1.5</td>\n",
       "      <td>2</td>\n",
       "      <td>3.0</td>\n",
       "      <td>normal</td>\n",
       "      <td>Yes</td>\n",
       "    </tr>\n",
       "    <tr>\n",
       "      <th>2</th>\n",
       "      <td>67</td>\n",
       "      <td>1</td>\n",
       "      <td>asymptomatic</td>\n",
       "      <td>120</td>\n",
       "      <td>229</td>\n",
       "      <td>0</td>\n",
       "      <td>2</td>\n",
       "      <td>129</td>\n",
       "      <td>1</td>\n",
       "      <td>2.6</td>\n",
       "      <td>2</td>\n",
       "      <td>2.0</td>\n",
       "      <td>reversable</td>\n",
       "      <td>Yes</td>\n",
       "    </tr>\n",
       "    <tr>\n",
       "      <th>3</th>\n",
       "      <td>37</td>\n",
       "      <td>1</td>\n",
       "      <td>nonanginal</td>\n",
       "      <td>130</td>\n",
       "      <td>250</td>\n",
       "      <td>0</td>\n",
       "      <td>0</td>\n",
       "      <td>187</td>\n",
       "      <td>0</td>\n",
       "      <td>3.5</td>\n",
       "      <td>3</td>\n",
       "      <td>0.0</td>\n",
       "      <td>normal</td>\n",
       "      <td>No</td>\n",
       "    </tr>\n",
       "    <tr>\n",
       "      <th>4</th>\n",
       "      <td>41</td>\n",
       "      <td>0</td>\n",
       "      <td>nontypical</td>\n",
       "      <td>130</td>\n",
       "      <td>204</td>\n",
       "      <td>0</td>\n",
       "      <td>2</td>\n",
       "      <td>172</td>\n",
       "      <td>0</td>\n",
       "      <td>1.4</td>\n",
       "      <td>1</td>\n",
       "      <td>0.0</td>\n",
       "      <td>normal</td>\n",
       "      <td>No</td>\n",
       "    </tr>\n",
       "  </tbody>\n",
       "</table>\n",
       "</div>"
      ],
      "text/plain": [
       "   Age  Sex     ChestPain  RestBP  Chol  Fbs  RestECG  MaxHR  ExAng  Oldpeak  \\\n",
       "0   63    1       typical     145   233    1        2    150      0      2.3   \n",
       "1   67    1  asymptomatic     160   286    0        2    108      1      1.5   \n",
       "2   67    1  asymptomatic     120   229    0        2    129      1      2.6   \n",
       "3   37    1    nonanginal     130   250    0        0    187      0      3.5   \n",
       "4   41    0    nontypical     130   204    0        2    172      0      1.4   \n",
       "\n",
       "   Slope   Ca        Thal  AHD  \n",
       "0      3  0.0       fixed   No  \n",
       "1      2  3.0      normal  Yes  \n",
       "2      2  2.0  reversable  Yes  \n",
       "3      3  0.0      normal   No  \n",
       "4      1  0.0      normal   No  "
      ]
     },
     "execution_count": 4,
     "metadata": {},
     "output_type": "execute_result"
    }
   ],
   "source": [
    "df = df.drop(columns=df.columns[0])\n",
    "\n",
    "print(df.shape)\n",
    "df.head()"
   ]
  },
  {
   "cell_type": "markdown",
   "metadata": {
    "deletable": false,
    "editable": false,
    "nbgrader": {
     "cell_type": "markdown",
     "checksum": "4d1e65b96bd01a578f65ffda8645a697",
     "grade": false,
     "grade_id": "cell-627b039028f35566",
     "locked": true,
     "schema_version": 3,
     "solution": false,
     "task": false
    }
   },
   "source": [
    "<br>\n",
    "Next, run the following line to see whether there are missing data in some columns.\n",
    "<br>"
   ]
  },
  {
   "cell_type": "code",
   "execution_count": 5,
   "metadata": {
    "deletable": false,
    "editable": false,
    "nbgrader": {
     "cell_type": "code",
     "checksum": "6279b631519228cc5dde6f48ba7c8b35",
     "grade": false,
     "grade_id": "cell-9b18edfac9296c94",
     "locked": true,
     "schema_version": 3,
     "solution": false,
     "task": false
    }
   },
   "outputs": [
    {
     "data": {
      "text/plain": [
       "Age          0\n",
       "Sex          0\n",
       "ChestPain    0\n",
       "RestBP       0\n",
       "Chol         0\n",
       "Fbs          0\n",
       "RestECG      0\n",
       "MaxHR        0\n",
       "ExAng        0\n",
       "Oldpeak      0\n",
       "Slope        0\n",
       "Ca           4\n",
       "Thal         2\n",
       "AHD          0\n",
       "dtype: int64"
      ]
     },
     "execution_count": 5,
     "metadata": {},
     "output_type": "execute_result"
    }
   ],
   "source": [
    "df.isnull().sum(axis=0)  #sum along first dimension/axis, so, indexed by 0 (axis=0)"
   ]
  },
  {
   "cell_type": "markdown",
   "metadata": {
    "deletable": false,
    "editable": false,
    "nbgrader": {
     "cell_type": "markdown",
     "checksum": "d23bbb1b8786c475928bc2f7f9f4c6e4",
     "grade": false,
     "grade_id": "cell-038928bf3d7cde47",
     "locked": true,
     "schema_version": 3,
     "solution": false,
     "task": false
    }
   },
   "source": [
    "Run the following cell to remove all observations (rows/patients) who have at least one datum missing. (There should be 6 obs removed - compare the shape of `df` before and after the action)."
   ]
  },
  {
   "cell_type": "code",
   "execution_count": 6,
   "metadata": {
    "deletable": false,
    "editable": false,
    "nbgrader": {
     "cell_type": "code",
     "checksum": "67dce70b760f10cf58a978c2ce675901",
     "grade": false,
     "grade_id": "cell-ac38113ed1682797",
     "locked": true,
     "schema_version": 3,
     "solution": false,
     "task": false
    }
   },
   "outputs": [
    {
     "data": {
      "text/plain": [
       "(297, 14)"
      ]
     },
     "execution_count": 6,
     "metadata": {},
     "output_type": "execute_result"
    }
   ],
   "source": [
    "df = df.dropna()\n",
    "df.shape"
   ]
  },
  {
   "cell_type": "markdown",
   "metadata": {
    "deletable": false,
    "editable": false,
    "nbgrader": {
     "cell_type": "markdown",
     "checksum": "296fb78cd58afde9ca953627da53d189",
     "grade": false,
     "grade_id": "cell-7135e7b6a17429bf",
     "locked": true,
     "schema_version": 3,
     "solution": false,
     "task": false
    }
   },
   "source": [
    "<br>\n",
    "\n",
    "Let's see the proportions of labels (Yes/No) in `AHD`."
   ]
  },
  {
   "cell_type": "code",
   "execution_count": 7,
   "metadata": {
    "deletable": false,
    "editable": false,
    "nbgrader": {
     "cell_type": "code",
     "checksum": "a27438d9fc1b7aaec840cd4d583f325a",
     "grade": false,
     "grade_id": "cell-916b226d859b9184",
     "locked": true,
     "schema_version": 3,
     "solution": false,
     "task": false
    }
   },
   "outputs": [
    {
     "data": {
      "text/plain": [
       "No     0.538721\n",
       "Yes    0.461279\n",
       "Name: AHD, dtype: float64"
      ]
     },
     "execution_count": 7,
     "metadata": {},
     "output_type": "execute_result"
    }
   ],
   "source": [
    "## what ratio of No and Yes\n",
    "df['AHD'].value_counts(normalize=True)"
   ]
  },
  {
   "cell_type": "markdown",
   "metadata": {
    "deletable": false,
    "editable": false,
    "nbgrader": {
     "cell_type": "markdown",
     "checksum": "6be7e7ffdf0352a3c15c770b4a75f8ff",
     "grade": false,
     "grade_id": "cell-fb9bcdad8fdb716e",
     "locked": true,
     "schema_version": 3,
     "solution": false,
     "task": false
    }
   },
   "source": [
    "## Fit Naive Bayes on train, predict on test data\n",
    "\n",
    "\n",
    "<br>\n",
    "\n",
    "\n",
    "As discussed in class, we should test performance on a data set not used for training the model. For that purpose, we sacrifize some data and instead of using them for training, we only use them for testing. We split the original data into training and test data at the ratio, say, 70/30.\n",
    "\n",
    "So, we are going to perform the following 3 steps:\n",
    "\n",
    "- split the original data into train and test datasets\n",
    "- make a model and fit it on the train data\n",
    "- predict on the test data"
   ]
  },
  {
   "cell_type": "code",
   "execution_count": 8,
   "metadata": {
    "deletable": false,
    "editable": false,
    "nbgrader": {
     "cell_type": "code",
     "checksum": "f00ec5bd4972e7202f26213e64ce0523",
     "grade": false,
     "grade_id": "cell-a856d2506f8e58cd",
     "locked": true,
     "schema_version": 3,
     "solution": false,
     "task": false
    }
   },
   "outputs": [
    {
     "name": "stdout",
     "output_type": "stream",
     "text": [
      "(208, 14)\n",
      "(89, 14)\n"
     ]
    }
   ],
   "source": [
    "# set seed\n",
    "np.random.seed(1234)\n",
    "\n",
    "# Randomize the dataset (i.e. shuffle the rows); \n",
    "data_randomized = df.sample(frac=1)  #could also set seed by argument random_state=1234\n",
    "\n",
    "# Calculate index for split (size of train data) -take first 70% of the data for training set\n",
    "trainsize = round(len(data_randomized) * 0.7)\n",
    "\n",
    "# Split into training and test sets\n",
    "training_set = data_randomized[:trainsize].reset_index(drop=True)\n",
    "test_set = data_randomized[trainsize:].reset_index(drop=True)\n",
    "\n",
    "print(training_set.shape)\n",
    "print(test_set.shape)"
   ]
  },
  {
   "cell_type": "markdown",
   "metadata": {
    "deletable": false,
    "editable": false,
    "nbgrader": {
     "cell_type": "markdown",
     "checksum": "27b480ed67895850de624c0d22e4a186",
     "grade": false,
     "grade_id": "cell-0ca3cedc2368ca3a",
     "locked": true,
     "schema_version": 3,
     "solution": false,
     "task": false
    }
   },
   "source": [
    "#### Sanity check\n",
    "\n",
    "<br>\n",
    "\n",
    "If everything is okay, our `training_set` and `test_set` should look structurally the same as the original data frame. We plot them for so called *sanity check*, i.e. to see whether everything looks okay at least at first sight, i.e. without diving much into details."
   ]
  },
  {
   "cell_type": "code",
   "execution_count": 9,
   "metadata": {
    "deletable": false,
    "editable": false,
    "nbgrader": {
     "cell_type": "code",
     "checksum": "9738d410d8a7cd5f123e2f630853829f",
     "grade": false,
     "grade_id": "cell-5aea93435728afd3",
     "locked": true,
     "schema_version": 3,
     "solution": false,
     "task": false
    }
   },
   "outputs": [
    {
     "name": "stdout",
     "output_type": "stream",
     "text": [
      "<class 'pandas.core.frame.DataFrame'>\n"
     ]
    },
    {
     "data": {
      "text/html": [
       "<div>\n",
       "<style scoped>\n",
       "    .dataframe tbody tr th:only-of-type {\n",
       "        vertical-align: middle;\n",
       "    }\n",
       "\n",
       "    .dataframe tbody tr th {\n",
       "        vertical-align: top;\n",
       "    }\n",
       "\n",
       "    .dataframe thead th {\n",
       "        text-align: right;\n",
       "    }\n",
       "</style>\n",
       "<table border=\"1\" class=\"dataframe\">\n",
       "  <thead>\n",
       "    <tr style=\"text-align: right;\">\n",
       "      <th></th>\n",
       "      <th>Age</th>\n",
       "      <th>Sex</th>\n",
       "      <th>ChestPain</th>\n",
       "      <th>RestBP</th>\n",
       "      <th>Chol</th>\n",
       "      <th>Fbs</th>\n",
       "      <th>RestECG</th>\n",
       "      <th>MaxHR</th>\n",
       "      <th>ExAng</th>\n",
       "      <th>Oldpeak</th>\n",
       "      <th>Slope</th>\n",
       "      <th>Ca</th>\n",
       "      <th>Thal</th>\n",
       "      <th>AHD</th>\n",
       "    </tr>\n",
       "  </thead>\n",
       "  <tbody>\n",
       "    <tr>\n",
       "      <th>0</th>\n",
       "      <td>65</td>\n",
       "      <td>1</td>\n",
       "      <td>asymptomatic</td>\n",
       "      <td>110</td>\n",
       "      <td>248</td>\n",
       "      <td>0</td>\n",
       "      <td>2</td>\n",
       "      <td>158</td>\n",
       "      <td>0</td>\n",
       "      <td>0.6</td>\n",
       "      <td>1</td>\n",
       "      <td>2.0</td>\n",
       "      <td>fixed</td>\n",
       "      <td>Yes</td>\n",
       "    </tr>\n",
       "    <tr>\n",
       "      <th>1</th>\n",
       "      <td>39</td>\n",
       "      <td>1</td>\n",
       "      <td>asymptomatic</td>\n",
       "      <td>118</td>\n",
       "      <td>219</td>\n",
       "      <td>0</td>\n",
       "      <td>0</td>\n",
       "      <td>140</td>\n",
       "      <td>0</td>\n",
       "      <td>1.2</td>\n",
       "      <td>2</td>\n",
       "      <td>0.0</td>\n",
       "      <td>reversable</td>\n",
       "      <td>Yes</td>\n",
       "    </tr>\n",
       "    <tr>\n",
       "      <th>2</th>\n",
       "      <td>71</td>\n",
       "      <td>0</td>\n",
       "      <td>asymptomatic</td>\n",
       "      <td>112</td>\n",
       "      <td>149</td>\n",
       "      <td>0</td>\n",
       "      <td>0</td>\n",
       "      <td>125</td>\n",
       "      <td>0</td>\n",
       "      <td>1.6</td>\n",
       "      <td>2</td>\n",
       "      <td>0.0</td>\n",
       "      <td>normal</td>\n",
       "      <td>No</td>\n",
       "    </tr>\n",
       "    <tr>\n",
       "      <th>3</th>\n",
       "      <td>43</td>\n",
       "      <td>0</td>\n",
       "      <td>asymptomatic</td>\n",
       "      <td>132</td>\n",
       "      <td>341</td>\n",
       "      <td>1</td>\n",
       "      <td>2</td>\n",
       "      <td>136</td>\n",
       "      <td>1</td>\n",
       "      <td>3.0</td>\n",
       "      <td>2</td>\n",
       "      <td>0.0</td>\n",
       "      <td>reversable</td>\n",
       "      <td>Yes</td>\n",
       "    </tr>\n",
       "    <tr>\n",
       "      <th>4</th>\n",
       "      <td>52</td>\n",
       "      <td>1</td>\n",
       "      <td>typical</td>\n",
       "      <td>118</td>\n",
       "      <td>186</td>\n",
       "      <td>0</td>\n",
       "      <td>2</td>\n",
       "      <td>190</td>\n",
       "      <td>0</td>\n",
       "      <td>0.0</td>\n",
       "      <td>2</td>\n",
       "      <td>0.0</td>\n",
       "      <td>fixed</td>\n",
       "      <td>No</td>\n",
       "    </tr>\n",
       "    <tr>\n",
       "      <th>5</th>\n",
       "      <td>55</td>\n",
       "      <td>1</td>\n",
       "      <td>asymptomatic</td>\n",
       "      <td>140</td>\n",
       "      <td>217</td>\n",
       "      <td>0</td>\n",
       "      <td>0</td>\n",
       "      <td>111</td>\n",
       "      <td>1</td>\n",
       "      <td>5.6</td>\n",
       "      <td>3</td>\n",
       "      <td>0.0</td>\n",
       "      <td>reversable</td>\n",
       "      <td>Yes</td>\n",
       "    </tr>\n",
       "  </tbody>\n",
       "</table>\n",
       "</div>"
      ],
      "text/plain": [
       "   Age  Sex     ChestPain  RestBP  Chol  Fbs  RestECG  MaxHR  ExAng  Oldpeak  \\\n",
       "0   65    1  asymptomatic     110   248    0        2    158      0      0.6   \n",
       "1   39    1  asymptomatic     118   219    0        0    140      0      1.2   \n",
       "2   71    0  asymptomatic     112   149    0        0    125      0      1.6   \n",
       "3   43    0  asymptomatic     132   341    1        2    136      1      3.0   \n",
       "4   52    1       typical     118   186    0        2    190      0      0.0   \n",
       "5   55    1  asymptomatic     140   217    0        0    111      1      5.6   \n",
       "\n",
       "   Slope   Ca        Thal  AHD  \n",
       "0      1  2.0       fixed  Yes  \n",
       "1      2  0.0  reversable  Yes  \n",
       "2      2  0.0      normal   No  \n",
       "3      2  0.0  reversable  Yes  \n",
       "4      2  0.0       fixed   No  \n",
       "5      3  0.0  reversable  Yes  "
      ]
     },
     "execution_count": 9,
     "metadata": {},
     "output_type": "execute_result"
    }
   ],
   "source": [
    "print(type(training_set))\n",
    "training_set.head(6)"
   ]
  },
  {
   "cell_type": "markdown",
   "metadata": {
    "deletable": false,
    "editable": false,
    "nbgrader": {
     "cell_type": "markdown",
     "checksum": "a165ff143312036f12882fe22e44442a",
     "grade": false,
     "grade_id": "cell-bb03900222f01f10",
     "locked": true,
     "schema_version": 3,
     "solution": false,
     "task": false
    }
   },
   "source": [
    "<br>\n",
    "\n",
    "If everything is okay, we should have similar proportions of the two labels (Yes/No) in the training and test sets."
   ]
  },
  {
   "cell_type": "code",
   "execution_count": 10,
   "metadata": {
    "deletable": false,
    "editable": false,
    "nbgrader": {
     "cell_type": "code",
     "checksum": "88d6f3d56f94f7c8a8afac4e19e18343",
     "grade": false,
     "grade_id": "cell-177faadf9d1bb4c3",
     "locked": true,
     "schema_version": 3,
     "solution": false,
     "task": false
    }
   },
   "outputs": [
    {
     "data": {
      "text/plain": [
       "No     0.533654\n",
       "Yes    0.466346\n",
       "Name: AHD, dtype: float64"
      ]
     },
     "execution_count": 10,
     "metadata": {},
     "output_type": "execute_result"
    }
   ],
   "source": [
    "training_set['AHD'].value_counts(normalize=True)"
   ]
  },
  {
   "cell_type": "code",
   "execution_count": 11,
   "metadata": {
    "deletable": false,
    "editable": false,
    "nbgrader": {
     "cell_type": "code",
     "checksum": "cd8fa468dbb6955e34c3a174d83e29b7",
     "grade": false,
     "grade_id": "cell-2a2ace5bf8a6ada9",
     "locked": true,
     "schema_version": 3,
     "solution": false,
     "task": false
    }
   },
   "outputs": [
    {
     "data": {
      "text/plain": [
       "No     0.550562\n",
       "Yes    0.449438\n",
       "Name: AHD, dtype: float64"
      ]
     },
     "execution_count": 11,
     "metadata": {},
     "output_type": "execute_result"
    }
   ],
   "source": [
    "test_set['AHD'].value_counts(normalize=True)"
   ]
  },
  {
   "cell_type": "markdown",
   "metadata": {
    "deletable": false,
    "editable": false,
    "nbgrader": {
     "cell_type": "markdown",
     "checksum": "5b42daa0b05e16815eb2be5698fea3d1",
     "grade": false,
     "grade_id": "cell-5989bfa17397d9d6",
     "locked": true,
     "schema_version": 3,
     "solution": false,
     "task": false
    }
   },
   "source": [
    "## Creating the Naive Bayes model\n",
    "\n",
    "<br>\n",
    "\n",
    "First, we create pandas data frame `trainX` and  pandas series (vector) `trainy`. The data frame `trainX` should consist of only features/predictors of the training data, not the output `AHD`. On the other hand, `trainy` should be the corresponding labels (i.e. column `AHD`) of the training data.\n",
    "\n",
    "After creating them, print out first couple of observations for each of the two objects, to check whether everything is okay (sanity check)."
   ]
  },
  {
   "cell_type": "code",
   "execution_count": 12,
   "metadata": {
    "deletable": false,
    "editable": false,
    "nbgrader": {
     "cell_type": "code",
     "checksum": "3efe50af37d32be5803914c358abca8d",
     "grade": false,
     "grade_id": "cell-237cab196f564fe4",
     "locked": true,
     "schema_version": 3,
     "solution": false,
     "task": false
    }
   },
   "outputs": [
    {
     "data": {
      "text/plain": [
       "0    Yes\n",
       "1    Yes\n",
       "2     No\n",
       "3    Yes\n",
       "4     No\n",
       "Name: AHD, dtype: object"
      ]
     },
     "execution_count": 12,
     "metadata": {},
     "output_type": "execute_result"
    }
   ],
   "source": [
    "trainX = training_set.iloc[:,:-1]\n",
    "trainy = training_set['AHD']\n",
    "\n",
    "colnames = trainX.columns\n",
    "\n",
    "trainX.head()\n",
    "\n",
    "trainy.head()"
   ]
  },
  {
   "cell_type": "code",
   "execution_count": 13,
   "metadata": {
    "deletable": false,
    "editable": false,
    "nbgrader": {
     "cell_type": "code",
     "checksum": "7d155d4431bfc150f0b30b18fa065beb",
     "grade": false,
     "grade_id": "cell-9541909b034f4396",
     "locked": true,
     "schema_version": 3,
     "solution": false,
     "task": false
    }
   },
   "outputs": [
    {
     "data": {
      "text/html": [
       "<div>\n",
       "<style scoped>\n",
       "    .dataframe tbody tr th:only-of-type {\n",
       "        vertical-align: middle;\n",
       "    }\n",
       "\n",
       "    .dataframe tbody tr th {\n",
       "        vertical-align: top;\n",
       "    }\n",
       "\n",
       "    .dataframe thead th {\n",
       "        text-align: right;\n",
       "    }\n",
       "</style>\n",
       "<table border=\"1\" class=\"dataframe\">\n",
       "  <thead>\n",
       "    <tr style=\"text-align: right;\">\n",
       "      <th></th>\n",
       "      <th>Age</th>\n",
       "      <th>Sex</th>\n",
       "      <th>ChestPain</th>\n",
       "      <th>RestBP</th>\n",
       "      <th>Chol</th>\n",
       "      <th>Fbs</th>\n",
       "      <th>RestECG</th>\n",
       "      <th>MaxHR</th>\n",
       "      <th>ExAng</th>\n",
       "      <th>Oldpeak</th>\n",
       "      <th>Slope</th>\n",
       "      <th>Ca</th>\n",
       "      <th>Thal</th>\n",
       "      <th>AHD</th>\n",
       "    </tr>\n",
       "  </thead>\n",
       "  <tbody>\n",
       "    <tr>\n",
       "      <th>0</th>\n",
       "      <td>62</td>\n",
       "      <td>0</td>\n",
       "      <td>asymptomatic</td>\n",
       "      <td>160</td>\n",
       "      <td>164</td>\n",
       "      <td>0</td>\n",
       "      <td>2</td>\n",
       "      <td>145</td>\n",
       "      <td>0</td>\n",
       "      <td>6.2</td>\n",
       "      <td>3</td>\n",
       "      <td>3.0</td>\n",
       "      <td>reversable</td>\n",
       "      <td>Yes</td>\n",
       "    </tr>\n",
       "    <tr>\n",
       "      <th>1</th>\n",
       "      <td>48</td>\n",
       "      <td>1</td>\n",
       "      <td>asymptomatic</td>\n",
       "      <td>122</td>\n",
       "      <td>222</td>\n",
       "      <td>0</td>\n",
       "      <td>2</td>\n",
       "      <td>186</td>\n",
       "      <td>0</td>\n",
       "      <td>0.0</td>\n",
       "      <td>1</td>\n",
       "      <td>0.0</td>\n",
       "      <td>normal</td>\n",
       "      <td>No</td>\n",
       "    </tr>\n",
       "    <tr>\n",
       "      <th>2</th>\n",
       "      <td>51</td>\n",
       "      <td>1</td>\n",
       "      <td>nonanginal</td>\n",
       "      <td>100</td>\n",
       "      <td>222</td>\n",
       "      <td>0</td>\n",
       "      <td>0</td>\n",
       "      <td>143</td>\n",
       "      <td>1</td>\n",
       "      <td>1.2</td>\n",
       "      <td>2</td>\n",
       "      <td>0.0</td>\n",
       "      <td>normal</td>\n",
       "      <td>No</td>\n",
       "    </tr>\n",
       "    <tr>\n",
       "      <th>3</th>\n",
       "      <td>63</td>\n",
       "      <td>1</td>\n",
       "      <td>typical</td>\n",
       "      <td>145</td>\n",
       "      <td>233</td>\n",
       "      <td>1</td>\n",
       "      <td>2</td>\n",
       "      <td>150</td>\n",
       "      <td>0</td>\n",
       "      <td>2.3</td>\n",
       "      <td>3</td>\n",
       "      <td>0.0</td>\n",
       "      <td>fixed</td>\n",
       "      <td>No</td>\n",
       "    </tr>\n",
       "    <tr>\n",
       "      <th>4</th>\n",
       "      <td>59</td>\n",
       "      <td>1</td>\n",
       "      <td>asymptomatic</td>\n",
       "      <td>140</td>\n",
       "      <td>177</td>\n",
       "      <td>0</td>\n",
       "      <td>0</td>\n",
       "      <td>162</td>\n",
       "      <td>1</td>\n",
       "      <td>0.0</td>\n",
       "      <td>1</td>\n",
       "      <td>1.0</td>\n",
       "      <td>reversable</td>\n",
       "      <td>Yes</td>\n",
       "    </tr>\n",
       "  </tbody>\n",
       "</table>\n",
       "</div>"
      ],
      "text/plain": [
       "   Age  Sex     ChestPain  RestBP  Chol  Fbs  RestECG  MaxHR  ExAng  Oldpeak  \\\n",
       "0   62    0  asymptomatic     160   164    0        2    145      0      6.2   \n",
       "1   48    1  asymptomatic     122   222    0        2    186      0      0.0   \n",
       "2   51    1    nonanginal     100   222    0        0    143      1      1.2   \n",
       "3   63    1       typical     145   233    1        2    150      0      2.3   \n",
       "4   59    1  asymptomatic     140   177    0        0    162      1      0.0   \n",
       "\n",
       "   Slope   Ca        Thal  AHD  \n",
       "0      3  3.0  reversable  Yes  \n",
       "1      1  0.0      normal   No  \n",
       "2      2  0.0      normal   No  \n",
       "3      3  0.0       fixed   No  \n",
       "4      1  1.0  reversable  Yes  "
      ]
     },
     "execution_count": 13,
     "metadata": {},
     "output_type": "execute_result"
    }
   ],
   "source": [
    "test_set.head()"
   ]
  },
  {
   "cell_type": "markdown",
   "metadata": {
    "deletable": false,
    "editable": false,
    "nbgrader": {
     "cell_type": "markdown",
     "checksum": "87b69cf978871dce8136906742237dd3",
     "grade": false,
     "grade_id": "cell-439c40f6c10cf49e",
     "locked": true,
     "schema_version": 3,
     "solution": false,
     "task": false
    }
   },
   "source": [
    "### <font style=\"color: red\">Question 1.</font>\n",
    "\n",
    "<br>\n",
    "\n",
    "Now, it's your turn. Create pandas data frame `testX` and pandas series (vector) `testy`. The data frame `testX` should consist of all the features/predictors values from the test data and without the output `AHD`. The vector (i.e. pandas series) `testy` should only consist of output values (i.e. labels) from the test data. "
   ]
  },
  {
   "cell_type": "code",
   "execution_count": 14,
   "metadata": {
    "deletable": false,
    "nbgrader": {
     "cell_type": "code",
     "checksum": "a179cb4090983d3641c3afe9351cd044",
     "grade": false,
     "grade_id": "cell-1cb60ddcb1d92cf1",
     "locked": false,
     "schema_version": 3,
     "solution": true,
     "task": false
    }
   },
   "outputs": [],
   "source": [
    "testX = test_set.iloc[:,:-1]\n",
    "testy = test_set['AHD']"
   ]
  },
  {
   "cell_type": "code",
   "execution_count": 15,
   "metadata": {
    "deletable": false,
    "editable": false,
    "nbgrader": {
     "cell_type": "code",
     "checksum": "5f14f64ff5f97e9284cc723c9bd1394f",
     "grade": true,
     "grade_id": "cell-8db4b73afd0125f9",
     "locked": true,
     "points": 3,
     "schema_version": 3,
     "solution": false,
     "task": false
    }
   },
   "outputs": [],
   "source": [
    "## test whether testX is pandas data frame\n",
    "assert isinstance(testX, pd.core.frame.DataFrame)\n",
    "\n",
    "## test whether first 4 values of column Age are correct\n",
    "assert sum(testX['Age'][:4] != [62, 48, 51, 63]) == 0\n",
    "\n",
    "## test whether first 4 values of column ChestPain are correct\n",
    "assert sum(testX['ChestPain'][:4] != ['asymptomatic','asymptomatic','nonanginal','typical']) == 0\n",
    "\n",
    "## test whether first 4 values of column Chol are correct\n",
    "assert np.linalg.norm(np.array(testX['Chol'][:4]) - np.array([164, 222, 222, 233]), ord=2) < 1.e-5"
   ]
  },
  {
   "cell_type": "code",
   "execution_count": 16,
   "metadata": {
    "deletable": false,
    "editable": false,
    "nbgrader": {
     "cell_type": "code",
     "checksum": "95f83d923f4bfb956c1feb52574bfb82",
     "grade": true,
     "grade_id": "cell-07bc6494bc101311",
     "locked": true,
     "points": 5,
     "schema_version": 3,
     "solution": false,
     "task": false
    }
   },
   "outputs": [],
   "source": [
    "## test whether testy is pandas series\n",
    "assert isinstance(testy, pd.core.series.Series)\n",
    "\n",
    "\n",
    "## test first 4 and last 4 values of testy are correct\n",
    "assert sum(testy.iloc[:4] != ['Yes', 'No', 'No', 'No']) == 0\n",
    "assert sum(testy.iloc[-4:] != ['Yes', 'No', 'Yes','Yes']) == 0"
   ]
  },
  {
   "cell_type": "markdown",
   "metadata": {
    "deletable": false,
    "editable": false,
    "nbgrader": {
     "cell_type": "markdown",
     "checksum": "91eea3f834d6a817f29f6bb89aca567a",
     "grade": false,
     "grade_id": "cell-2f2f838b8503afa6",
     "locked": true,
     "schema_version": 3,
     "solution": false,
     "task": false
    }
   },
   "source": [
    "### Encoding and training\n",
    "\n",
    "To prepare for training, we encode train labels (`trainy`) into 0-1 codes (Bernoulli random variable). The 0-1 coded values are stored in the variable `trainBrnli`.\n",
    "\n",
    "One way to do this is by typing \n",
    "\n",
    "`trainBrnli = np.array([int(trainy[i]=='Yes') for i in range(len(trainy))])`\n",
    "\n",
    "However, we will use `LabelEncoder()` function from `sklearn.preprocessing` submodule."
   ]
  },
  {
   "cell_type": "code",
   "execution_count": 17,
   "metadata": {
    "deletable": false,
    "editable": false,
    "nbgrader": {
     "cell_type": "code",
     "checksum": "cfbad15aa9b6b5edef70da1a141bab17",
     "grade": false,
     "grade_id": "cell-f68c9a6c6eca8572",
     "locked": true,
     "schema_version": 3,
     "solution": false,
     "task": false
    }
   },
   "outputs": [
    {
     "data": {
      "text/plain": [
       "array([1, 1, 0, 1, 0])"
      ]
     },
     "execution_count": 17,
     "metadata": {},
     "output_type": "execute_result"
    }
   ],
   "source": [
    "from sklearn.preprocessing import LabelEncoder\n",
    "\n",
    "le = LabelEncoder() #rename function for simpler writing\n",
    "\n",
    "#0-1 encoding train labels (think of it as a Bernoulli variable)\n",
    "trainBrnli = le.fit_transform(trainy)\n",
    "\n",
    "trainBrnli[:5] #print first 5 of train Bernoulli (check that No=0, Yes=1)"
   ]
  },
  {
   "cell_type": "markdown",
   "metadata": {
    "deletable": false,
    "editable": false,
    "nbgrader": {
     "cell_type": "markdown",
     "checksum": "0fe3c0e699e2e7676372c1423bf63cf7",
     "grade": false,
     "grade_id": "cell-bccdb4639a3249d6",
     "locked": true,
     "schema_version": 3,
     "solution": false,
     "task": false
    }
   },
   "source": [
    "<br>\n",
    "\n",
    "#### Naive Bayes with mixed variables\n",
    "\n",
    "In our dataset `Heart` we have both discrete and continuous features. Submodule `sklearn.naive_bayes` does not handle this situation automatically. There are several ways to proceed, each simplifying the situation. Probably the simplest one (which we will perform) is binning the numerical features. That is, for each numerical feature, we group its values into bins, and each bin is represented by a single number from 0, 1, ... , n, where n is the number of bins (i.e. categories) for this feature.\n",
    "\n",
    "To encode the the data from the feature data frame `trainX`, we use `OrdinalEncoder` function from the submodule `sklearn.preprocessing`."
   ]
  },
  {
   "cell_type": "code",
   "execution_count": 18,
   "metadata": {
    "deletable": false,
    "editable": false,
    "nbgrader": {
     "cell_type": "code",
     "checksum": "6874679dd0b892a42f94b4499a0c8290",
     "grade": false,
     "grade_id": "cell-899e66659c57b436",
     "locked": true,
     "schema_version": 3,
     "solution": false,
     "task": false
    },
    "scrolled": true
   },
   "outputs": [
    {
     "data": {
      "text/html": [
       "<div>\n",
       "<style scoped>\n",
       "    .dataframe tbody tr th:only-of-type {\n",
       "        vertical-align: middle;\n",
       "    }\n",
       "\n",
       "    .dataframe tbody tr th {\n",
       "        vertical-align: top;\n",
       "    }\n",
       "\n",
       "    .dataframe thead th {\n",
       "        text-align: right;\n",
       "    }\n",
       "</style>\n",
       "<table border=\"1\" class=\"dataframe\">\n",
       "  <thead>\n",
       "    <tr style=\"text-align: right;\">\n",
       "      <th></th>\n",
       "      <th>Age</th>\n",
       "      <th>Sex</th>\n",
       "      <th>ChestPain</th>\n",
       "      <th>RestBP</th>\n",
       "      <th>Chol</th>\n",
       "      <th>Fbs</th>\n",
       "      <th>RestECG</th>\n",
       "      <th>MaxHR</th>\n",
       "      <th>ExAng</th>\n",
       "      <th>Oldpeak</th>\n",
       "      <th>Slope</th>\n",
       "      <th>Ca</th>\n",
       "      <th>Thal</th>\n",
       "    </tr>\n",
       "  </thead>\n",
       "  <tbody>\n",
       "    <tr>\n",
       "      <th>0</th>\n",
       "      <td>31.0</td>\n",
       "      <td>1.0</td>\n",
       "      <td>0.0</td>\n",
       "      <td>7.0</td>\n",
       "      <td>63.0</td>\n",
       "      <td>0.0</td>\n",
       "      <td>2.0</td>\n",
       "      <td>48.0</td>\n",
       "      <td>0.0</td>\n",
       "      <td>6.0</td>\n",
       "      <td>0.0</td>\n",
       "      <td>2.0</td>\n",
       "      <td>0.0</td>\n",
       "    </tr>\n",
       "    <tr>\n",
       "      <th>1</th>\n",
       "      <td>5.0</td>\n",
       "      <td>1.0</td>\n",
       "      <td>0.0</td>\n",
       "      <td>12.0</td>\n",
       "      <td>39.0</td>\n",
       "      <td>0.0</td>\n",
       "      <td>0.0</td>\n",
       "      <td>31.0</td>\n",
       "      <td>0.0</td>\n",
       "      <td>12.0</td>\n",
       "      <td>1.0</td>\n",
       "      <td>0.0</td>\n",
       "      <td>2.0</td>\n",
       "    </tr>\n",
       "    <tr>\n",
       "      <th>2</th>\n",
       "      <td>37.0</td>\n",
       "      <td>0.0</td>\n",
       "      <td>0.0</td>\n",
       "      <td>8.0</td>\n",
       "      <td>3.0</td>\n",
       "      <td>0.0</td>\n",
       "      <td>0.0</td>\n",
       "      <td>20.0</td>\n",
       "      <td>0.0</td>\n",
       "      <td>16.0</td>\n",
       "      <td>1.0</td>\n",
       "      <td>0.0</td>\n",
       "      <td>1.0</td>\n",
       "    </tr>\n",
       "    <tr>\n",
       "      <th>3</th>\n",
       "      <td>9.0</td>\n",
       "      <td>0.0</td>\n",
       "      <td>0.0</td>\n",
       "      <td>22.0</td>\n",
       "      <td>118.0</td>\n",
       "      <td>1.0</td>\n",
       "      <td>2.0</td>\n",
       "      <td>28.0</td>\n",
       "      <td>1.0</td>\n",
       "      <td>27.0</td>\n",
       "      <td>1.0</td>\n",
       "      <td>0.0</td>\n",
       "      <td>2.0</td>\n",
       "    </tr>\n",
       "    <tr>\n",
       "      <th>4</th>\n",
       "      <td>18.0</td>\n",
       "      <td>1.0</td>\n",
       "      <td>3.0</td>\n",
       "      <td>12.0</td>\n",
       "      <td>16.0</td>\n",
       "      <td>0.0</td>\n",
       "      <td>2.0</td>\n",
       "      <td>73.0</td>\n",
       "      <td>0.0</td>\n",
       "      <td>0.0</td>\n",
       "      <td>1.0</td>\n",
       "      <td>0.0</td>\n",
       "      <td>0.0</td>\n",
       "    </tr>\n",
       "  </tbody>\n",
       "</table>\n",
       "</div>"
      ],
      "text/plain": [
       "    Age  Sex  ChestPain  RestBP   Chol  Fbs  RestECG  MaxHR  ExAng  Oldpeak  \\\n",
       "0  31.0  1.0        0.0     7.0   63.0  0.0      2.0   48.0    0.0      6.0   \n",
       "1   5.0  1.0        0.0    12.0   39.0  0.0      0.0   31.0    0.0     12.0   \n",
       "2  37.0  0.0        0.0     8.0    3.0  0.0      0.0   20.0    0.0     16.0   \n",
       "3   9.0  0.0        0.0    22.0  118.0  1.0      2.0   28.0    1.0     27.0   \n",
       "4  18.0  1.0        3.0    12.0   16.0  0.0      2.0   73.0    0.0      0.0   \n",
       "\n",
       "   Slope   Ca  Thal  \n",
       "0    0.0  2.0   0.0  \n",
       "1    1.0  0.0   2.0  \n",
       "2    1.0  0.0   1.0  \n",
       "3    1.0  0.0   2.0  \n",
       "4    1.0  0.0   0.0  "
      ]
     },
     "execution_count": 18,
     "metadata": {},
     "output_type": "execute_result"
    }
   ],
   "source": [
    "from sklearn.preprocessing import OrdinalEncoder\n",
    "\n",
    "enc = OrdinalEncoder()  #rename the function for easier writing\n",
    "\n",
    "trainX = enc.fit_transform(trainX)  #the output is numpy array (ndarray)\n",
    "\n",
    "trainX = pd.DataFrame(trainX, columns=colnames) #convert ndarray to pandas data frame \n",
    "                                                #not required but good for printing \n",
    "\n",
    "trainX.head()  #sanity check"
   ]
  },
  {
   "cell_type": "markdown",
   "metadata": {
    "deletable": false,
    "editable": false,
    "nbgrader": {
     "cell_type": "markdown",
     "checksum": "e3badbcad2b67ed5d0097fbf5c0759d8",
     "grade": false,
     "grade_id": "cell-5652fc14d51f0f42",
     "locked": true,
     "schema_version": 3,
     "solution": false,
     "task": false
    }
   },
   "source": [
    "#### Creating and fitting the model\n",
    "\n",
    "We use `CategoricalNB()` function from `sklearn.naive_bayes` submodule, which requires encoding, which is why we did the previous step."
   ]
  },
  {
   "cell_type": "code",
   "execution_count": 19,
   "metadata": {},
   "outputs": [
    {
     "data": {
      "text/plain": [
       "CategoricalNB()"
      ]
     },
     "execution_count": 19,
     "metadata": {},
     "output_type": "execute_result"
    }
   ],
   "source": [
    "model = CategoricalNB()  #create model object\n",
    "model.fit(trainX,trainBrnli) # fit on train data"
   ]
  },
  {
   "cell_type": "markdown",
   "metadata": {
    "deletable": false,
    "editable": false,
    "nbgrader": {
     "cell_type": "markdown",
     "checksum": "4e7ace9b55a03c579cb9adacb5c052e7",
     "grade": false,
     "grade_id": "cell-628b0cee72b5ff4e",
     "locked": true,
     "schema_version": 3,
     "solution": false,
     "task": false
    }
   },
   "source": [
    "#### Predicting\n",
    "\n",
    "To measure performance, we should use test data. That would be your job in a moment. However, here, we make predictions for each training observation. Again, this is not as reliable estimate of true performance as when test data are used. The main purpose using train rather than test data is is so you can use the code and modify it appropriately, in order to make predictions on test data.\n",
    "\n",
    "**Note**: The reason why estimating performance using train data is not as reliable as when we use test data, is because the model was fitted in order to please the train data, i.e. to minimize the error (or equivalently, maximize performance) when the model is applied on train data. However, if the model goes closely around train data (i.e. fits well the train data), that doesn't necessarily mean it will be as close to some other data (recall the **bias-variance tradeoff** phenomenon). On the contrary, as bias-variance tradeoff suggests: in general, the more easily the model fits any given sample (i.e. the more flexible the model is), the more it moves away from other possible samples, and thus, performs poorly on other possible data sets. "
   ]
  },
  {
   "cell_type": "code",
   "execution_count": 20,
   "metadata": {
    "deletable": false,
    "editable": false,
    "nbgrader": {
     "cell_type": "code",
     "checksum": "33f7157b97889bdc04e95fa554f447d8",
     "grade": false,
     "grade_id": "cell-daf6dd7c3232d187",
     "locked": true,
     "schema_version": 3,
     "solution": false,
     "task": false
    }
   },
   "outputs": [],
   "source": [
    "yhattrain = model.predict(trainX) # predict on train data"
   ]
  },
  {
   "cell_type": "markdown",
   "metadata": {
    "deletable": false,
    "editable": false,
    "nbgrader": {
     "cell_type": "markdown",
     "checksum": "90c316cbc1c2031a8821f94aa7570885",
     "grade": false,
     "grade_id": "cell-7ed8ae41b9852bca",
     "locked": true,
     "schema_version": 3,
     "solution": false,
     "task": false
    }
   },
   "source": [
    "#### Confusion Matrix\n",
    "\n",
    "To assess performance, we can take a look at confusion matrix.\n",
    "\n",
    "We show confusion matrix for predictions made on train data, but you will do it the more appropriate way, i.e. using the test data."
   ]
  },
  {
   "cell_type": "code",
   "execution_count": 21,
   "metadata": {
    "deletable": false,
    "editable": false,
    "nbgrader": {
     "cell_type": "code",
     "checksum": "703e0787c2dd3bb3bd4ec32bfdccde60",
     "grade": false,
     "grade_id": "cell-e0657706d86a7d80",
     "locked": true,
     "schema_version": 3,
     "solution": false,
     "task": false
    }
   },
   "outputs": [
    {
     "data": {
      "text/html": [
       "<div>\n",
       "<style scoped>\n",
       "    .dataframe tbody tr th:only-of-type {\n",
       "        vertical-align: middle;\n",
       "    }\n",
       "\n",
       "    .dataframe tbody tr th {\n",
       "        vertical-align: top;\n",
       "    }\n",
       "\n",
       "    .dataframe thead th {\n",
       "        text-align: right;\n",
       "    }\n",
       "</style>\n",
       "<table border=\"1\" class=\"dataframe\">\n",
       "  <thead>\n",
       "    <tr style=\"text-align: right;\">\n",
       "      <th>AHD</th>\n",
       "      <th>No</th>\n",
       "      <th>Yes</th>\n",
       "    </tr>\n",
       "    <tr>\n",
       "      <th>row_0</th>\n",
       "      <th></th>\n",
       "      <th></th>\n",
       "    </tr>\n",
       "  </thead>\n",
       "  <tbody>\n",
       "    <tr>\n",
       "      <th>0</th>\n",
       "      <td>103</td>\n",
       "      <td>11</td>\n",
       "    </tr>\n",
       "    <tr>\n",
       "      <th>1</th>\n",
       "      <td>8</td>\n",
       "      <td>86</td>\n",
       "    </tr>\n",
       "  </tbody>\n",
       "</table>\n",
       "</div>"
      ],
      "text/plain": [
       "AHD     No  Yes\n",
       "row_0          \n",
       "0      103   11\n",
       "1        8   86"
      ]
     },
     "execution_count": 21,
     "metadata": {},
     "output_type": "execute_result"
    }
   ],
   "source": [
    "## confusion matrix using pandas method crosstab\n",
    "pd.crosstab(yhattrain, trainy)\n"
   ]
  },
  {
   "cell_type": "code",
   "execution_count": 22,
   "metadata": {
    "deletable": false,
    "editable": false,
    "nbgrader": {
     "cell_type": "code",
     "checksum": "1e30cf5801111d26aa5d7c2ee547b048",
     "grade": false,
     "grade_id": "cell-4c540a01d6da7325",
     "locked": true,
     "schema_version": 3,
     "solution": false,
     "task": false
    }
   },
   "outputs": [
    {
     "data": {
      "text/plain": [
       "array([[103,  11],\n",
       "       [  8,  86]])"
      ]
     },
     "execution_count": 22,
     "metadata": {},
     "output_type": "execute_result"
    }
   ],
   "source": [
    "#alternative way, which requires encoded labels, i.e. trainBrnli\n",
    "confusion_matrix(yhattrain, trainBrnli)\n"
   ]
  },
  {
   "cell_type": "markdown",
   "metadata": {
    "deletable": false,
    "editable": false,
    "nbgrader": {
     "cell_type": "markdown",
     "checksum": "7f3732173348dc9ac871fb878003b586",
     "grade": false,
     "grade_id": "cell-59df0f8af32ba61a",
     "locked": true,
     "schema_version": 3,
     "solution": false,
     "task": false
    }
   },
   "source": [
    "Note that the accuracy score, i.e. the proportion of correctly predicted outputs is ${103+86 \\over103+11+8+86} \\approx 90.87\\%$. \n",
    "\n",
    "**Caveat!!!** Due to bias-variance tradeoff, we know that this relatively high score does not necessarily guarantee a good prediction on new (out-of-sample) data. It might be just due to overfitting - i.e. if the model is too flexible, it will easily fit the train data very well. Again, good performance on out-of-sample data are not guaranteed. This is the reason why we want to test performance on new data (test data), that were not used for fitting the model.\n",
    "\n",
    "The accuracy score can also be computed using `accuracy_score()` function from `sklearn.matrics` module."
   ]
  },
  {
   "cell_type": "code",
   "execution_count": 23,
   "metadata": {
    "deletable": false,
    "editable": false,
    "nbgrader": {
     "cell_type": "code",
     "checksum": "8ac0657fb9f47062f29e0dcb83f20c0b",
     "grade": false,
     "grade_id": "cell-733ce6d707f3d029",
     "locked": true,
     "schema_version": 3,
     "solution": false,
     "task": false
    }
   },
   "outputs": [
    {
     "data": {
      "text/plain": [
       "0.9086538461538461"
      ]
     },
     "execution_count": 23,
     "metadata": {},
     "output_type": "execute_result"
    }
   ],
   "source": [
    "accuracy_score(yhattrain, trainBrnli)"
   ]
  },
  {
   "cell_type": "markdown",
   "metadata": {
    "deletable": false,
    "editable": false,
    "nbgrader": {
     "cell_type": "markdown",
     "checksum": "bd0a43aaa5fc2dc15dd9d5f0a90d77a5",
     "grade": false,
     "grade_id": "cell-6b086c30841eb759",
     "locked": true,
     "schema_version": 3,
     "solution": false,
     "task": false
    }
   },
   "source": [
    "<br>\n",
    "\n",
    "**Now it's your turn**\n",
    "\n",
    "Hopefully, you correctly created `testX` and `testy` above, by writing something like\n",
    "\n",
    "`testX = test_set.iloc[:,:-1]`\n",
    "\n",
    "``testy = test_set['AHD']``\n",
    "\n",
    "<br>\n",
    "\n"
   ]
  },
  {
   "cell_type": "markdown",
   "metadata": {
    "deletable": false,
    "editable": false,
    "nbgrader": {
     "cell_type": "markdown",
     "checksum": "8bdfa02b20b9c376c6ac0f37917d4b4b",
     "grade": false,
     "grade_id": "cell-5a7673020eee47e4",
     "locked": true,
     "schema_version": 3,
     "solution": false,
     "task": false
    }
   },
   "source": [
    "\n",
    "\n",
    "### <font style=\"color: red\">Question 2.</font>\n",
    "\n",
    "<br>\n",
    "\n",
    "Now, it's your turn to repeat some parts of the procedure above, but for the test data, which is the right way. \n",
    "\n",
    "Do the following steps:\n",
    "\n",
    "- Create `testBrnli` by 0-1 encoding `testy` variable\n",
    "\n",
    "- Transform `testX` into pandas data frame by with encoded values of all the features. The transformed data frame should still be called `testX`.\n",
    "\n",
    "- Create vector (i.e. numpy arrray) of predictions, called `yhattest`, based on the feature values from the test data. \n",
    "\n",
    "\n",
    "If everything is fine, first couple of values of `yhattest` should be `1, 0, 0, 1, 1, 0, 0, 1, 0`.\n",
    "\n"
   ]
  },
  {
   "cell_type": "code",
   "execution_count": 24,
   "metadata": {
    "deletable": false,
    "nbgrader": {
     "cell_type": "code",
     "checksum": "1f944a09e480e4e8468d6597fa2656ac",
     "grade": false,
     "grade_id": "cell-e5ee8ea0538354f0",
     "locked": false,
     "schema_version": 3,
     "solution": true,
     "task": false
    }
   },
   "outputs": [
    {
     "data": {
      "text/plain": [
       "array([1, 0, 0, 1, 1, 0, 0, 1, 0])"
      ]
     },
     "execution_count": 24,
     "metadata": {},
     "output_type": "execute_result"
    }
   ],
   "source": [
    "testBrnli = le.fit_transform(testy)\n",
    "testBrnli[:5]\n",
    "testX = enc.fit_transform(testX)\n",
    "testX = pd.DataFrame(testX, columns=colnames) \n",
    "yhattest = model.predict(testX)\n",
    "yhattest[:9]"
   ]
  },
  {
   "cell_type": "code",
   "execution_count": 25,
   "metadata": {
    "deletable": false,
    "editable": false,
    "nbgrader": {
     "cell_type": "code",
     "checksum": "7697b09acbdc7ed88e67398e5c927648",
     "grade": true,
     "grade_id": "cell-48c53b5c3949dd8f",
     "locked": true,
     "points": 4,
     "schema_version": 3,
     "solution": false,
     "task": false
    }
   },
   "outputs": [],
   "source": [
    "## test whether first 4 values of column testBrnli are correct\n",
    "assert sum(testBrnli[:4] != [1, 0, 0, 0]) == 0\n",
    "\n",
    "## test whether first 9 values of column yhattest are correct\n",
    "assert sum(yhattest[:9] != [1, 0, 0, 1, 1, 0, 0, 1, 0]) == 0\n"
   ]
  },
  {
   "cell_type": "markdown",
   "metadata": {
    "deletable": false,
    "editable": false,
    "nbgrader": {
     "cell_type": "markdown",
     "checksum": "bfee4bdaba57c2091eec161cb61df931",
     "grade": false,
     "grade_id": "cell-525ab3c23dfe4538",
     "locked": true,
     "schema_version": 3,
     "solution": false,
     "task": false
    }
   },
   "source": [
    "### <font style=\"color: red\">Question 3.</font>\n",
    "\n",
    "<br>\n",
    "\n",
    "Compute the confusion matrix (for test data) and store it as a variable `confM`.\n",
    "\n",
    "**Hint**: the entry in the 1st row and 1st column (predicted value=No, actual AHD value=No) should be 42."
   ]
  },
  {
   "cell_type": "code",
   "execution_count": 26,
   "metadata": {
    "deletable": false,
    "nbgrader": {
     "cell_type": "code",
     "checksum": "c6e68e677fee2e79e1d58097e69563dc",
     "grade": false,
     "grade_id": "cell-b666156bc5aa3ca3",
     "locked": false,
     "schema_version": 3,
     "solution": true,
     "task": false
    }
   },
   "outputs": [
    {
     "data": {
      "text/plain": [
       "array([[42,  7],\n",
       "       [ 7, 33]])"
      ]
     },
     "execution_count": 26,
     "metadata": {},
     "output_type": "execute_result"
    }
   ],
   "source": [
    "confM = confusion_matrix(yhattest, testBrnli)\n",
    "confM"
   ]
  },
  {
   "cell_type": "code",
   "execution_count": 27,
   "metadata": {
    "deletable": false,
    "editable": false,
    "nbgrader": {
     "cell_type": "code",
     "checksum": "ca998b07dc80517d6c866fe728fa703c",
     "grade": true,
     "grade_id": "cell-3515257552ee3a3f",
     "locked": true,
     "points": 5,
     "schema_version": 3,
     "solution": false,
     "task": false
    }
   },
   "outputs": [],
   "source": [
    "## check whether the determinant of the confusion matrix is 1337\n",
    "\n",
    "assert abs(np.linalg.det(np.array(confM)) - 1337) < 1.e-5\n"
   ]
  },
  {
   "cell_type": "code",
   "execution_count": 28,
   "metadata": {
    "deletable": false,
    "editable": false,
    "nbgrader": {
     "cell_type": "code",
     "checksum": "cd1c50704b20b9926008a68a8cee0056",
     "grade": true,
     "grade_id": "cell-6b1813e4500d6e13",
     "locked": true,
     "points": 8,
     "schema_version": 3,
     "solution": false,
     "task": false
    }
   },
   "outputs": [],
   "source": [
    "## check whether the answer is correct (hidden test)\n",
    "\n"
   ]
  },
  {
   "cell_type": "markdown",
   "metadata": {
    "deletable": false,
    "editable": false,
    "nbgrader": {
     "cell_type": "markdown",
     "checksum": "8cf89145a829938eb4a2404421350833",
     "grade": false,
     "grade_id": "cell-f05f3f1839276a14",
     "locked": true,
     "schema_version": 3,
     "solution": false,
     "task": false
    }
   },
   "source": [
    "### <font style=\"color: red\">Question 4.</font>\n",
    "\n",
    "#### Accuracy Score\n",
    "\n",
    "Compute accuracy score, i.e. proportion of the correctly predicted outputs. Store this value as python variable `acc`. So, your answer should look like\n",
    "\n",
    "`acc = <some expression>`\n",
    "\n",
    "Do **NOT** round your answer."
   ]
  },
  {
   "cell_type": "code",
   "execution_count": 29,
   "metadata": {
    "deletable": false,
    "nbgrader": {
     "cell_type": "code",
     "checksum": "1ddef2b9585594f43dc9698b3cff9abe",
     "grade": false,
     "grade_id": "cell-2b6ed741785681ac",
     "locked": false,
     "schema_version": 3,
     "solution": true,
     "task": false
    }
   },
   "outputs": [],
   "source": [
    "acc = accuracy_score(yhattest, testBrnli)"
   ]
  },
  {
   "cell_type": "code",
   "execution_count": 30,
   "metadata": {
    "deletable": false,
    "editable": false,
    "nbgrader": {
     "cell_type": "code",
     "checksum": "af62bcdca35a53573603805369cd277e",
     "grade": true,
     "grade_id": "cell-8b8e2d39b2a89a27",
     "locked": true,
     "points": 5,
     "schema_version": 3,
     "solution": false,
     "task": false
    }
   },
   "outputs": [],
   "source": [
    "## test whether 5th and 6th decimal digits of acc are 96\n",
    "\n",
    "assert np.mod(int(np.floor(acc * 10**6)), 100) == 96"
   ]
  },
  {
   "cell_type": "code",
   "execution_count": 31,
   "metadata": {
    "deletable": false,
    "editable": false,
    "nbgrader": {
     "cell_type": "code",
     "checksum": "d7cc60ca9b9d28097ece060edfd99788",
     "grade": true,
     "grade_id": "cell-1f88f04dadc8165a",
     "locked": true,
     "points": 8,
     "schema_version": 3,
     "solution": false,
     "task": false
    }
   },
   "outputs": [],
   "source": [
    "## test whether acc is correct (hidden tests)\n",
    "\n"
   ]
  },
  {
   "cell_type": "markdown",
   "metadata": {
    "deletable": false,
    "editable": false,
    "nbgrader": {
     "cell_type": "markdown",
     "checksum": "1d00ad491a8734f75807e8f4119b03c3",
     "grade": false,
     "grade_id": "cell-db18cc72ce0db2e0",
     "locked": true,
     "schema_version": 3,
     "solution": false,
     "task": false
    }
   },
   "source": [
    "\n",
    "**Remark**\n",
    "\n",
    "If you got `acc` right, you will notice that the accuracy score for prediction on test data is lower than the one for prediction on train data. As mentioned earlier, this is not surprising since the model is fitted on training data so that it maximizes performance (according to some criterion similar to accuracy score). When we move away from the training data and use other set (test set) to test performance, we get a more reliable estimate of the true expected accuracy score (accross all possible samples). \n",
    "\n",
    "While it is possible (depending on randomization of training and test samples) that the accuracy score happens to be higher when measured on test data than on train data, on average, it is expected to be lower on the test data. Also, on average, accuracy score measured on test data is more reliable estimate of the true expected accuracy score accross all possible samples. "
   ]
  },
  {
   "cell_type": "markdown",
   "metadata": {
    "deletable": false,
    "editable": false,
    "nbgrader": {
     "cell_type": "markdown",
     "checksum": "cd1d7fd53cd5fd7ba54d532b8d80ca5c",
     "grade": false,
     "grade_id": "cell-662fd2f8bdd3b058",
     "locked": true,
     "schema_version": 3,
     "solution": false,
     "task": false
    }
   },
   "source": [
    "#### False Negative\n",
    "\n",
    "We would now like to estimate the probability that the model does not detect heart disease on a patient that does have it (which can be devastating for the patient, if they don't treat it as soon as possible). This probability is called *false negative rate*, or *miss rate*.\n",
    "\n",
    "In other words, we want to estimate the probability that the model will incorrectly predict $\\widehat{AHD}=No$ in the situation when the patient does have heart disease, i.e. when actually $AHD=Yes$. In other words, we would like to estimate \n",
    "\n",
    "$$P(\\widehat{AHD}=\\text{No}|AHD = \\text{Yes}) = P(\\hat{y}=0\\,| \\, y=1)$$\n",
    "\n",
    "The most natural way to estimate this is to use confusion matrix and among all true positives (i.e. among all the data with $y=1$), we find the proportion of those for which $\\hat{y}=0$. In other words, we compute the ratio \n",
    "\n",
    "$\\displaystyle {\\#\\{y=1 \\text{ and } \\hat{y}=0\\}\\over \\#\\{y=1\\}} = {\\text{all test data with } y=1 \\text{ for which the model predicted } \\hat{y}=0 \\over \\text{all test data with } y=1}$\n",
    "\n",
    "<br>"
   ]
  },
  {
   "cell_type": "markdown",
   "metadata": {
    "deletable": false,
    "editable": false,
    "nbgrader": {
     "cell_type": "markdown",
     "checksum": "87be144a1829638d8339de8df49b9ef9",
     "grade": false,
     "grade_id": "cell-741a21e12638783b",
     "locked": true,
     "schema_version": 3,
     "solution": false,
     "task": false
    }
   },
   "source": [
    "<br>\n",
    "\n",
    "### <font style=\"color: red\">Question 5.</font>\n",
    "\n",
    "Estimate the probability of false negative rate by the ratio given above. Use the test data only, i.e. use appropriate values from your confusion matrix `confM`. Store the estimate of the false negative rate as `FNR`. So, your answer should be of the form \n",
    "\n",
    "`FNR = <some expression>`\n",
    "\n",
    "Do **NOT** round your answer.\n",
    "\n",
    "<br>"
   ]
  },
  {
   "cell_type": "code",
   "execution_count": 32,
   "metadata": {
    "deletable": false,
    "nbgrader": {
     "cell_type": "code",
     "checksum": "0090ccd2a2b547c61cfe817f1c29058c",
     "grade": false,
     "grade_id": "cell-129a5b015cb130ca",
     "locked": false,
     "schema_version": 3,
     "solution": true,
     "task": false
    }
   },
   "outputs": [],
   "source": [
    "FNR = 7/(7+33)"
   ]
  },
  {
   "cell_type": "code",
   "execution_count": 33,
   "metadata": {
    "deletable": false,
    "editable": false,
    "nbgrader": {
     "cell_type": "code",
     "checksum": "cc4a8ae6d707ad6ba221265fd86ca948",
     "grade": true,
     "grade_id": "cell-28876814045c2bd2",
     "locked": true,
     "points": 5,
     "schema_version": 3,
     "solution": false,
     "task": false
    }
   },
   "outputs": [],
   "source": [
    "## test whether the 2nd decimal digit is 7\n",
    "\n",
    "assert np.mod(int(np.floor(FNR * 10**2)), 10) == 7"
   ]
  },
  {
   "cell_type": "code",
   "execution_count": 34,
   "metadata": {
    "deletable": false,
    "editable": false,
    "nbgrader": {
     "cell_type": "code",
     "checksum": "9490920f376fc0bbe97bc2c0b6b093f8",
     "grade": true,
     "grade_id": "cell-2f575535e2c0969d",
     "locked": true,
     "points": 7,
     "schema_version": 3,
     "solution": false,
     "task": false
    }
   },
   "outputs": [],
   "source": [
    "## test whether the FNR is correct (hidden tests)\n",
    "\n"
   ]
  }
 ],
 "metadata": {
  "kernelspec": {
   "display_name": "Python 3",
   "language": "python",
   "name": "python3"
  },
  "language_info": {
   "codemirror_mode": {
    "name": "ipython",
    "version": 3
   },
   "file_extension": ".py",
   "mimetype": "text/x-python",
   "name": "python",
   "nbconvert_exporter": "python",
   "pygments_lexer": "ipython3",
   "version": "3.8.10"
  }
 },
 "nbformat": 4,
 "nbformat_minor": 2
}
