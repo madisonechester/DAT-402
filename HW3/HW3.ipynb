{
 "cells": [
  {
   "cell_type": "markdown",
   "id": "8a9b302c",
   "metadata": {},
   "source": [
    "**IMPORTANT** <br> <ul> <li> Do **NOT** replace or remove this notebook (ipynb file)! Each cell has unique nbgrader's metadata and ID which, if changed outside the nbgrader, cannot pass the tests. Do **NOT** change the name of the file!</li> <li> To receive any credit, don't forget to **SUBMIT** your notebook when you are done! You can have multiple submissions before the deadline; only the last one is saved, including its timestamp.</li> <li>Before submitting, **Validate** your notebook to check if your codes pass all visible tests. </li> <li>Make sure you fill in any cell with the comment `# your code here`. Remove or comment the command `fail()` (in R), or `raise NotImplementedError` (in Python) and place your code there </li> </ul>"
   ]
  },
  {
   "cell_type": "code",
   "execution_count": 1,
   "id": "28585bfa",
   "metadata": {},
   "outputs": [],
   "source": [
    "NAME = \"Madison Chester\""
   ]
  },
  {
   "cell_type": "markdown",
   "id": "978ca0d3",
   "metadata": {},
   "source": [
    "---"
   ]
  },
  {
   "cell_type": "code",
   "execution_count": 2,
   "id": "0ae3a87f",
   "metadata": {
    "deletable": false,
    "editable": false,
    "nbgrader": {
     "cell_type": "code",
     "checksum": "e6ae66025eede4bd5ee6264ea325c14d",
     "grade": false,
     "grade_id": "cell-4ea9ea7ca2050147",
     "locked": true,
     "schema_version": 3,
     "solution": false,
     "task": false
    }
   },
   "outputs": [],
   "source": [
    "## import libraries needed\n",
    "## make sure you run this code first!\n",
    "\n",
    "library(testthat)\n",
    "library(digest)\n",
    "library(stringr)"
   ]
  },
  {
   "cell_type": "markdown",
   "id": "d3da88c4",
   "metadata": {
    "deletable": false,
    "editable": false,
    "nbgrader": {
     "cell_type": "markdown",
     "checksum": "5e2b800e0b45d34fcf5f89691f23c3d1",
     "grade": false,
     "grade_id": "cell-4b5b223551a0ce39",
     "locked": true,
     "schema_version": 3,
     "solution": false,
     "task": false
    }
   },
   "source": [
    "## Question 1.\n",
    "\n",
    "Recall that in HW1 we've seen predicting whether a person has heart disease or not, based on 14 variables/predictors. We used Naive Bayes method in Python. This time, we will use logistic regression in R.\n",
    "\n",
    "The dataset we used can be found at <https://www.statlearning.com> as Heart.csv file. \n",
    "\n",
    "Before loading the dataset, we first import libraries needed for this assignment. To do that, run the following cell and take a look at which libraries we use."
   ]
  },
  {
   "cell_type": "code",
   "execution_count": 3,
   "id": "740a2a5b",
   "metadata": {
    "deletable": false,
    "editable": false,
    "nbgrader": {
     "cell_type": "code",
     "checksum": "334b9aafc146541d68be6538230bf0a9",
     "grade": false,
     "grade_id": "cell-a4a039186cc4637f",
     "locked": true,
     "schema_version": 3,
     "solution": false,
     "task": false
    }
   },
   "outputs": [
    {
     "name": "stderr",
     "output_type": "stream",
     "text": [
      "Loading required package: Matrix\n",
      "\n",
      "Loaded glmnet 4.1-3\n",
      "\n",
      "Type 'citation(\"pROC\")' for a citation.\n",
      "\n",
      "\n",
      "Attaching package: ‘pROC’\n",
      "\n",
      "\n",
      "The following objects are masked from ‘package:stats’:\n",
      "\n",
      "    cov, smooth, var\n",
      "\n",
      "\n"
     ]
    }
   ],
   "source": [
    "\n",
    "library(glmnet) #to do logistic regression with regularization\n",
    "library(latex2exp) #used for including some latex in plots\n",
    "library(pROC) #used for plotting ROC curve\n"
   ]
  },
  {
   "cell_type": "markdown",
   "id": "c8001b25",
   "metadata": {
    "deletable": false,
    "editable": false,
    "nbgrader": {
     "cell_type": "markdown",
     "checksum": "6d430bb0a0d652e6f6a9e5514cf80e60",
     "grade": false,
     "grade_id": "cell-44c6d8aee5d3627c",
     "locked": true,
     "schema_version": 3,
     "solution": false,
     "task": false
    }
   },
   "source": [
    "\n",
    "### Importing and Cleaning Data\n",
    "\n",
    "\n",
    "<br>\n",
    "\n",
    "\n",
    "We now load the dataset stored in the same folder as this notebook. Take a look at the first couple of obs, and variables. Our output variable will be the last one, `AHD`, which is a binary variable (Yes/No), and which indicates the presence of a heart disease based on the **A**ngiographic **H**eart **D**isease test. \n",
    "\n",
    "Our goal is to predict the value of `AHD` (Yes or No) based on all the other variables."
   ]
  },
  {
   "cell_type": "code",
   "execution_count": 4,
   "id": "6c87cc99",
   "metadata": {
    "deletable": false,
    "editable": false,
    "nbgrader": {
     "cell_type": "code",
     "checksum": "b3e5b74382472e5b162175dd7adf8faf",
     "grade": false,
     "grade_id": "cell-cb6dd85784906a84",
     "locked": true,
     "schema_version": 3,
     "solution": false,
     "task": false
    }
   },
   "outputs": [
    {
     "data": {
      "text/html": [
       "<table class=\"dataframe\">\n",
       "<caption>A data.frame: 6 × 15</caption>\n",
       "<thead>\n",
       "\t<tr><th></th><th scope=col>PatientID</th><th scope=col>Age</th><th scope=col>Sex</th><th scope=col>ChestPain</th><th scope=col>RestBP</th><th scope=col>Chol</th><th scope=col>Fbs</th><th scope=col>RestECG</th><th scope=col>MaxHR</th><th scope=col>ExAng</th><th scope=col>Oldpeak</th><th scope=col>Slope</th><th scope=col>Ca</th><th scope=col>Thal</th><th scope=col>AHD</th></tr>\n",
       "\t<tr><th></th><th scope=col>&lt;int&gt;</th><th scope=col>&lt;int&gt;</th><th scope=col>&lt;int&gt;</th><th scope=col>&lt;fct&gt;</th><th scope=col>&lt;int&gt;</th><th scope=col>&lt;int&gt;</th><th scope=col>&lt;int&gt;</th><th scope=col>&lt;int&gt;</th><th scope=col>&lt;int&gt;</th><th scope=col>&lt;int&gt;</th><th scope=col>&lt;dbl&gt;</th><th scope=col>&lt;int&gt;</th><th scope=col>&lt;int&gt;</th><th scope=col>&lt;fct&gt;</th><th scope=col>&lt;fct&gt;</th></tr>\n",
       "</thead>\n",
       "<tbody>\n",
       "\t<tr><th scope=row>1</th><td>1</td><td>63</td><td>1</td><td>typical     </td><td>145</td><td>233</td><td>1</td><td>2</td><td>150</td><td>0</td><td>2.3</td><td>3</td><td>0</td><td>fixed     </td><td>No </td></tr>\n",
       "\t<tr><th scope=row>2</th><td>2</td><td>67</td><td>1</td><td>asymptomatic</td><td>160</td><td>286</td><td>0</td><td>2</td><td>108</td><td>1</td><td>1.5</td><td>2</td><td>3</td><td>normal    </td><td>Yes</td></tr>\n",
       "\t<tr><th scope=row>3</th><td>3</td><td>67</td><td>1</td><td>asymptomatic</td><td>120</td><td>229</td><td>0</td><td>2</td><td>129</td><td>1</td><td>2.6</td><td>2</td><td>2</td><td>reversable</td><td>Yes</td></tr>\n",
       "\t<tr><th scope=row>4</th><td>4</td><td>37</td><td>1</td><td>nonanginal  </td><td>130</td><td>250</td><td>0</td><td>0</td><td>187</td><td>0</td><td>3.5</td><td>3</td><td>0</td><td>normal    </td><td>No </td></tr>\n",
       "\t<tr><th scope=row>5</th><td>5</td><td>41</td><td>0</td><td>nontypical  </td><td>130</td><td>204</td><td>0</td><td>2</td><td>172</td><td>0</td><td>1.4</td><td>1</td><td>0</td><td>normal    </td><td>No </td></tr>\n",
       "\t<tr><th scope=row>6</th><td>6</td><td>56</td><td>1</td><td>nontypical  </td><td>120</td><td>236</td><td>0</td><td>0</td><td>178</td><td>0</td><td>0.8</td><td>1</td><td>0</td><td>normal    </td><td>No </td></tr>\n",
       "</tbody>\n",
       "</table>\n"
      ],
      "text/latex": [
       "A data.frame: 6 × 15\n",
       "\\begin{tabular}{r|lllllllllllllll}\n",
       "  & PatientID & Age & Sex & ChestPain & RestBP & Chol & Fbs & RestECG & MaxHR & ExAng & Oldpeak & Slope & Ca & Thal & AHD\\\\\n",
       "  & <int> & <int> & <int> & <fct> & <int> & <int> & <int> & <int> & <int> & <int> & <dbl> & <int> & <int> & <fct> & <fct>\\\\\n",
       "\\hline\n",
       "\t1 & 1 & 63 & 1 & typical      & 145 & 233 & 1 & 2 & 150 & 0 & 2.3 & 3 & 0 & fixed      & No \\\\\n",
       "\t2 & 2 & 67 & 1 & asymptomatic & 160 & 286 & 0 & 2 & 108 & 1 & 1.5 & 2 & 3 & normal     & Yes\\\\\n",
       "\t3 & 3 & 67 & 1 & asymptomatic & 120 & 229 & 0 & 2 & 129 & 1 & 2.6 & 2 & 2 & reversable & Yes\\\\\n",
       "\t4 & 4 & 37 & 1 & nonanginal   & 130 & 250 & 0 & 0 & 187 & 0 & 3.5 & 3 & 0 & normal     & No \\\\\n",
       "\t5 & 5 & 41 & 0 & nontypical   & 130 & 204 & 0 & 2 & 172 & 0 & 1.4 & 1 & 0 & normal     & No \\\\\n",
       "\t6 & 6 & 56 & 1 & nontypical   & 120 & 236 & 0 & 0 & 178 & 0 & 0.8 & 1 & 0 & normal     & No \\\\\n",
       "\\end{tabular}\n"
      ],
      "text/markdown": [
       "\n",
       "A data.frame: 6 × 15\n",
       "\n",
       "| <!--/--> | PatientID &lt;int&gt; | Age &lt;int&gt; | Sex &lt;int&gt; | ChestPain &lt;fct&gt; | RestBP &lt;int&gt; | Chol &lt;int&gt; | Fbs &lt;int&gt; | RestECG &lt;int&gt; | MaxHR &lt;int&gt; | ExAng &lt;int&gt; | Oldpeak &lt;dbl&gt; | Slope &lt;int&gt; | Ca &lt;int&gt; | Thal &lt;fct&gt; | AHD &lt;fct&gt; |\n",
       "|---|---|---|---|---|---|---|---|---|---|---|---|---|---|---|---|\n",
       "| 1 | 1 | 63 | 1 | typical      | 145 | 233 | 1 | 2 | 150 | 0 | 2.3 | 3 | 0 | fixed      | No  |\n",
       "| 2 | 2 | 67 | 1 | asymptomatic | 160 | 286 | 0 | 2 | 108 | 1 | 1.5 | 2 | 3 | normal     | Yes |\n",
       "| 3 | 3 | 67 | 1 | asymptomatic | 120 | 229 | 0 | 2 | 129 | 1 | 2.6 | 2 | 2 | reversable | Yes |\n",
       "| 4 | 4 | 37 | 1 | nonanginal   | 130 | 250 | 0 | 0 | 187 | 0 | 3.5 | 3 | 0 | normal     | No  |\n",
       "| 5 | 5 | 41 | 0 | nontypical   | 130 | 204 | 0 | 2 | 172 | 0 | 1.4 | 1 | 0 | normal     | No  |\n",
       "| 6 | 6 | 56 | 1 | nontypical   | 120 | 236 | 0 | 0 | 178 | 0 | 0.8 | 1 | 0 | normal     | No  |\n",
       "\n"
      ],
      "text/plain": [
       "  PatientID Age Sex ChestPain    RestBP Chol Fbs RestECG MaxHR ExAng Oldpeak\n",
       "1 1         63  1   typical      145    233  1   2       150   0     2.3    \n",
       "2 2         67  1   asymptomatic 160    286  0   2       108   1     1.5    \n",
       "3 3         67  1   asymptomatic 120    229  0   2       129   1     2.6    \n",
       "4 4         37  1   nonanginal   130    250  0   0       187   0     3.5    \n",
       "5 5         41  0   nontypical   130    204  0   2       172   0     1.4    \n",
       "6 6         56  1   nontypical   120    236  0   0       178   0     0.8    \n",
       "  Slope Ca Thal       AHD\n",
       "1 3     0  fixed      No \n",
       "2 2     3  normal     Yes\n",
       "3 2     2  reversable Yes\n",
       "4 3     0  normal     No \n",
       "5 1     0  normal     No \n",
       "6 1     0  normal     No "
      ]
     },
     "metadata": {},
     "output_type": "display_data"
    },
    {
     "data": {
      "text/html": [
       "<style>\n",
       ".list-inline {list-style: none; margin:0; padding: 0}\n",
       ".list-inline>li {display: inline-block}\n",
       ".list-inline>li:not(:last-child)::after {content: \"\\00b7\"; padding: 0 .5ex}\n",
       "</style>\n",
       "<ol class=list-inline><li>303</li><li>15</li></ol>\n"
      ],
      "text/latex": [
       "\\begin{enumerate*}\n",
       "\\item 303\n",
       "\\item 15\n",
       "\\end{enumerate*}\n"
      ],
      "text/markdown": [
       "1. 303\n",
       "2. 15\n",
       "\n",
       "\n"
      ],
      "text/plain": [
       "[1] 303  15"
      ]
     },
     "metadata": {},
     "output_type": "display_data"
    }
   ],
   "source": [
    "\n",
    "heart = read.csv(\"Heart.csv\")\n",
    "head(heart)\n",
    "dim(heart)\n",
    "\n"
   ]
  },
  {
   "cell_type": "markdown",
   "id": "30164677",
   "metadata": {
    "deletable": false,
    "editable": false,
    "nbgrader": {
     "cell_type": "markdown",
     "checksum": "d26536bb42cc8adc757d781a737cf8e4",
     "grade": false,
     "grade_id": "cell-6699c78e0b540bc1",
     "locked": true,
     "schema_version": 3,
     "solution": false,
     "task": false
    }
   },
   "source": [
    "Our R data frame object `heart` has some missing values, although only 6. Run the following code to see that."
   ]
  },
  {
   "cell_type": "code",
   "execution_count": 5,
   "id": "d122d6aa",
   "metadata": {
    "deletable": false,
    "editable": false,
    "nbgrader": {
     "cell_type": "code",
     "checksum": "3eb846a1132d62889c3123f081b0b217",
     "grade": false,
     "grade_id": "cell-09a18c23ed9149ff",
     "locked": true,
     "schema_version": 3,
     "solution": false,
     "task": false
    }
   },
   "outputs": [
    {
     "data": {
      "text/html": [
       "6"
      ],
      "text/latex": [
       "6"
      ],
      "text/markdown": [
       "6"
      ],
      "text/plain": [
       "[1] 6"
      ]
     },
     "metadata": {},
     "output_type": "display_data"
    }
   ],
   "source": [
    "sum(is.na(heart))"
   ]
  },
  {
   "cell_type": "markdown",
   "id": "b1329b2d",
   "metadata": {
    "deletable": false,
    "editable": false,
    "nbgrader": {
     "cell_type": "markdown",
     "checksum": "5eb5b1749f4dd505773b3b741efadad2",
     "grade": false,
     "grade_id": "cell-43778ae0e5aa8754",
     "locked": true,
     "schema_version": 3,
     "solution": false,
     "task": false
    }
   },
   "source": [
    "We will drop the observations (rows) that contain missing data.\n",
    "\n",
    "<br>\n",
    "\n",
    "### Part (a)\n",
    "\n",
    "<br>\n",
    "\n",
    "\n",
    "Change the data frame `heart` by dropping/omitting the rows with missing values (use the same name \"heart\" for the modified data frame). So, your code should be of the form\n",
    "\n",
    "`heart = <some expression>`\n",
    "\n",
    "<br>\n",
    "\n",
    "The modified `heart` dataframe should have 297 rows/obs. "
   ]
  },
  {
   "cell_type": "code",
   "execution_count": 6,
   "id": "14e39975",
   "metadata": {
    "deletable": false,
    "nbgrader": {
     "cell_type": "code",
     "checksum": "3bff67005855c016ac707ba9e4632099",
     "grade": false,
     "grade_id": "cell-fcf795dde2880b3f",
     "locked": false,
     "schema_version": 3,
     "solution": true,
     "task": false
    }
   },
   "outputs": [
    {
     "data": {
      "text/html": [
       "<table class=\"dataframe\">\n",
       "<caption>A data.frame: 6 × 15</caption>\n",
       "<thead>\n",
       "\t<tr><th></th><th scope=col>PatientID</th><th scope=col>Age</th><th scope=col>Sex</th><th scope=col>ChestPain</th><th scope=col>RestBP</th><th scope=col>Chol</th><th scope=col>Fbs</th><th scope=col>RestECG</th><th scope=col>MaxHR</th><th scope=col>ExAng</th><th scope=col>Oldpeak</th><th scope=col>Slope</th><th scope=col>Ca</th><th scope=col>Thal</th><th scope=col>AHD</th></tr>\n",
       "\t<tr><th></th><th scope=col>&lt;int&gt;</th><th scope=col>&lt;int&gt;</th><th scope=col>&lt;int&gt;</th><th scope=col>&lt;fct&gt;</th><th scope=col>&lt;int&gt;</th><th scope=col>&lt;int&gt;</th><th scope=col>&lt;int&gt;</th><th scope=col>&lt;int&gt;</th><th scope=col>&lt;int&gt;</th><th scope=col>&lt;int&gt;</th><th scope=col>&lt;dbl&gt;</th><th scope=col>&lt;int&gt;</th><th scope=col>&lt;int&gt;</th><th scope=col>&lt;fct&gt;</th><th scope=col>&lt;fct&gt;</th></tr>\n",
       "</thead>\n",
       "<tbody>\n",
       "\t<tr><th scope=row>1</th><td>1</td><td>63</td><td>1</td><td>typical     </td><td>145</td><td>233</td><td>1</td><td>2</td><td>150</td><td>0</td><td>2.3</td><td>3</td><td>0</td><td>fixed     </td><td>No </td></tr>\n",
       "\t<tr><th scope=row>2</th><td>2</td><td>67</td><td>1</td><td>asymptomatic</td><td>160</td><td>286</td><td>0</td><td>2</td><td>108</td><td>1</td><td>1.5</td><td>2</td><td>3</td><td>normal    </td><td>Yes</td></tr>\n",
       "\t<tr><th scope=row>3</th><td>3</td><td>67</td><td>1</td><td>asymptomatic</td><td>120</td><td>229</td><td>0</td><td>2</td><td>129</td><td>1</td><td>2.6</td><td>2</td><td>2</td><td>reversable</td><td>Yes</td></tr>\n",
       "\t<tr><th scope=row>4</th><td>4</td><td>37</td><td>1</td><td>nonanginal  </td><td>130</td><td>250</td><td>0</td><td>0</td><td>187</td><td>0</td><td>3.5</td><td>3</td><td>0</td><td>normal    </td><td>No </td></tr>\n",
       "\t<tr><th scope=row>5</th><td>5</td><td>41</td><td>0</td><td>nontypical  </td><td>130</td><td>204</td><td>0</td><td>2</td><td>172</td><td>0</td><td>1.4</td><td>1</td><td>0</td><td>normal    </td><td>No </td></tr>\n",
       "\t<tr><th scope=row>6</th><td>6</td><td>56</td><td>1</td><td>nontypical  </td><td>120</td><td>236</td><td>0</td><td>0</td><td>178</td><td>0</td><td>0.8</td><td>1</td><td>0</td><td>normal    </td><td>No </td></tr>\n",
       "</tbody>\n",
       "</table>\n"
      ],
      "text/latex": [
       "A data.frame: 6 × 15\n",
       "\\begin{tabular}{r|lllllllllllllll}\n",
       "  & PatientID & Age & Sex & ChestPain & RestBP & Chol & Fbs & RestECG & MaxHR & ExAng & Oldpeak & Slope & Ca & Thal & AHD\\\\\n",
       "  & <int> & <int> & <int> & <fct> & <int> & <int> & <int> & <int> & <int> & <int> & <dbl> & <int> & <int> & <fct> & <fct>\\\\\n",
       "\\hline\n",
       "\t1 & 1 & 63 & 1 & typical      & 145 & 233 & 1 & 2 & 150 & 0 & 2.3 & 3 & 0 & fixed      & No \\\\\n",
       "\t2 & 2 & 67 & 1 & asymptomatic & 160 & 286 & 0 & 2 & 108 & 1 & 1.5 & 2 & 3 & normal     & Yes\\\\\n",
       "\t3 & 3 & 67 & 1 & asymptomatic & 120 & 229 & 0 & 2 & 129 & 1 & 2.6 & 2 & 2 & reversable & Yes\\\\\n",
       "\t4 & 4 & 37 & 1 & nonanginal   & 130 & 250 & 0 & 0 & 187 & 0 & 3.5 & 3 & 0 & normal     & No \\\\\n",
       "\t5 & 5 & 41 & 0 & nontypical   & 130 & 204 & 0 & 2 & 172 & 0 & 1.4 & 1 & 0 & normal     & No \\\\\n",
       "\t6 & 6 & 56 & 1 & nontypical   & 120 & 236 & 0 & 0 & 178 & 0 & 0.8 & 1 & 0 & normal     & No \\\\\n",
       "\\end{tabular}\n"
      ],
      "text/markdown": [
       "\n",
       "A data.frame: 6 × 15\n",
       "\n",
       "| <!--/--> | PatientID &lt;int&gt; | Age &lt;int&gt; | Sex &lt;int&gt; | ChestPain &lt;fct&gt; | RestBP &lt;int&gt; | Chol &lt;int&gt; | Fbs &lt;int&gt; | RestECG &lt;int&gt; | MaxHR &lt;int&gt; | ExAng &lt;int&gt; | Oldpeak &lt;dbl&gt; | Slope &lt;int&gt; | Ca &lt;int&gt; | Thal &lt;fct&gt; | AHD &lt;fct&gt; |\n",
       "|---|---|---|---|---|---|---|---|---|---|---|---|---|---|---|---|\n",
       "| 1 | 1 | 63 | 1 | typical      | 145 | 233 | 1 | 2 | 150 | 0 | 2.3 | 3 | 0 | fixed      | No  |\n",
       "| 2 | 2 | 67 | 1 | asymptomatic | 160 | 286 | 0 | 2 | 108 | 1 | 1.5 | 2 | 3 | normal     | Yes |\n",
       "| 3 | 3 | 67 | 1 | asymptomatic | 120 | 229 | 0 | 2 | 129 | 1 | 2.6 | 2 | 2 | reversable | Yes |\n",
       "| 4 | 4 | 37 | 1 | nonanginal   | 130 | 250 | 0 | 0 | 187 | 0 | 3.5 | 3 | 0 | normal     | No  |\n",
       "| 5 | 5 | 41 | 0 | nontypical   | 130 | 204 | 0 | 2 | 172 | 0 | 1.4 | 1 | 0 | normal     | No  |\n",
       "| 6 | 6 | 56 | 1 | nontypical   | 120 | 236 | 0 | 0 | 178 | 0 | 0.8 | 1 | 0 | normal     | No  |\n",
       "\n"
      ],
      "text/plain": [
       "  PatientID Age Sex ChestPain    RestBP Chol Fbs RestECG MaxHR ExAng Oldpeak\n",
       "1 1         63  1   typical      145    233  1   2       150   0     2.3    \n",
       "2 2         67  1   asymptomatic 160    286  0   2       108   1     1.5    \n",
       "3 3         67  1   asymptomatic 120    229  0   2       129   1     2.6    \n",
       "4 4         37  1   nonanginal   130    250  0   0       187   0     3.5    \n",
       "5 5         41  0   nontypical   130    204  0   2       172   0     1.4    \n",
       "6 6         56  1   nontypical   120    236  0   0       178   0     0.8    \n",
       "  Slope Ca Thal       AHD\n",
       "1 3     0  fixed      No \n",
       "2 2     3  normal     Yes\n",
       "3 2     2  reversable Yes\n",
       "4 3     0  normal     No \n",
       "5 1     0  normal     No \n",
       "6 1     0  normal     No "
      ]
     },
     "metadata": {},
     "output_type": "display_data"
    }
   ],
   "source": [
    "heart = na.omit(heart)\n",
    "head(heart) #sanity check"
   ]
  },
  {
   "cell_type": "code",
   "execution_count": 7,
   "id": "bacb61a6",
   "metadata": {
    "deletable": false,
    "editable": false,
    "nbgrader": {
     "cell_type": "code",
     "checksum": "35b25af0763e542fc9a5ef1717d7f1c7",
     "grade": true,
     "grade_id": "cell-25b3f5a0d5310369",
     "locked": true,
     "points": 3,
     "schema_version": 3,
     "solution": false,
     "task": false
    }
   },
   "outputs": [
    {
     "name": "stdout",
     "output_type": "stream",
     "text": [
      "\u001b[32mTest passed\u001b[39m 🎉\n",
      "\u001b[32mTest passed\u001b[39m 🥳\n"
     ]
    }
   ],
   "source": [
    "## check whether heart is a data frame and of correct dimensions\n",
    "\n",
    "if (test_that(desc=\"\", code={\n",
    "    expect_equal(is.data.frame(heart), TRUE)\n",
    "    }) != TRUE) stop(\"Sorry, wrong answer\")\n",
    "\n",
    "if (test_that(desc=\"\", code={\n",
    "    expect_equal(dim(heart), c(297,15))\n",
    "    }) != TRUE) stop(\"Sorry, wrong dimensions of the data frame heart\")\n"
   ]
  },
  {
   "cell_type": "markdown",
   "id": "90ca90c2",
   "metadata": {
    "deletable": false,
    "editable": false,
    "nbgrader": {
     "cell_type": "markdown",
     "checksum": "58885b0e29c9025ad5c21c5d274c4e5c",
     "grade": false,
     "grade_id": "cell-126e8f8bca8eaae2",
     "locked": true,
     "schema_version": 3,
     "solution": false,
     "task": false
    }
   },
   "source": [
    "### Train-Test Split\n",
    "\n",
    "Next, we split our dataset into training and testing data at the ration 70/30. These two new data frame will be called `train` and `test`. \n",
    "\n",
    "To make sure everyone is on the same page, we set the seed (to 1234) before randomly choose 70% of the data as training data.\n",
    "\n"
   ]
  },
  {
   "cell_type": "code",
   "execution_count": 8,
   "id": "ea99d7f0",
   "metadata": {
    "deletable": false,
    "editable": false,
    "nbgrader": {
     "cell_type": "code",
     "checksum": "e8804fbc62c90a51f99e8d9fed52c828",
     "grade": false,
     "grade_id": "cell-e28cfbea09f7af27",
     "locked": true,
     "schema_version": 3,
     "solution": false,
     "task": false
    }
   },
   "outputs": [
    {
     "data": {
      "text/html": [
       "<style>\n",
       ".list-inline {list-style: none; margin:0; padding: 0}\n",
       ".list-inline>li {display: inline-block}\n",
       ".list-inline>li:not(:last-child)::after {content: \"\\00b7\"; padding: 0 .5ex}\n",
       "</style>\n",
       "<ol class=list-inline><li>207</li><li>15</li></ol>\n"
      ],
      "text/latex": [
       "\\begin{enumerate*}\n",
       "\\item 207\n",
       "\\item 15\n",
       "\\end{enumerate*}\n"
      ],
      "text/markdown": [
       "1. 207\n",
       "2. 15\n",
       "\n",
       "\n"
      ],
      "text/plain": [
       "[1] 207  15"
      ]
     },
     "metadata": {},
     "output_type": "display_data"
    },
    {
     "data": {
      "text/plain": [
       "[1] proportion of train data: 0.696969696969697"
      ]
     },
     "metadata": {},
     "output_type": "display_data"
    },
    {
     "data": {
      "text/plain": [
       "[1] proportion of test data: 0.303030303030303"
      ]
     },
     "metadata": {},
     "output_type": "display_data"
    }
   ],
   "source": [
    "set.seed(1234)\n",
    "trainidx = sample(1:nrow(heart),size=0.7*nrow(heart),replace=FALSE)\n",
    "\n",
    "\n",
    "train = heart[trainidx, ]\n",
    "test = heart[-trainidx, ]\n",
    "\n",
    "dim(train) #see the dimensions of train data frame\n",
    "\n",
    "#check the proportions 70%-30% of data taken into the train and test data frames\n",
    "noquote(paste(\"proportion of train data:\",nrow(train)/nrow(heart)))\n",
    "noquote(paste(\"proportion of test data:\",nrow(test)/nrow(heart)))"
   ]
  },
  {
   "cell_type": "code",
   "execution_count": 9,
   "id": "178b8b1b",
   "metadata": {
    "deletable": false,
    "editable": false,
    "nbgrader": {
     "cell_type": "code",
     "checksum": "bd808ae9c29e62231bc373f956b6954e",
     "grade": false,
     "grade_id": "cell-fec6b6d437c3935a",
     "locked": true,
     "schema_version": 3,
     "solution": false,
     "task": false
    }
   },
   "outputs": [
    {
     "data": {
      "text/html": [
       "<style>\n",
       ".list-inline {list-style: none; margin:0; padding: 0}\n",
       ".list-inline>li {display: inline-block}\n",
       ".list-inline>li:not(:last-child)::after {content: \"\\00b7\"; padding: 0 .5ex}\n",
       "</style>\n",
       "<ol class=list-inline><li>207</li><li>13</li></ol>\n"
      ],
      "text/latex": [
       "\\begin{enumerate*}\n",
       "\\item 207\n",
       "\\item 13\n",
       "\\end{enumerate*}\n"
      ],
      "text/markdown": [
       "1. 207\n",
       "2. 13\n",
       "\n",
       "\n"
      ],
      "text/plain": [
       "[1] 207  13"
      ]
     },
     "metadata": {},
     "output_type": "display_data"
    }
   ],
   "source": [
    "\n",
    "#get response vector y and predictor matrix (in fact, data frame) X from heart data\n",
    "y = train$AHD\n",
    "X = train[ ,!(names(train) %in% c(\"PatientID\",\"AHD\"))] #all but PatientID and AHD\n",
    "dim(X)"
   ]
  },
  {
   "cell_type": "markdown",
   "id": "6cd0dc04",
   "metadata": {
    "deletable": false,
    "editable": false,
    "nbgrader": {
     "cell_type": "markdown",
     "checksum": "b5cac0094a3c01c678b52fad3a69ed66",
     "grade": false,
     "grade_id": "cell-e68af4b657ad32c7",
     "locked": true,
     "schema_version": 3,
     "solution": false,
     "task": false
    }
   },
   "source": [
    "## Preprocessing Categorical Predictors\n",
    "\n",
    "<br>\n",
    "\n",
    "Our predictor matrix `X` is actually an R data frame. In order to use it in the `cv.glmnet()` function from `glmnet` library, we should convert it into an R matrix object. Furthermore, the function `cv.glmnet()` does not take care of categorical variables (by creating dummies) automatically. So, we need to preprocess categorical variables and code the levels into dummy variables.\n",
    "\n",
    "By running the following code, you see that `ChestPain` and `Thal` are categorical variables, having 4 and 3 levels (i.e. categories), respectively.\n"
   ]
  },
  {
   "cell_type": "code",
   "execution_count": 10,
   "id": "f2db6a95",
   "metadata": {
    "deletable": false,
    "editable": false,
    "nbgrader": {
     "cell_type": "code",
     "checksum": "a3c95cfb4b54884844751fe077d6f154",
     "grade": false,
     "grade_id": "cell-680624a93876ca31",
     "locked": true,
     "schema_version": 3,
     "solution": false,
     "task": false
    }
   },
   "outputs": [
    {
     "name": "stdout",
     "output_type": "stream",
     "text": [
      "'data.frame':\t207 obs. of  13 variables:\n",
      " $ Age      : int  56 34 56 51 52 71 46 66 48 71 ...\n",
      " $ Sex      : int  1 1 1 1 1 0 0 1 1 0 ...\n",
      " $ ChestPain: Factor w/ 4 levels \"asymptomatic\",..: 3 4 1 1 3 2 3 1 3 1 ...\n",
      " $ RestBP   : int  130 118 125 140 134 110 105 120 130 112 ...\n",
      " $ Chol     : int  221 182 249 261 201 265 204 302 245 149 ...\n",
      " $ Fbs      : int  0 0 1 0 0 1 0 0 0 0 ...\n",
      " $ RestECG  : int  2 2 2 2 0 2 0 2 2 0 ...\n",
      " $ MaxHR    : int  163 174 144 186 158 130 172 151 180 125 ...\n",
      " $ ExAng    : int  0 0 1 1 0 0 0 0 0 0 ...\n",
      " $ Oldpeak  : num  0 0 1.2 0 0.8 0 0 0.4 0.2 1.6 ...\n",
      " $ Slope    : int  1 1 2 1 1 1 1 2 2 2 ...\n",
      " $ Ca       : int  0 0 1 0 1 1 0 0 0 0 ...\n",
      " $ Thal     : Factor w/ 3 levels \"fixed\",\"normal\",..: 3 2 2 2 2 2 2 2 2 2 ...\n"
     ]
    }
   ],
   "source": [
    "str(X) #structure of X"
   ]
  },
  {
   "cell_type": "markdown",
   "id": "3dbd1ba4",
   "metadata": {
    "deletable": false,
    "editable": false,
    "nbgrader": {
     "cell_type": "markdown",
     "checksum": "024c4530905cb36eea3e993b2129706c",
     "grade": false,
     "grade_id": "cell-28eac17630ea9dd4",
     "locked": true,
     "schema_version": 3,
     "solution": false,
     "task": false
    }
   },
   "source": [
    "To dummy up our categorical variables, we only need one line of code:\n",
    "\n",
    "`X = model.matrix( ~ . , data=X)[,-1]`\n",
    "\n",
    "By having `[,-1]` at the end we are dropping the first column of `model.matrix( ~ . , data=X)`, which is the column of 1's (for the intercept). Function `cv.glmnet()` needs matrix of predictors only, i.e. without 1's. "
   ]
  },
  {
   "cell_type": "code",
   "execution_count": 11,
   "id": "11988ed1",
   "metadata": {
    "deletable": false,
    "editable": false,
    "nbgrader": {
     "cell_type": "code",
     "checksum": "94912ed47a691eb545f1010fc9cdc46d",
     "grade": false,
     "grade_id": "cell-90e05fcf68ae7f74",
     "locked": true,
     "schema_version": 3,
     "solution": false,
     "task": false
    }
   },
   "outputs": [
    {
     "data": {
      "text/html": [
       "<style>\n",
       ".list-inline {list-style: none; margin:0; padding: 0}\n",
       ".list-inline>li {display: inline-block}\n",
       ".list-inline>li:not(:last-child)::after {content: \"\\00b7\"; padding: 0 .5ex}\n",
       "</style>\n",
       "<ol class=list-inline><li>207</li><li>16</li></ol>\n"
      ],
      "text/latex": [
       "\\begin{enumerate*}\n",
       "\\item 207\n",
       "\\item 16\n",
       "\\end{enumerate*}\n"
      ],
      "text/markdown": [
       "1. 207\n",
       "2. 16\n",
       "\n",
       "\n"
      ],
      "text/plain": [
       "[1] 207  16"
      ]
     },
     "metadata": {},
     "output_type": "display_data"
    },
    {
     "data": {
      "text/html": [
       "<table class=\"dataframe\">\n",
       "<caption>A matrix: 5 × 16 of type dbl</caption>\n",
       "<thead>\n",
       "\t<tr><th></th><th scope=col>Age</th><th scope=col>Sex</th><th scope=col>ChestPainnonanginal</th><th scope=col>ChestPainnontypical</th><th scope=col>ChestPaintypical</th><th scope=col>RestBP</th><th scope=col>Chol</th><th scope=col>Fbs</th><th scope=col>RestECG</th><th scope=col>MaxHR</th><th scope=col>ExAng</th><th scope=col>Oldpeak</th><th scope=col>Slope</th><th scope=col>Ca</th><th scope=col>Thalnormal</th><th scope=col>Thalreversable</th></tr>\n",
       "</thead>\n",
       "<tbody>\n",
       "\t<tr><th scope=row>289</th><td>56</td><td>1</td><td>0</td><td>1</td><td>0</td><td>130</td><td>221</td><td>0</td><td>2</td><td>163</td><td>0</td><td>0.0</td><td>1</td><td>0</td><td>0</td><td>1</td></tr>\n",
       "\t<tr><th scope=row>102</th><td>34</td><td>1</td><td>0</td><td>0</td><td>1</td><td>118</td><td>182</td><td>0</td><td>2</td><td>174</td><td>0</td><td>0.0</td><td>1</td><td>0</td><td>1</td><td>0</td></tr>\n",
       "\t<tr><th scope=row>112</th><td>56</td><td>1</td><td>0</td><td>0</td><td>0</td><td>125</td><td>249</td><td>1</td><td>2</td><td>144</td><td>1</td><td>1.2</td><td>2</td><td>1</td><td>1</td><td>0</td></tr>\n",
       "\t<tr><th scope=row>134</th><td>51</td><td>1</td><td>0</td><td>0</td><td>0</td><td>140</td><td>261</td><td>0</td><td>2</td><td>186</td><td>1</td><td>0.0</td><td>1</td><td>0</td><td>1</td><td>0</td></tr>\n",
       "\t<tr><th scope=row>99</th><td>52</td><td>1</td><td>0</td><td>1</td><td>0</td><td>134</td><td>201</td><td>0</td><td>0</td><td>158</td><td>0</td><td>0.8</td><td>1</td><td>1</td><td>1</td><td>0</td></tr>\n",
       "</tbody>\n",
       "</table>\n"
      ],
      "text/latex": [
       "A matrix: 5 × 16 of type dbl\n",
       "\\begin{tabular}{r|llllllllllllllll}\n",
       "  & Age & Sex & ChestPainnonanginal & ChestPainnontypical & ChestPaintypical & RestBP & Chol & Fbs & RestECG & MaxHR & ExAng & Oldpeak & Slope & Ca & Thalnormal & Thalreversable\\\\\n",
       "\\hline\n",
       "\t289 & 56 & 1 & 0 & 1 & 0 & 130 & 221 & 0 & 2 & 163 & 0 & 0.0 & 1 & 0 & 0 & 1\\\\\n",
       "\t102 & 34 & 1 & 0 & 0 & 1 & 118 & 182 & 0 & 2 & 174 & 0 & 0.0 & 1 & 0 & 1 & 0\\\\\n",
       "\t112 & 56 & 1 & 0 & 0 & 0 & 125 & 249 & 1 & 2 & 144 & 1 & 1.2 & 2 & 1 & 1 & 0\\\\\n",
       "\t134 & 51 & 1 & 0 & 0 & 0 & 140 & 261 & 0 & 2 & 186 & 1 & 0.0 & 1 & 0 & 1 & 0\\\\\n",
       "\t99 & 52 & 1 & 0 & 1 & 0 & 134 & 201 & 0 & 0 & 158 & 0 & 0.8 & 1 & 1 & 1 & 0\\\\\n",
       "\\end{tabular}\n"
      ],
      "text/markdown": [
       "\n",
       "A matrix: 5 × 16 of type dbl\n",
       "\n",
       "| <!--/--> | Age | Sex | ChestPainnonanginal | ChestPainnontypical | ChestPaintypical | RestBP | Chol | Fbs | RestECG | MaxHR | ExAng | Oldpeak | Slope | Ca | Thalnormal | Thalreversable |\n",
       "|---|---|---|---|---|---|---|---|---|---|---|---|---|---|---|---|---|\n",
       "| 289 | 56 | 1 | 0 | 1 | 0 | 130 | 221 | 0 | 2 | 163 | 0 | 0.0 | 1 | 0 | 0 | 1 |\n",
       "| 102 | 34 | 1 | 0 | 0 | 1 | 118 | 182 | 0 | 2 | 174 | 0 | 0.0 | 1 | 0 | 1 | 0 |\n",
       "| 112 | 56 | 1 | 0 | 0 | 0 | 125 | 249 | 1 | 2 | 144 | 1 | 1.2 | 2 | 1 | 1 | 0 |\n",
       "| 134 | 51 | 1 | 0 | 0 | 0 | 140 | 261 | 0 | 2 | 186 | 1 | 0.0 | 1 | 0 | 1 | 0 |\n",
       "| 99 | 52 | 1 | 0 | 1 | 0 | 134 | 201 | 0 | 0 | 158 | 0 | 0.8 | 1 | 1 | 1 | 0 |\n",
       "\n"
      ],
      "text/plain": [
       "    Age Sex ChestPainnonanginal ChestPainnontypical ChestPaintypical RestBP\n",
       "289 56  1   0                   1                   0                130   \n",
       "102 34  1   0                   0                   1                118   \n",
       "112 56  1   0                   0                   0                125   \n",
       "134 51  1   0                   0                   0                140   \n",
       "99  52  1   0                   1                   0                134   \n",
       "    Chol Fbs RestECG MaxHR ExAng Oldpeak Slope Ca Thalnormal Thalreversable\n",
       "289 221  0   2       163   0     0.0     1     0  0          1             \n",
       "102 182  0   2       174   0     0.0     1     0  1          0             \n",
       "112 249  1   2       144   1     1.2     2     1  1          0             \n",
       "134 261  0   2       186   1     0.0     1     0  1          0             \n",
       "99  201  0   0       158   0     0.8     1     1  1          0             "
      ]
     },
     "metadata": {},
     "output_type": "display_data"
    }
   ],
   "source": [
    "X = model.matrix( ~ . , data=X)[,-1]\n",
    "\n",
    "dim(X)\n",
    "\n",
    "X[1:5,]"
   ]
  },
  {
   "cell_type": "markdown",
   "id": "301213de",
   "metadata": {
    "deletable": false,
    "editable": false,
    "nbgrader": {
     "cell_type": "markdown",
     "checksum": "d10f247908be586e46d67c03d312bded",
     "grade": false,
     "grade_id": "cell-0c8350b6affd830e",
     "locked": true,
     "schema_version": 3,
     "solution": false,
     "task": false
    }
   },
   "source": [
    "Note that there are 3 dummies for the 4-level variable `ChestPain`. The level `asymptomatic` does not need a dummy, if we dummy up the other three levels. As discussed in class, this is because when the sum of the three dummies is 0 (i.e. `ChestPain` value is neither of the three levels), that indicates the corresponding observation has level `asymptomatic`. Note also that the names of all dummies are concatenation of the name of the variable (`ChestPain`) and the corresponding level.\n",
    "\n",
    "Similarly, variable `Thal` which has 3 levels was dummied up by 2 dummies. Consequently, instead of 13 columns, we now have 16.\n",
    "\n",
    "By the way, we could also use one-hot coding, where for each level of a catogorical variable we have a corresponding indicator variable, with 1 if the observation has that level, and 0 otherwise. However, the dummy encoding used above has one dummy variable less for each categorical variable, than one-hot encoding. The extra dummy variable is redundant, although the one-hot encoding is a bit more readable.\n",
    "\n"
   ]
  },
  {
   "cell_type": "markdown",
   "id": "a973dee3",
   "metadata": {
    "deletable": false,
    "editable": false,
    "nbgrader": {
     "cell_type": "markdown",
     "checksum": "c0ba8422e55753e15bbe93449e429de6",
     "grade": false,
     "grade_id": "cell-c64ba1e1267d1e77",
     "locked": true,
     "schema_version": 3,
     "solution": false,
     "task": false
    }
   },
   "source": [
    "### Ridge Regularization\n",
    "\n",
    "<br>\n",
    "\n",
    "\n",
    "To fit the model, we use cross-validation to tune the hyperparameter $\\lambda$. For that purpose, we deploy the function `cv.glmnet()` from the library `glmnet`.\n",
    "\n",
    "<br>\n",
    "\n",
    "We will use both **deviance** $D = -2\\ln L(\\beta)=2\\ell(\\beta)$  (common for logistic regression), and **mean squared error** $MSE = \\sum_i(y_i-\\hat{y}_i)^2$ as measures of goodness of fit.\n",
    "\n",
    "\n",
    "**Note**: In logistic regression (i.e. when the only values of the output are 0-1), we have that $\\forall i, \\,\\,(y_i-\\hat{y}_i)^2\\in\\{0,1\\}$. So, $MSE$ = 1 - accuracy.\n",
    "\n",
    "Also, we will set the grid for lambda manually, rather than letting the function `cv.glmnet()` to decide for us. One should be cautions when setting the lambda grid manually, as sometimes that may lead to issues with convergence of the algorithm; also, it is less efficient. For more details, see the documentation for `cv.glmnet()`. The only reason for setting lambda grid manually here is so that the plots are a bit nicer.\n",
    "\n",
    "<br>\n",
    "\n",
    "**Run the following cells and study the codes/commands and their outputs, as well as the comments that preceed the commands. The comments are explanations of the commands, and some of them are also hints for the parts that you need to do.**"
   ]
  },
  {
   "cell_type": "code",
   "execution_count": 12,
   "id": "14419b81",
   "metadata": {
    "deletable": false,
    "editable": false,
    "nbgrader": {
     "cell_type": "code",
     "checksum": "4d8db4ee613a293e1c1839f3c3515c20",
     "grade": false,
     "grade_id": "cell-0278174f66fa3877",
     "locked": true,
     "schema_version": 3,
     "solution": false,
     "task": false
    }
   },
   "outputs": [
    {
     "data": {
      "image/png": "[encoded data removed]",
      "text/plain": [
       "plot without title"
      ]
     },
     "metadata": {
      "image/png": {
       "height": 420,
       "width": 420
      }
     },
     "output_type": "display_data"
    }
   ],
   "source": [
    "#setting lambda grid manually\n",
    "mylambda=seq(0,2,by=0.005) \n",
    "\n",
    "#Here, we use deviance as a measure performance.\n",
    "\n",
    "#by default, for logistic regression, type.measure is \"deviance\"\n",
    "cvfit = cv.glmnet(X,y,family = \"binomial\",lambda=mylambda,type.measure=\"deviance\",\n",
    "                  nfolds = 10, alpha = 0)  #alpha- ridge:0, lasso:1\n",
    "#plot Ridge based on deviance\n",
    "plot(cvfit)  #note on x-axis in the plot is log(lambda), not log(1/lambda)\n"
   ]
  },
  {
   "cell_type": "code",
   "execution_count": 13,
   "id": "aef97ff1",
   "metadata": {
    "deletable": false,
    "editable": false,
    "nbgrader": {
     "cell_type": "code",
     "checksum": "420bdf3a47d3098b7421b6e1be342dce",
     "grade": false,
     "grade_id": "cell-baf205d08f0c4714",
     "locked": true,
     "schema_version": 3,
     "solution": false,
     "task": false
    }
   },
   "outputs": [
    {
     "data": {
      "image/png": "[encoded data removed]",
      "text/plain": [
       "plot without title"
      ]
     },
     "metadata": {
      "image/png": {
       "height": 420,
       "width": 420
      }
     },
     "output_type": "display_data"
    }
   ],
   "source": [
    "#Here, we use MSE as a measure of performance. \n",
    "\n",
    "#by default, for logistic regression, type.measure is \"deviance\"\n",
    "cvfit = cv.glmnet(X,y,family = \"binomial\",lambda=mylambda, type.measure=\"mse\",\n",
    "                  nfolds = 10, alpha = 0)  #alpha- ridge:0, lasso:1\n",
    "#plot Ridge based on mse\n",
    "plot(cvfit)  #note on x-axis in the plot is log(lambda), not log(1/lambda)\n",
    "\n"
   ]
  },
  {
   "cell_type": "code",
   "execution_count": 14,
   "id": "65608ce6",
   "metadata": {
    "deletable": false,
    "editable": false,
    "nbgrader": {
     "cell_type": "code",
     "checksum": "5b284b274a6d545289b4447b9f8cc862",
     "grade": false,
     "grade_id": "cell-803e88cdc33ca4ff",
     "locked": true,
     "schema_version": 3,
     "solution": false,
     "task": false
    }
   },
   "outputs": [
    {
     "name": "stdout",
     "output_type": "stream",
     "text": [
      "List of 12\n",
      " $ lambda    : num [1:401] 2 2 1.99 1.99 1.98 ...\n",
      " $ cvm       : num [1:401] 0.366 0.365 0.365 0.365 0.365 ...\n",
      " $ cvsd      : num [1:401] 0.0074 0.00741 0.00741 0.00742 0.00742 ...\n",
      " $ cvup      : num [1:401] 0.373 0.373 0.373 0.373 0.372 ...\n",
      " $ cvlo      : num [1:401] 0.358 0.358 0.358 0.358 0.358 ...\n",
      " $ nzero     : Named int [1:401] 16 16 16 16 16 16 16 16 16 16 ...\n",
      "  ..- attr(*, \"names\")= chr [1:401] \"s0\" \"s1\" \"s2\" \"s3\" ...\n",
      " $ call      : language cv.glmnet(x = X, y = y, lambda = mylambda, type.measure = \"mse\", nfolds = 10,      family = \"binomial\", alpha = 0)\n",
      " $ name      : Named chr \"Mean-Squared Error\"\n",
      "  ..- attr(*, \"names\")= chr \"mse\"\n",
      " $ glmnet.fit:List of 13\n",
      "  ..$ a0        : Named num [1:401] -0.643 -0.644 -0.645 -0.646 -0.647 ...\n",
      "  .. ..- attr(*, \"names\")= chr [1:401] \"s0\" \"s1\" \"s2\" \"s3\" ...\n",
      "  ..$ beta      :Formal class 'dgCMatrix' [package \"Matrix\"] with 6 slots\n",
      "  .. .. ..@ i       : int [1:6416] 0 1 2 3 4 5 6 7 8 9 ...\n",
      "  .. .. ..@ p       : int [1:402] 0 16 32 48 64 80 96 112 128 144 ...\n",
      "  .. .. ..@ Dim     : int [1:2] 16 401\n",
      "  .. .. ..@ Dimnames:List of 2\n",
      "  .. .. .. ..$ : chr [1:16] \"Age\" \"Sex\" \"ChestPainnonanginal\" \"ChestPainnontypical\" ...\n",
      "  .. .. .. ..$ : chr [1:401] \"s0\" \"s1\" \"s2\" \"s3\" ...\n",
      "  .. .. ..@ x       : num [1:6416] 0.00513 0.10812 -0.135 -0.09518 -0.15798 ...\n",
      "  .. .. ..@ factors : list()\n",
      "  ..$ df        : int [1:401] 16 16 16 16 16 16 16 16 16 16 ...\n",
      "  ..$ dim       : int [1:2] 16 401\n",
      "  ..$ lambda    : num [1:401] 2 2 1.99 1.99 1.98 ...\n",
      "  ..$ dev.ratio : num [1:401] 0.205 0.206 0.206 0.206 0.206 ...\n",
      "  ..$ nulldev   : num 286\n",
      "  ..$ npasses   : int 1181\n",
      "  ..$ jerr      : int 0\n",
      "  ..$ offset    : logi FALSE\n",
      "  ..$ classnames: chr [1:2] \"No\" \"Yes\"\n",
      "  ..$ call      : language glmnet(x = X, y = y, lambda = mylambda, family = \"binomial\", alpha = 0)\n",
      "  ..$ nobs      : int 207\n",
      "  ..- attr(*, \"class\")= chr [1:2] \"lognet\" \"glmnet\"\n",
      " $ lambda.min: num 0.02\n",
      " $ lambda.1se: num 0.225\n",
      " $ index     : int [1:2, 1] 397 356\n",
      "  ..- attr(*, \"dimnames\")=List of 2\n",
      "  .. ..$ : chr [1:2] \"min\" \"1se\"\n",
      "  .. ..$ : chr \"Lambda\"\n",
      " - attr(*, \"class\")= chr \"cv.glmnet\"\n"
     ]
    }
   ],
   "source": [
    "#exploring the structure of the object cvfit\n",
    "str(cvfit)"
   ]
  },
  {
   "cell_type": "code",
   "execution_count": 15,
   "id": "50ff43f7",
   "metadata": {
    "deletable": false,
    "editable": false,
    "nbgrader": {
     "cell_type": "code",
     "checksum": "58088ce9bda341e5c4702a1b24b867c5",
     "grade": false,
     "grade_id": "cell-fc388b4fc84670b6",
     "locked": true,
     "schema_version": 3,
     "solution": false,
     "task": false
    }
   },
   "outputs": [
    {
     "data": {
      "text/html": [
       "0.02"
      ],
      "text/latex": [
       "0.02"
      ],
      "text/markdown": [
       "0.02"
      ],
      "text/plain": [
       "[1] 0.02"
      ]
     },
     "metadata": {},
     "output_type": "display_data"
    },
    {
     "data": {
      "text/html": [
       "0.225"
      ],
      "text/latex": [
       "0.225"
      ],
      "text/markdown": [
       "0.225"
      ],
      "text/plain": [
       "[1] 0.225"
      ]
     },
     "metadata": {},
     "output_type": "display_data"
    }
   ],
   "source": [
    "#the value of optimal lambda that minimizes loss (we used mse)\n",
    "cvfit$lambda.min\n",
    "\n",
    "#the value of optimal lambda by the 1SE rule\n",
    "cvfit$lambda.1se"
   ]
  },
  {
   "cell_type": "markdown",
   "id": "de47a5ac",
   "metadata": {
    "deletable": false,
    "editable": false,
    "nbgrader": {
     "cell_type": "markdown",
     "checksum": "ae83d47836c73378d6a92e00e484041c",
     "grade": false,
     "grade_id": "cell-ffccb2a4b4d3d35f",
     "locked": true,
     "schema_version": 3,
     "solution": false,
     "task": false
    }
   },
   "source": [
    "#### Fitted Coefficients\n",
    "\n",
    "<br>\n",
    "\n",
    "We can use either `coef(cvfit)` or `predict(object=cvfit, type=\"coefficients\")` to see the values of all the fitted coefficients. We also check they give the same values."
   ]
  },
  {
   "cell_type": "code",
   "execution_count": 16,
   "id": "4832d7fb",
   "metadata": {
    "deletable": false,
    "editable": false,
    "nbgrader": {
     "cell_type": "code",
     "checksum": "a0b7db81c1aaa9af14f1865330f8c1e1",
     "grade": false,
     "grade_id": "cell-a2a60e075d20c324",
     "locked": true,
     "schema_version": 3,
     "solution": false,
     "task": false
    }
   },
   "outputs": [
    {
     "data": {
      "text/plain": [
       "[1] Using coef(cvfit):"
      ]
     },
     "metadata": {},
     "output_type": "display_data"
    },
    {
     "data": {
      "text/plain": [
       "17 x 1 sparse Matrix of class \"dgCMatrix\"\n",
       "                              s1\n",
       "(Intercept)         -1.782448114\n",
       "Age                  0.013372278\n",
       "Sex                  0.394395928\n",
       "ChestPainnonanginal -0.487454045\n",
       "ChestPainnontypical -0.290608142\n",
       "ChestPaintypical    -0.861752467\n",
       "RestBP               0.005797423\n",
       "Chol                 0.001795293\n",
       "Fbs                 -0.175199014\n",
       "RestECG              0.078656813\n",
       "MaxHR               -0.009349037\n",
       "ExAng                0.387894541\n",
       "Oldpeak              0.192887448\n",
       "Slope                0.275468856\n",
       "Ca                   0.412150914\n",
       "Thalnormal          -0.489966592\n",
       "Thalreversable       0.583660852"
      ]
     },
     "metadata": {},
     "output_type": "display_data"
    },
    {
     "name": "stdout",
     "output_type": "stream",
     "text": [
      "\n",
      "\n"
     ]
    },
    {
     "data": {
      "text/plain": [
       "[1] Using predict(object=cvfit, type=\"coefficients\"):"
      ]
     },
     "metadata": {},
     "output_type": "display_data"
    },
    {
     "data": {
      "text/plain": [
       "17 x 1 sparse Matrix of class \"dgCMatrix\"\n",
       "                      lambda.1se\n",
       "(Intercept)         -1.782448114\n",
       "Age                  0.013372278\n",
       "Sex                  0.394395928\n",
       "ChestPainnonanginal -0.487454045\n",
       "ChestPainnontypical -0.290608142\n",
       "ChestPaintypical    -0.861752467\n",
       "RestBP               0.005797423\n",
       "Chol                 0.001795293\n",
       "Fbs                 -0.175199014\n",
       "RestECG              0.078656813\n",
       "MaxHR               -0.009349037\n",
       "ExAng                0.387894541\n",
       "Oldpeak              0.192887448\n",
       "Slope                0.275468856\n",
       "Ca                   0.412150914\n",
       "Thalnormal          -0.489966592\n",
       "Thalreversable       0.583660852"
      ]
     },
     "metadata": {},
     "output_type": "display_data"
    }
   ],
   "source": [
    "noquote(\"Using coef(cvfit):\") # print() prints out with quotes, noquote() doesn't\n",
    "coef(cvfit)\n",
    "\n",
    "cat(\"\\n\\n\") #making two lines of space\n",
    "\n",
    "noquote('Using predict(object=cvfit, type=\"coefficients\"):')\n",
    "predict(object=cvfit, type=\"coefficients\")\n",
    "\n"
   ]
  },
  {
   "cell_type": "code",
   "execution_count": 17,
   "id": "5a84ebc1",
   "metadata": {
    "deletable": false,
    "editable": false,
    "nbgrader": {
     "cell_type": "code",
     "checksum": "8be16a248f43a545a9193bd65293cad2",
     "grade": false,
     "grade_id": "cell-da50b78e4aaeac01",
     "locked": true,
     "schema_version": 3,
     "solution": false,
     "task": false
    }
   },
   "outputs": [
    {
     "data": {
      "text/html": [
       "TRUE"
      ],
      "text/latex": [
       "TRUE"
      ],
      "text/markdown": [
       "TRUE"
      ],
      "text/plain": [
       "[1] TRUE"
      ]
     },
     "metadata": {},
     "output_type": "display_data"
    }
   ],
   "source": [
    "#check that all the coefficients are the same\n",
    "\n",
    "all(coef(cvfit)==predict(object=cvfit, type=\"coefficients\"))"
   ]
  },
  {
   "cell_type": "markdown",
   "id": "a4d212da",
   "metadata": {
    "deletable": false,
    "editable": false,
    "nbgrader": {
     "cell_type": "markdown",
     "checksum": "11faf899839dd9b749be931d6c4f0861",
     "grade": false,
     "grade_id": "cell-a649d386924eb795",
     "locked": true,
     "schema_version": 3,
     "solution": false,
     "task": false
    }
   },
   "source": [
    "Note that in the output `predict()` we see the fitted values correspond to optimal $\\lambda$ based on the 1SE rule, which `coef()` function also gives as a default.\n",
    "\n",
    "There is a parameter `s` in the `predict()` function that controls which lambda we want. According to what we just saw, the default $\\lambda$ is the one based on the 1SE rule. In other words,\n",
    "\n",
    "`predict(object=cvfit, s=cvfit$lambda.1se, type=\"coefficients\")` \n",
    "\n",
    "gives the same output as \n",
    "\n",
    "`predict(object=cvfit, type=\"coefficients\")` or as `coef(cvfit)`.\n",
    "\n",
    "You can check that by running the following cell."
   ]
  },
  {
   "cell_type": "code",
   "execution_count": 18,
   "id": "fa9de314",
   "metadata": {
    "deletable": false,
    "editable": false,
    "nbgrader": {
     "cell_type": "code",
     "checksum": "cbd824a583658a78ca2a95e1337acff3",
     "grade": false,
     "grade_id": "cell-c9a869a8a9e70905",
     "locked": true,
     "schema_version": 3,
     "solution": false,
     "task": false
    }
   },
   "outputs": [
    {
     "data": {
      "text/html": [
       "TRUE"
      ],
      "text/latex": [
       "TRUE"
      ],
      "text/markdown": [
       "TRUE"
      ],
      "text/plain": [
       "[1] TRUE"
      ]
     },
     "metadata": {},
     "output_type": "display_data"
    }
   ],
   "source": [
    "all(predict(object=cvfit, s=cvfit$lambda.1se, type=\"coefficients\") == predict(object=cvfit, type=\"coefficients\"))"
   ]
  },
  {
   "cell_type": "markdown",
   "id": "91b311a9",
   "metadata": {
    "deletable": false,
    "editable": false,
    "nbgrader": {
     "cell_type": "markdown",
     "checksum": "2bc58a781a01d400a3dd1cb89b9b41b7",
     "grade": false,
     "grade_id": "cell-d77add38b30610d2",
     "locked": true,
     "schema_version": 3,
     "solution": false,
     "task": false
    }
   },
   "source": [
    "### Predicting on Test Data\n",
    "\n",
    "<br>\n",
    "\n",
    "To check performance, we use `predict()` function and include the argument `newx`, which is the predictor matrix with the test data (not used for tuning the hyperparameter $\\lambda$ and fitting the model)."
   ]
  },
  {
   "cell_type": "code",
   "execution_count": 19,
   "id": "7f027608",
   "metadata": {
    "deletable": false,
    "editable": false,
    "nbgrader": {
     "cell_type": "code",
     "checksum": "8fe9e1568a386f51813636cfa3de0702",
     "grade": false,
     "grade_id": "cell-93524a73b0f121ef",
     "locked": true,
     "schema_version": 3,
     "solution": false,
     "task": false
    }
   },
   "outputs": [
    {
     "data": {
      "text/html": [
       "90"
      ],
      "text/latex": [
       "90"
      ],
      "text/markdown": [
       "90"
      ],
      "text/plain": [
       "[1] 90"
      ]
     },
     "metadata": {},
     "output_type": "display_data"
    },
    {
     "data": {
      "text/html": [
       "<style>\n",
       ".list-inline {list-style: none; margin:0; padding: 0}\n",
       ".list-inline>li {display: inline-block}\n",
       ".list-inline>li:not(:last-child)::after {content: \"\\00b7\"; padding: 0 .5ex}\n",
       "</style>\n",
       "<ol class=list-inline><li>90</li><li>16</li></ol>\n"
      ],
      "text/latex": [
       "\\begin{enumerate*}\n",
       "\\item 90\n",
       "\\item 16\n",
       "\\end{enumerate*}\n"
      ],
      "text/markdown": [
       "1. 90\n",
       "2. 16\n",
       "\n",
       "\n"
      ],
      "text/plain": [
       "[1] 90 16"
      ]
     },
     "metadata": {},
     "output_type": "display_data"
    }
   ],
   "source": [
    "ytest = test$AHD\n",
    "Xtest = test[ ,!(names(test) %in% c(\"PatientID\",\"AHD\"))] #all but PatientID and AHD\n",
    "\n",
    "Xtest = model.matrix( ~ ., data=Xtest)[,-1]\n",
    "pihat = predict(object=cvfit, newx = Xtest, type=\"response\")\n",
    "\n",
    "length(pihat)\n",
    "dim(Xtest)\n"
   ]
  },
  {
   "cell_type": "markdown",
   "id": "e9d93fc6",
   "metadata": {
    "deletable": false,
    "editable": false,
    "nbgrader": {
     "cell_type": "markdown",
     "checksum": "fb590b6d5770219d42716061eb0ab96c",
     "grade": false,
     "grade_id": "cell-8a2f0c54fa1f7f23",
     "locked": true,
     "schema_version": 3,
     "solution": false,
     "task": false
    }
   },
   "source": [
    "### Measuring Performance\n",
    "\n",
    "<br>\n",
    "\n",
    "We will assess performance using ROC curve and accuracy, as well as false negative rate (since we don't want our model to false predict no heart disease when it does occur).\n",
    "\n",
    "<br> <br>\n",
    "\n",
    "#### ROC Curve\n",
    "\n",
    "\n",
    "<br>"
   ]
  },
  {
   "cell_type": "code",
   "execution_count": 20,
   "id": "95ad3830",
   "metadata": {
    "deletable": false,
    "editable": false,
    "nbgrader": {
     "cell_type": "code",
     "checksum": "36ea6e522baf122daf1d17dd2200d6d7",
     "grade": false,
     "grade_id": "cell-e72f92288186269c",
     "locked": true,
     "schema_version": 3,
     "solution": false,
     "task": false
    }
   },
   "outputs": [
    {
     "name": "stderr",
     "output_type": "stream",
     "text": [
      "Setting levels: control = FALSE, case = TRUE\n",
      "\n",
      "Warning message in roc.default(response = ylogical, predictor = pihat):\n",
      "“Deprecated use a matrix as predictor. Unexpected results may be produced, please pass a numeric vector.”\n",
      "Setting direction: controls < cases\n",
      "\n"
     ]
    },
    {
     "data": {
      "image/png": "[encoded data removed]",
      "text/plain": [
       "Plot with title “AUC =  0.89”"
      ]
     },
     "metadata": {
      "image/png": {
       "height": 420,
       "width": 420
      }
     },
     "output_type": "display_data"
    }
   ],
   "source": [
    "ylogical = (ytest == \"Yes\")\n",
    "ROCcrv = roc(response=ylogical, predictor=pihat)\n",
    "AUC = auc(ROCcrv)\n",
    "\n",
    "plot(x=ROCcrv$specificities,y=ROCcrv$sensitivities, main=paste(\"AUC = \",round(AUC,2)), \n",
    "     xlab=\"Specificity (decreasing order!)\", ylab=\"Sensitivity\", xlim=c(1,0), type=\"l\", col=\"red\")\n",
    "abline(a=1,b=-1,lty=\"dashed\") #the diagonal line\n"
   ]
  },
  {
   "cell_type": "code",
   "execution_count": 21,
   "id": "03ede5a3",
   "metadata": {
    "deletable": false,
    "editable": false,
    "nbgrader": {
     "cell_type": "code",
     "checksum": "a2a2b46dd227edcb5cadf5896dc877c1",
     "grade": false,
     "grade_id": "cell-35a800b5458c627f",
     "locked": true,
     "schema_version": 3,
     "solution": false,
     "task": false
    }
   },
   "outputs": [
    {
     "name": "stdout",
     "output_type": "stream",
     "text": [
      " 'auc' num 0.887\n",
      " - attr(*, \"partial.auc\")= logi FALSE\n",
      " - attr(*, \"percent\")= logi FALSE\n",
      " - attr(*, \"roc\")=List of 15\n",
      "  ..$ percent           : logi FALSE\n",
      "  ..$ sensitivities     : num [1:91] 1 1 1 1 1 1 1 1 1 1 ...\n",
      "  ..$ specificities     : num [1:91] 0 0.0208 0.0417 0.0625 0.0833 ...\n",
      "  ..$ thresholds        : num [1:91] -Inf 0.109 0.119 0.123 0.127 ...\n",
      "  ..$ direction         : chr \"<\"\n",
      "  ..$ cases             : num [1:42] 0.888 0.552 0.348 0.713 0.764 ...\n",
      "  ..$ controls          : num [1:48] 0.426 0.142 0.336 0.186 0.118 ...\n",
      "  ..$ fun.sesp          :function (thresholds, controls, cases, direction)  \n",
      "  ..$ auc               : 'auc' num 0.887\n",
      "  .. ..- attr(*, \"partial.auc\")= logi FALSE\n",
      "  .. ..- attr(*, \"percent\")= logi FALSE\n",
      "  .. ..- attr(*, \"roc\")=List of 15\n",
      "  .. .. ..$ percent           : logi FALSE\n",
      "  .. .. ..$ sensitivities     : num [1:91] 1 1 1 1 1 1 1 1 1 1 ...\n",
      "  .. .. ..$ specificities     : num [1:91] 0 0.0208 0.0417 0.0625 0.0833 ...\n",
      "  .. .. ..$ thresholds        : num [1:91] -Inf 0.109 0.119 0.123 0.127 ...\n",
      "  .. .. ..$ direction         : chr \"<\"\n",
      "  .. .. ..$ cases             : num [1:42] 0.888 0.552 0.348 0.713 0.764 ...\n",
      "  .. .. ..$ controls          : num [1:48] 0.426 0.142 0.336 0.186 0.118 ...\n",
      "  .. .. ..$ fun.sesp          :function (thresholds, controls, cases, direction)  \n",
      "  .. .. ..$ auc               : 'auc' num 0.887\n",
      "  .. .. .. ..- attr(*, \"partial.auc\")= logi FALSE\n",
      "  .. .. .. ..- attr(*, \"percent\")= logi FALSE\n",
      "  .. .. .. ..- attr(*, \"roc\")=List of 8\n",
      "  .. .. .. .. ..$ percent      : logi FALSE\n",
      "  .. .. .. .. ..$ sensitivities: num [1:91] 1 1 1 1 1 1 1 1 1 1 ...\n",
      "  .. .. .. .. ..$ specificities: num [1:91] 0 0.0208 0.0417 0.0625 0.0833 ...\n",
      "  .. .. .. .. ..$ thresholds   : num [1:91] -Inf 0.109 0.119 0.123 0.127 ...\n",
      "  .. .. .. .. ..$ direction    : chr \"<\"\n",
      "  .. .. .. .. ..$ cases        : num [1:42] 0.888 0.552 0.348 0.713 0.764 ...\n",
      "  .. .. .. .. ..$ controls     : num [1:48] 0.426 0.142 0.336 0.186 0.118 ...\n",
      "  .. .. .. .. ..$ fun.sesp     :function (thresholds, controls, cases, direction)  \n",
      "  .. .. .. .. ..- attr(*, \"class\")= chr \"roc\"\n",
      "  .. .. ..$ call              : language roc.default(response = ylogical, predictor = pihat)\n",
      "  .. .. ..$ original.predictor: num [1:90, 1] 0.426 0.888 0.142 0.552 0.336 ...\n",
      "  .. .. .. ..- attr(*, \"dimnames\")=List of 2\n",
      "  .. .. .. .. ..$ : chr [1:90] \"1\" \"2\" \"5\" \"13\" ...\n",
      "  .. .. .. .. ..$ : chr \"lambda.1se\"\n",
      "  .. .. ..$ original.response : logi [1:90] FALSE TRUE FALSE TRUE FALSE FALSE ...\n",
      "  .. .. ..$ predictor         : num [1:90, 1] 0.426 0.888 0.142 0.552 0.336 ...\n",
      "  .. .. .. ..- attr(*, \"dimnames\")=List of 2\n",
      "  .. .. .. .. ..$ : chr [1:90] \"1\" \"2\" \"5\" \"13\" ...\n",
      "  .. .. .. .. ..$ : chr \"lambda.1se\"\n",
      "  .. .. ..$ response          : logi [1:90] FALSE TRUE FALSE TRUE FALSE FALSE ...\n",
      "  .. .. ..$ levels            : chr [1:2] \"FALSE\" \"TRUE\"\n",
      "  .. .. ..- attr(*, \"class\")= chr \"roc\"\n",
      "  ..$ call              : language roc.default(response = ylogical, predictor = pihat)\n",
      "  ..$ original.predictor: num [1:90, 1] 0.426 0.888 0.142 0.552 0.336 ...\n",
      "  .. ..- attr(*, \"dimnames\")=List of 2\n",
      "  .. .. ..$ : chr [1:90] \"1\" \"2\" \"5\" \"13\" ...\n",
      "  .. .. ..$ : chr \"lambda.1se\"\n",
      "  ..$ original.response : logi [1:90] FALSE TRUE FALSE TRUE FALSE FALSE ...\n",
      "  ..$ predictor         : num [1:90, 1] 0.426 0.888 0.142 0.552 0.336 ...\n",
      "  .. ..- attr(*, \"dimnames\")=List of 2\n",
      "  .. .. ..$ : chr [1:90] \"1\" \"2\" \"5\" \"13\" ...\n",
      "  .. .. ..$ : chr \"lambda.1se\"\n",
      "  ..$ response          : logi [1:90] FALSE TRUE FALSE TRUE FALSE FALSE ...\n",
      "  ..$ levels            : chr [1:2] \"FALSE\" \"TRUE\"\n",
      "  ..- attr(*, \"class\")= chr \"roc\"\n"
     ]
    }
   ],
   "source": [
    "#explore the structure of AUC object, produced by the function auc()\n",
    "#note that it is a numeric variable, a single value, but with a lot of attributes (i.e. info behind this single value)\n",
    "str(AUC)"
   ]
  },
  {
   "cell_type": "code",
   "execution_count": 22,
   "id": "1e1fc528",
   "metadata": {
    "deletable": false,
    "editable": false,
    "nbgrader": {
     "cell_type": "code",
     "checksum": "eb160e4b2eefe9a3fc7795ed877fff4e",
     "grade": false,
     "grade_id": "cell-2184f162b1fc6538",
     "locked": true,
     "schema_version": 3,
     "solution": false,
     "task": false
    }
   },
   "outputs": [
    {
     "data": {
      "text/html": [
       "0.887400793650794"
      ],
      "text/latex": [
       "0.887400793650794"
      ],
      "text/markdown": [
       "0.887400793650794"
      ],
      "text/plain": [
       "Area under the curve: 0.8874"
      ]
     },
     "metadata": {},
     "output_type": "display_data"
    }
   ],
   "source": [
    "#print the precise value of AUC\n",
    "AUC"
   ]
  },
  {
   "cell_type": "code",
   "execution_count": 23,
   "id": "547f354e",
   "metadata": {
    "deletable": false,
    "editable": false,
    "nbgrader": {
     "cell_type": "code",
     "checksum": "76b31cbb287a09a03af524fca95f9b36",
     "grade": false,
     "grade_id": "cell-3326b58405d179a3",
     "locked": true,
     "schema_version": 3,
     "solution": false,
     "task": false
    }
   },
   "outputs": [],
   "source": [
    "#creating yhat vector based on the rule: yhat=Yes if pihat>0.5; otherwise, yhat=No\n",
    "\n",
    "yhat = ifelse(pihat>0.5,\"Yes\",\"No\")"
   ]
  },
  {
   "cell_type": "code",
   "execution_count": 24,
   "id": "0f954e78",
   "metadata": {
    "deletable": false,
    "editable": false,
    "nbgrader": {
     "cell_type": "code",
     "checksum": "91f0149ee57380e6c2745096f92b3d46",
     "grade": false,
     "grade_id": "cell-8dad814a1e142720",
     "locked": true,
     "schema_version": 3,
     "solution": false,
     "task": false
    }
   },
   "outputs": [
    {
     "data": {
      "text/plain": [
       "     ytest\n",
       "yhat  No Yes\n",
       "  No  41  10\n",
       "  Yes  7  32"
      ]
     },
     "metadata": {},
     "output_type": "display_data"
    }
   ],
   "source": [
    "tbl = table(yhat, ytest)\n",
    "tbl"
   ]
  },
  {
   "cell_type": "code",
   "execution_count": 25,
   "id": "72234ded",
   "metadata": {
    "deletable": false,
    "editable": false,
    "nbgrader": {
     "cell_type": "code",
     "checksum": "051fc01a72c5f2a5b35fad771033bf0c",
     "grade": false,
     "grade_id": "cell-0c17d1276c8c76f6",
     "locked": true,
     "schema_version": 3,
     "solution": false,
     "task": false
    }
   },
   "outputs": [
    {
     "data": {
      "text/html": [
       "0.811111111111111"
      ],
      "text/latex": [
       "0.811111111111111"
      ],
      "text/markdown": [
       "0.811111111111111"
      ],
      "text/plain": [
       "[1] 0.8111111"
      ]
     },
     "metadata": {},
     "output_type": "display_data"
    }
   ],
   "source": [
    "#accuracy (proportion of correctly predicted)\n",
    "\n",
    "(tbl[1,1]+tbl[2,2])/sum(tbl)"
   ]
  },
  {
   "cell_type": "code",
   "execution_count": 26,
   "id": "42eb633a",
   "metadata": {
    "deletable": false,
    "editable": false,
    "nbgrader": {
     "cell_type": "code",
     "checksum": "2e65d067f8a07369a77cafeda839dd69",
     "grade": false,
     "grade_id": "cell-b3e16f785f1cb58d",
     "locked": true,
     "schema_version": 3,
     "solution": false,
     "task": false
    }
   },
   "outputs": [
    {
     "data": {
      "text/html": [
       "0.238095238095238"
      ],
      "text/latex": [
       "0.238095238095238"
      ],
      "text/markdown": [
       "0.238095238095238"
      ],
      "text/plain": [
       "[1] 0.2380952"
      ]
     },
     "metadata": {},
     "output_type": "display_data"
    }
   ],
   "source": [
    "#false negative rate\n",
    "\n",
    "tbl[1,2]/sum(tbl[,2])"
   ]
  },
  {
   "cell_type": "markdown",
   "id": "43c240a3",
   "metadata": {
    "deletable": false,
    "editable": false,
    "nbgrader": {
     "cell_type": "markdown",
     "checksum": "47b02120a73dedb36ac9a3582ad9b0c3",
     "grade": false,
     "grade_id": "cell-a3152f1013fec698",
     "locked": true,
     "schema_version": 3,
     "solution": false,
     "task": false
    }
   },
   "source": [
    "If you check HW1, you will see that Naive Bayes model slightly beats the logistic regression model with regularization, done here. However, if we change a seed that randomly creates the train-test split, we would get slightly different (or maybe more significantly different) results. One could take numerous seeds, produce the results as done here and in HW1, compare them for each train-test split, and see in how many splits each method won. That would be fun &#128512;."
   ]
  },
  {
   "cell_type": "code",
   "execution_count": 27,
   "id": "6358bef7",
   "metadata": {
    "deletable": false,
    "editable": false,
    "nbgrader": {
     "cell_type": "code",
     "checksum": "54eaa7d6d36d02a0faa21b10cfe7469a",
     "grade": false,
     "grade_id": "cell-017ff6bb686321d4",
     "locked": true,
     "schema_version": 3,
     "solution": false,
     "task": false
    }
   },
   "outputs": [
    {
     "data": {
      "image/png": "[encoded data removed]",
      "text/plain": [
       "plot without title"
      ]
     },
     "metadata": {
      "image/png": {
       "height": 420,
       "width": 420
      }
     },
     "output_type": "display_data"
    }
   ],
   "source": [
    "#beta coefficients for various models, i.e. various lambdas/flexibilities\n",
    "plot(cvfit$glmnet.fit)"
   ]
  },
  {
   "cell_type": "markdown",
   "id": "a6cae99b",
   "metadata": {
    "deletable": false,
    "editable": false,
    "nbgrader": {
     "cell_type": "markdown",
     "checksum": "0bf993dc0a73e1e1a1d13b6579ac3db6",
     "grade": false,
     "grade_id": "cell-5ffbeac70786512c",
     "locked": true,
     "schema_version": 3,
     "solution": false,
     "task": false
    }
   },
   "source": [
    "<br>\n",
    "\n",
    "### Lasso Regularization\n",
    "\n",
    "\n",
    "<br>\n",
    "\n",
    "Now it's your turn to repeat some of the above steps, but for lasso regularization.\n",
    "\n",
    "<br>\n",
    "\n",
    "### Part (b)\n",
    "\n",
    "Fit the lasso model using cross-validation with 10 folds. To do that, create object `cvfit` using `cv.glmnet()` function. Use **deviance** as a loss function, i.e. as a measure of performance. Also, use the `mylambda` as the vector of $\\lambda$'s.\n",
    "\n",
    "If everything is okay, the estimated intercept coefficient should be -0.107011809; also variable Age does not appear in the model with optimal $\\lambda$ based on the 1SE rule. \n",
    "\n",
    "**IMPORTANT!** \n",
    "Due to some weird relation between `cv.glmnet()` and `coef()`functions, rerunning the command `cvfit = cv.glmnet(...)` followed by `coef(cvfit)` will change the object `coef(cvfit)` output. To rerun `cvfit = cv.glmnet()` after you ran `coef(cvfit)`, you should restart the Kernel, using the Kernel tab on the top of the jupyter notebook. Very weird!\n",
    "\n",
    "This means that the aforementioned estimated intercept coefficient should be -0.107011809 only if you run `cv.glmnet(...)` and then `coef(cvfit)` once. You can, however, rerun `cvfit = cv.glmnet()` multiple times, as long as you don't also run `coef(cvfit)` before running again`cvfit = cv.glmnet()`. \n"
   ]
  },
  {
   "cell_type": "code",
   "execution_count": 28,
   "id": "a8dd95ba",
   "metadata": {
    "deletable": false,
    "nbgrader": {
     "cell_type": "code",
     "checksum": "a8e0975ab6fdf43dcd4fd19c875fa040",
     "grade": false,
     "grade_id": "cell-408d28f341f99cbd",
     "locked": false,
     "schema_version": 3,
     "solution": true,
     "task": false
    }
   },
   "outputs": [],
   "source": [
    "cvfit <- cv.glmnet(X, y, family = \"binomial\", lambda = mylambda, nfolds = 10, alpha = 1)"
   ]
  },
  {
   "cell_type": "code",
   "execution_count": 29,
   "id": "9832629e",
   "metadata": {
    "deletable": false,
    "editable": false,
    "nbgrader": {
     "cell_type": "code",
     "checksum": "51ade7dc24fbd9efba3224951c89d40c",
     "grade": false,
     "grade_id": "cell-124cffb43831fdc1",
     "locked": true,
     "schema_version": 3,
     "solution": false,
     "task": false
    }
   },
   "outputs": [
    {
     "data": {
      "text/plain": [
       "17 x 1 sparse Matrix of class \"dgCMatrix\"\n",
       "                              s1\n",
       "(Intercept)         -0.107011809\n",
       "Age                  .          \n",
       "Sex                  0.200615060\n",
       "ChestPainnonanginal -0.514126558\n",
       "ChestPainnontypical  .          \n",
       "ChestPaintypical    -1.125311393\n",
       "RestBP               0.001591773\n",
       "Chol                 .          \n",
       "Fbs                  .          \n",
       "RestECG              .          \n",
       "MaxHR               -0.013276988\n",
       "ExAng                0.354603158\n",
       "Oldpeak              0.317196918\n",
       "Slope                0.196674805\n",
       "Ca                   0.810135245\n",
       "Thalnormal           .          \n",
       "Thalreversable       1.359537640"
      ]
     },
     "metadata": {},
     "output_type": "display_data"
    }
   ],
   "source": [
    "#as mentioned above, after running this command, if you want \n",
    "#to rerun the above cvfit code, restart Kernel first!!!\n",
    "coef(cvfit)"
   ]
  },
  {
   "cell_type": "code",
   "execution_count": 30,
   "id": "92610dc6",
   "metadata": {
    "deletable": false,
    "editable": false,
    "nbgrader": {
     "cell_type": "code",
     "checksum": "52148ed99fc7bfc6b4f56e17b8dc987a",
     "grade": true,
     "grade_id": "cell-396dce43b1f98567",
     "locked": true,
     "points": 2,
     "schema_version": 3,
     "solution": false,
     "task": false
    }
   },
   "outputs": [
    {
     "name": "stdout",
     "output_type": "stream",
     "text": [
      "\u001b[32mTest passed\u001b[39m 🎊\n"
     ]
    }
   ],
   "source": [
    "#check whether the intercept coefficient is -0.107011809234714\n",
    "\n",
    "if (test_that(desc=\"\", code={\n",
    "    expect_equal(abs(coef(cvfit)[1] - (-0.107011809234714)) < 1.e-6, TRUE)\n",
    "    }) != TRUE) stop(\"Sorry, wrong answer\")"
   ]
  },
  {
   "cell_type": "code",
   "execution_count": 31,
   "id": "6ddb5361",
   "metadata": {
    "deletable": false,
    "editable": false,
    "nbgrader": {
     "cell_type": "code",
     "checksum": "8875ad657e784096c9959b63b24cf661",
     "grade": true,
     "grade_id": "cell-73b249ed0e6bd386",
     "locked": true,
     "points": 4,
     "schema_version": 3,
     "solution": false,
     "task": false
    }
   },
   "outputs": [
    {
     "name": "stdout",
     "output_type": "stream",
     "text": [
      "\u001b[32mTest passed\u001b[39m 😸\n",
      "\u001b[32mTest passed\u001b[39m 😀\n"
     ]
    }
   ],
   "source": [
    "#check whether the Age variable does not appear in the cvfit model (i.e. its coef. is 0) \n",
    "\n",
    "if (test_that(desc=\"\", code={\n",
    "    expect_equal(coef(cvfit)[2], 0)\n",
    "    }) != TRUE) stop(\"Sorry, wrong answer\")\n",
    "\n",
    "\n",
    "#check also the 3rd, 6th and 7th coefficient\n",
    "if (test_that(desc=\"\", code={\n",
    "    expect_equal(norm(coef(cvfit)[c(3,6,7)] - c(0.200615060,-1.125311393,0.001591773),type=\"2\") < 1.e-5, TRUE)\n",
    "    }) != TRUE) stop(\"Sorry, wrong answer\")\n"
   ]
  },
  {
   "cell_type": "code",
   "execution_count": 32,
   "id": "4b3fadd7",
   "metadata": {
    "deletable": false,
    "editable": false,
    "nbgrader": {
     "cell_type": "code",
     "checksum": "513f55b67a8fe81bf3e8de1a659f90b5",
     "grade": true,
     "grade_id": "cell-6390120fba7fe77e",
     "locked": true,
     "points": 4,
     "schema_version": 3,
     "solution": false,
     "task": false
    }
   },
   "outputs": [],
   "source": [
    "#check whether cvfit is correct (hidden tests)\n",
    "\n"
   ]
  },
  {
   "cell_type": "code",
   "execution_count": 33,
   "id": "e7cde240",
   "metadata": {
    "deletable": false,
    "editable": false,
    "nbgrader": {
     "cell_type": "code",
     "checksum": "85fe23cea6a7d12a8fb3cb11f321401c",
     "grade": false,
     "grade_id": "cell-d411c24d98d3235a",
     "locked": true,
     "schema_version": 3,
     "solution": false,
     "task": false
    }
   },
   "outputs": [
    {
     "name": "stderr",
     "output_type": "stream",
     "text": [
      "Warning message in regularize.values(x, y, ties, missing(ties)):\n",
      "“collapsing to unique 'x' values”\n"
     ]
    },
    {
     "data": {
      "image/png": "[encoded data removed]",
      "text/plain": [
       "plot without title"
      ]
     },
     "metadata": {
      "image/png": {
       "height": 420,
       "width": 420
      }
     },
     "output_type": "display_data"
    },
    {
     "data": {
      "image/png": "[encoded data removed]",
      "text/plain": [
       "plot without title"
      ]
     },
     "metadata": {
      "image/png": {
       "height": 420,
       "width": 420
      }
     },
     "output_type": "display_data"
    }
   ],
   "source": [
    "\n",
    "#plot Lasso based on deviance measure\n",
    "plot(cvfit)  #note on x-axis in the plot is log(lambda), not log(1/lambda)\n",
    "\n",
    "#plot coefficients for various models; ignore the warning message\n",
    "plot(cvfit$glmnet.fit)"
   ]
  },
  {
   "cell_type": "code",
   "execution_count": 34,
   "id": "b416c77d",
   "metadata": {
    "deletable": false,
    "editable": false,
    "nbgrader": {
     "cell_type": "code",
     "checksum": "eccaa17c4212f485437e3b220255384d",
     "grade": false,
     "grade_id": "cell-419c6849339a2543",
     "locked": true,
     "schema_version": 3,
     "solution": false,
     "task": false
    }
   },
   "outputs": [
    {
     "data": {
      "image/png": "[encoded data removed]",
      "text/plain": [
       "Plot with title “paste(\"Number of Non-zero Coeff\", minute, \"s for Each \", \"\", lambda, , , , \"\")”"
      ]
     },
     "metadata": {
      "image/png": {
       "height": 420,
       "width": 420
      }
     },
     "output_type": "display_data"
    }
   ],
   "source": [
    "##Number of non-zero coefficients vs. $\\lambda$\n",
    "\n",
    "plot(cvfit$glmnet$lambda,cvfit$glmnet$df, \n",
    "     main=TeX(\"Number of Non-zero Coeff's for Each $\\\\lambda$\"),pch=16)\n",
    "abline(v=cvfit$lambda.min,col=\"red\",lty=\"dashed\")\n",
    "abline(v=cvfit$lambda.1se,col=\"blue\",lty=\"dashed\")"
   ]
  },
  {
   "cell_type": "markdown",
   "id": "023b7454",
   "metadata": {
    "deletable": false,
    "editable": false,
    "nbgrader": {
     "cell_type": "markdown",
     "checksum": "922aa27dd5ba4cbf26e690188265eb70",
     "grade": false,
     "grade_id": "cell-704fb5a51241e613",
     "locked": true,
     "schema_version": 3,
     "solution": false,
     "task": false
    }
   },
   "source": [
    "### Part (c)\n",
    "\n",
    "In this part you are to create `ytest`, `Xtest` and `pihat` from test data, similar to `y`, `X` and `pihat` that we created from train data.\n",
    "\n",
    "Create a vector of output values from the test data, and call this vector `ytest`. Also, create matrix `Xtest`, which is the predictor matrix with predictor values from the test data.\n",
    "\n",
    "**Hint:** `ytest` and `Xtest` should be just like `y` and `X`, except that you create them from the test data, rather than train data. The length of `ytest` should be 90, and the dimensions of `Xtest` should be 90 x 16. (since 90 is ~30% of the original cleaned data with 297 obs).\n",
    "\n",
    "Also, create vector `pihat` using `predict()` function and the predictor values from `Xtest`. Of course, the length of `pihat` should also be 90."
   ]
  },
  {
   "cell_type": "code",
   "execution_count": 35,
   "id": "c42f81c7",
   "metadata": {
    "deletable": false,
    "nbgrader": {
     "cell_type": "code",
     "checksum": "b4cc7f9404f45d84639acf6833c0fe61",
     "grade": false,
     "grade_id": "cell-7e126c88246ab09b",
     "locked": false,
     "schema_version": 3,
     "solution": true,
     "task": false
    }
   },
   "outputs": [
    {
     "data": {
      "text/html": [
       "90"
      ],
      "text/latex": [
       "90"
      ],
      "text/markdown": [
       "90"
      ],
      "text/plain": [
       "[1] 90"
      ]
     },
     "metadata": {},
     "output_type": "display_data"
    },
    {
     "data": {
      "text/html": [
       "<style>\n",
       ".list-inline {list-style: none; margin:0; padding: 0}\n",
       ".list-inline>li {display: inline-block}\n",
       ".list-inline>li:not(:last-child)::after {content: \"\\00b7\"; padding: 0 .5ex}\n",
       "</style>\n",
       "<ol class=list-inline><li>90</li><li>16</li></ol>\n"
      ],
      "text/latex": [
       "\\begin{enumerate*}\n",
       "\\item 90\n",
       "\\item 16\n",
       "\\end{enumerate*}\n"
      ],
      "text/markdown": [
       "1. 90\n",
       "2. 16\n",
       "\n",
       "\n"
      ],
      "text/plain": [
       "[1] 90 16"
      ]
     },
     "metadata": {},
     "output_type": "display_data"
    },
    {
     "data": {
      "text/html": [
       "90"
      ],
      "text/latex": [
       "90"
      ],
      "text/markdown": [
       "90"
      ],
      "text/plain": [
       "[1] 90"
      ]
     },
     "metadata": {},
     "output_type": "display_data"
    }
   ],
   "source": [
    "ytest <- test$AHD\n",
    "Xtest <- test[ ,!(names(test) %in% c(\"PatientID\",\"AHD\"))] \n",
    "Xtest <- model.matrix( ~ ., data=Xtest)[,-1]\n",
    "pihat <- predict(object=cvfit, newx = Xtest, type=\"response\")\n",
    "\n",
    "length(ytest)\n",
    "dim(Xtest)\n",
    "length(pihat)"
   ]
  },
  {
   "cell_type": "code",
   "execution_count": 36,
   "id": "92af4767",
   "metadata": {
    "deletable": false,
    "editable": false,
    "nbgrader": {
     "cell_type": "code",
     "checksum": "44ead440fdd920233842700a65836d67",
     "grade": true,
     "grade_id": "cell-1d660a96c2b308db",
     "locked": true,
     "points": 2,
     "schema_version": 3,
     "solution": false,
     "task": false
    }
   },
   "outputs": [
    {
     "name": "stdout",
     "output_type": "stream",
     "text": [
      "\u001b[32mTest passed\u001b[39m 🥳\n",
      "\u001b[32mTest passed\u001b[39m 🥇\n",
      "\u001b[32mTest passed\u001b[39m 😸\n"
     ]
    }
   ],
   "source": [
    "#check whether the lengths/dimensions of ytest, Xtest and pihat are correct\n",
    "\n",
    "if (test_that(desc=\"\", code={\n",
    "    expect_equal(length(ytest), 90)\n",
    "    }) != TRUE) stop(\"Sorry, wrong answer\")\n",
    "\n",
    "if (test_that(desc=\"\", code={\n",
    "    expect_equal(dim(Xtest), c(90,16))\n",
    "    }) != TRUE) stop(\"Sorry, wrong answer\")\n",
    "\n",
    "if (test_that(desc=\"\", code={\n",
    "    expect_equal(length(pihat), 90)\n",
    "    }) != TRUE) stop(\"Sorry, wrong answer\")\n"
   ]
  },
  {
   "cell_type": "code",
   "execution_count": 37,
   "id": "99d13bf1",
   "metadata": {
    "deletable": false,
    "editable": false,
    "nbgrader": {
     "cell_type": "code",
     "checksum": "fb76e0356309084ddea1b09830518e9c",
     "grade": true,
     "grade_id": "cell-e84b56056a7dc9c0",
     "locked": true,
     "points": 4,
     "schema_version": 3,
     "solution": false,
     "task": false
    }
   },
   "outputs": [
    {
     "name": "stdout",
     "output_type": "stream",
     "text": [
      "\u001b[32mTest passed\u001b[39m 🎊\n",
      "\u001b[32mTest passed\u001b[39m 😀\n",
      "\u001b[32mTest passed\u001b[39m 🌈\n"
     ]
    }
   ],
   "source": [
    "#check first couple of entries for each of the three objects\n",
    "\n",
    "if (test_that(desc=\"\", code={\n",
    "    expect_equal(all(ytest[1:7] == c('No','Yes','No','Yes','No','No','Yes')), TRUE)\n",
    "    }) != TRUE) stop(\"Sorry, wrong answer\")\n",
    "\n",
    "if (test_that(desc=\"\", code={\n",
    "    expect_equal(all(Xtest[1:3,1:2] == matrix(c(63,1,67,1,41,0),nrow=3,byrow=TRUE)), TRUE)\n",
    "    }) != TRUE) stop(\"Sorry, wrong answer\")\n",
    "\n",
    "if (test_that(desc=\"\", code={\n",
    "    expect_equal(norm(pihat[1:5] - c(0.186506496055056,\n",
    "                                     0.928808302101098,\n",
    "                                     0.176103546440831,\n",
    "                                     0.41325659604545,\n",
    "                                     0.387913696157712),type=\"2\") < 1.e-5, TRUE)\n",
    "    }) != TRUE) stop(\"Sorry, wrong answer\")"
   ]
  },
  {
   "cell_type": "markdown",
   "id": "52216723",
   "metadata": {
    "deletable": false,
    "editable": false,
    "nbgrader": {
     "cell_type": "markdown",
     "checksum": "3e0df0c247cbc68f9cf5256c907dd7d8",
     "grade": false,
     "grade_id": "cell-7f3c3462054935d2",
     "locked": true,
     "schema_version": 3,
     "solution": false,
     "task": false
    }
   },
   "source": [
    "### ROC Curve\n",
    "\n",
    "<br>\n",
    "\n",
    "### Part (d)\n",
    "\n",
    "Plot the ROC curve as a visual measure of performance of your `cvfit` model on the test data. Use `roc()` function from `pROC` library. Also, create R variable `AUC` which represents AUC (area under curve), as a quantified measure of performance. (Ignore the warning message). Do NOT round your answer."
   ]
  },
  {
   "cell_type": "code",
   "execution_count": 38,
   "id": "23fc1102",
   "metadata": {
    "deletable": false,
    "nbgrader": {
     "cell_type": "code",
     "checksum": "c3ee04bef0ff31ebd995af15727fa372",
     "grade": false,
     "grade_id": "cell-c5205d23b8d15f2a",
     "locked": false,
     "schema_version": 3,
     "solution": true,
     "task": false
    }
   },
   "outputs": [
    {
     "name": "stderr",
     "output_type": "stream",
     "text": [
      "Setting levels: control = FALSE, case = TRUE\n",
      "\n",
      "Warning message in roc.default(response = ylogical, predictor = pihat):\n",
      "“Deprecated use a matrix as predictor. Unexpected results may be produced, please pass a numeric vector.”\n",
      "Setting direction: controls < cases\n",
      "\n"
     ]
    },
    {
     "data": {
      "image/png": "[encoded data removed]",
      "text/plain": [
       "Plot with title “AUC =  0.86”"
      ]
     },
     "metadata": {
      "image/png": {
       "height": 420,
       "width": 420
      }
     },
     "output_type": "display_data"
    }
   ],
   "source": [
    "ylogical = (ytest == \"Yes\")\n",
    "ROCcrv = roc(response=ylogical, predictor=pihat)\n",
    "AUC = auc(ROCcrv)\n",
    "\n",
    "plot(x=ROCcrv$specificities,y=ROCcrv$sensitivities, main=paste(\"AUC = \",round(AUC,2)), \n",
    "     xlab=\"Specificity (decreasing order!)\", ylab=\"Sensitivity\", xlim=c(1,0), type=\"l\", col=\"red\")\n",
    "abline(a=1,b=-1,lty=\"dashed\") "
   ]
  },
  {
   "cell_type": "code",
   "execution_count": 39,
   "id": "3648abc2",
   "metadata": {
    "deletable": false,
    "editable": false,
    "nbgrader": {
     "cell_type": "code",
     "checksum": "694e84ddeaf8ad3615a8948828cc29d0",
     "grade": true,
     "grade_id": "cell-a788a4b131a2f725",
     "locked": true,
     "points": 1,
     "schema_version": 3,
     "solution": false,
     "task": false
    }
   },
   "outputs": [
    {
     "name": "stdout",
     "output_type": "stream",
     "text": [
      "\u001b[32mTest passed\u001b[39m 🥇\n"
     ]
    }
   ],
   "source": [
    "#check whether the 6th and 7th decimal digits of AUC are 71\n",
    "\n",
    "if (test_that(desc=\"\", code={\n",
    "    expect_equal(floor(AUC*10^7) %% 100 == 71, TRUE)\n",
    "    }) != TRUE) stop(\"Sorry, wrong answer\")\n"
   ]
  },
  {
   "cell_type": "code",
   "execution_count": 40,
   "id": "db89e0a1",
   "metadata": {
    "deletable": false,
    "editable": false,
    "nbgrader": {
     "cell_type": "code",
     "checksum": "70fabcf1b1b8b70dc388756867b1f58f",
     "grade": true,
     "grade_id": "cell-19e6a114ce3b0d48",
     "locked": true,
     "points": 5,
     "schema_version": 3,
     "solution": false,
     "task": false
    }
   },
   "outputs": [],
   "source": [
    "#check whether AUC is correct (hidden tests)\n",
    "\n"
   ]
  },
  {
   "cell_type": "markdown",
   "id": "5db194cd",
   "metadata": {
    "deletable": false,
    "editable": false,
    "nbgrader": {
     "cell_type": "markdown",
     "checksum": "ccff2ce8d7abee61d79fd2327a832e4f",
     "grade": false,
     "grade_id": "cell-b04ccc8e73db3116",
     "locked": true,
     "schema_version": 3,
     "solution": false,
     "task": false
    }
   },
   "source": [
    "### Confusion Matrix, Accuracy, False Negative Rate\n",
    "\n",
    "<br>\n",
    "\n",
    "### Part (d)\n",
    "\n",
    "Create vector `yhat` of estimated (i.e. predicted) outputs $\\widehat{AHD}$ for the test data, with values \"Yes\" if the corresponding estimated probability of \"Yes\" (i.e. `pihat` entry) is greater than 0.5, and \"No\" otherwise. \n",
    "\n",
    "**Hint:** this is just like we did for the train data.\n",
    "\n",
    "Also, create R variable `tbl` which is of `table` type and represents confusion matrix, with `yhat` represented by rows and `ytest` by columns. No's should be first, followed by Yeses.\n",
    "\n",
    "**Hint:** `tbl[2,1]` should be 6. Also, the sum of all the 4 entries should equal the sample size in the test data, which is 90.\n",
    "\n"
   ]
  },
  {
   "cell_type": "code",
   "execution_count": 41,
   "id": "abe61578",
   "metadata": {
    "deletable": false,
    "nbgrader": {
     "cell_type": "code",
     "checksum": "0f8acb0819acb6772be249f6ed75af0c",
     "grade": false,
     "grade_id": "cell-0c074198c300720f",
     "locked": false,
     "schema_version": 3,
     "solution": true,
     "task": false
    }
   },
   "outputs": [
    {
     "data": {
      "text/plain": [
       "     ytest\n",
       "yhat  No Yes\n",
       "  No  42  11\n",
       "  Yes  6  31"
      ]
     },
     "metadata": {},
     "output_type": "display_data"
    }
   ],
   "source": [
    "yhat = ifelse(pihat>0.5,\"Yes\",\"No\")\n",
    "tbl = table(yhat, ytest)\n",
    "tbl"
   ]
  },
  {
   "cell_type": "code",
   "execution_count": 42,
   "id": "dd6e7450",
   "metadata": {
    "deletable": false,
    "editable": false,
    "nbgrader": {
     "cell_type": "code",
     "checksum": "39441c4bfdd13eb3b0e7541ddbce6981",
     "grade": true,
     "grade_id": "cell-ec6d9ad5154f48b2",
     "locked": true,
     "points": 1,
     "schema_version": 3,
     "solution": false,
     "task": false
    }
   },
   "outputs": [
    {
     "name": "stdout",
     "output_type": "stream",
     "text": [
      "\u001b[32mTest passed\u001b[39m 🌈\n"
     ]
    }
   ],
   "source": [
    "#check whether first 8 values of yhat are 'No','Yes','No','No','No','No','No','Yes'\n",
    "\n",
    "if (test_that(desc=\"\", code={\n",
    "    expect_equal(all(yhat[1:8] == c('No','Yes','No','No','No','No','No','Yes')), TRUE)\n",
    "    }) != TRUE) stop(\"Sorry, wrong answer\")"
   ]
  },
  {
   "cell_type": "code",
   "execution_count": 43,
   "id": "f8190772",
   "metadata": {
    "deletable": false,
    "editable": false,
    "nbgrader": {
     "cell_type": "code",
     "checksum": "69da5decebb617e9334e8cbe0ddea6ea",
     "grade": true,
     "grade_id": "cell-7ad6e17afe117f29",
     "locked": true,
     "points": 5,
     "schema_version": 3,
     "solution": false,
     "task": false
    }
   },
   "outputs": [],
   "source": [
    "#check whether yhat is correct (hiden tests)\n",
    "\n"
   ]
  },
  {
   "cell_type": "code",
   "execution_count": 44,
   "id": "8ef4d25e",
   "metadata": {
    "deletable": false,
    "editable": false,
    "nbgrader": {
     "cell_type": "code",
     "checksum": "ec864bb3248673c409d227392f8b46fb",
     "grade": true,
     "grade_id": "cell-18c8b492d0a5ca79",
     "locked": true,
     "points": 2,
     "schema_version": 3,
     "solution": false,
     "task": false
    }
   },
   "outputs": [
    {
     "name": "stdout",
     "output_type": "stream",
     "text": [
      "\u001b[32mTest passed\u001b[39m 🎊\n",
      "\u001b[32mTest passed\u001b[39m 🎉\n"
     ]
    }
   ],
   "source": [
    "#check whether tbl[2,1] is 6\n",
    "\n",
    "if (test_that(desc=\"\", code={\n",
    "    expect_equal(tbl[2,1]==6, TRUE)\n",
    "    }) != TRUE) stop(\"Sorry, wrong answer\")\n",
    "\n",
    "#check whether the sum of all the entries in tbl is 90\n",
    "\n",
    "if (test_that(desc=\"\", code={\n",
    "    expect_equal(sum(tbl), 90)\n",
    "    }) != TRUE) stop(\"Sorry, wrong answer\")"
   ]
  },
  {
   "cell_type": "code",
   "execution_count": 45,
   "id": "6ed728a8",
   "metadata": {
    "deletable": false,
    "editable": false,
    "nbgrader": {
     "cell_type": "code",
     "checksum": "9b8e2149e93c5c646d2595889da7383b",
     "grade": true,
     "grade_id": "cell-958ecfea866de651",
     "locked": true,
     "points": 5,
     "schema_version": 3,
     "solution": false,
     "task": false
    }
   },
   "outputs": [],
   "source": [
    "#check whether tbl is correct (hidden tests)\n",
    "\n"
   ]
  },
  {
   "cell_type": "markdown",
   "id": "7dc67ba1",
   "metadata": {
    "deletable": false,
    "editable": false,
    "nbgrader": {
     "cell_type": "markdown",
     "checksum": "0d32e74344f40ac06d5e8148601f0a08",
     "grade": false,
     "grade_id": "cell-0c8eb6e8aa409bb8",
     "locked": true,
     "schema_version": 3,
     "solution": false,
     "task": false
    }
   },
   "source": [
    "\n",
    "### Part (e)\n",
    "\n",
    "Find the accuracy, i.e. the proportion of correctly predicted outputs in the test data. Store this value in the R variable `acc`. Also, create R variable `FNR` which represents false negative rate. So, your code should be of the form \n",
    "\n",
    "`acc = <some expression>`\n",
    "\n",
    "`FNR = <some expression>`\n",
    "\n",
    "<br>"
   ]
  },
  {
   "cell_type": "code",
   "execution_count": 46,
   "id": "32677c08",
   "metadata": {
    "deletable": false,
    "nbgrader": {
     "cell_type": "code",
     "checksum": "8537030e11e4829d8197d08c7a720401",
     "grade": false,
     "grade_id": "cell-0e7a0f66f8de5323",
     "locked": false,
     "schema_version": 3,
     "solution": true,
     "task": false
    }
   },
   "outputs": [],
   "source": [
    "acc <- (tbl[1,1]+tbl[2,2])/sum(tbl)\n",
    "FNR <- tbl[1,2]/sum(tbl[,2])"
   ]
  },
  {
   "cell_type": "code",
   "execution_count": 47,
   "id": "8df8e211",
   "metadata": {
    "deletable": false,
    "editable": false,
    "nbgrader": {
     "cell_type": "code",
     "checksum": "b9326fdf57ba048a88f4a247fdae7c0b",
     "grade": true,
     "grade_id": "cell-9380f876a5441ad8",
     "locked": true,
     "points": 2,
     "schema_version": 3,
     "solution": false,
     "task": false
    }
   },
   "outputs": [
    {
     "name": "stdout",
     "output_type": "stream",
     "text": [
      "\u001b[32mTest passed\u001b[39m 🎉\n",
      "\u001b[32mTest passed\u001b[39m 🥇\n"
     ]
    }
   ],
   "source": [
    "#check whether the 6th and 7th decimal digits of acc are 11\n",
    "\n",
    "if (test_that(desc=\"\", code={\n",
    "    expect_equal(floor(acc*10^7) %% 100 == 11, TRUE)\n",
    "    }) != TRUE) stop(\"Sorry, wrong answer\")\n",
    "\n",
    "\n",
    "#check whether the 6th and 7th decimal digits of FNR are 47\n",
    "\n",
    "if (test_that(desc=\"\", code={\n",
    "    expect_equal(floor(FNR*10^7) %% 100 == 47, TRUE)\n",
    "    }) != TRUE) stop(\"Sorry, wrong answer\")\n"
   ]
  },
  {
   "cell_type": "code",
   "execution_count": 48,
   "id": "1673ef67",
   "metadata": {
    "deletable": false,
    "editable": false,
    "nbgrader": {
     "cell_type": "code",
     "checksum": "24ef09877c0537c928446686b2234b43",
     "grade": true,
     "grade_id": "cell-7aeafc42a7c5afbf",
     "locked": true,
     "points": 5,
     "schema_version": 3,
     "solution": false,
     "task": false
    }
   },
   "outputs": [],
   "source": [
    "#check whether acc is correct (hidden tests)\n",
    "\n"
   ]
  },
  {
   "cell_type": "code",
   "execution_count": 49,
   "id": "3d11c2bd",
   "metadata": {
    "deletable": false,
    "editable": false,
    "nbgrader": {
     "cell_type": "code",
     "checksum": "709de2fdf9436708eb2aee76bebf657d",
     "grade": true,
     "grade_id": "cell-c91bda860e865841",
     "locked": true,
     "points": 5,
     "schema_version": 3,
     "solution": false,
     "task": false
    }
   },
   "outputs": [],
   "source": [
    "#check whether FNR is correct (hidden tests)\n",
    "\n"
   ]
  },
  {
   "cell_type": "code",
   "execution_count": null,
   "id": "c2a479fa",
   "metadata": {},
   "outputs": [],
   "source": []
  }
 ],
 "metadata": {
  "kernelspec": {
   "display_name": "R",
   "language": "R",
   "name": "ir"
  },
  "language_info": {
   "codemirror_mode": "r",
   "file_extension": ".r",
   "mimetype": "text/x-r-source",
   "name": "R",
   "pygments_lexer": "r",
   "version": "3.6.3"
  }
 },
 "nbformat": 4,
 "nbformat_minor": 5
}
