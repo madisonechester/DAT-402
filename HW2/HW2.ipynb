{
 "cells": [
  {
   "cell_type": "markdown",
   "id": "91934d0f",
   "metadata": {},
   "source": [
    "**IMPORTANT** <br> <ul> <li> Do **NOT** replace or remove this notebook (ipynb file)! Each cell has unique nbgrader's metadata and ID which, if changed outside the nbgrader, cannot pass the tests. Do **NOT** change the name of the file!</li> <li> To receive any credit, don't forget to **SUBMIT** your notebook when you are done! You can have multiple submissions before the deadline; only the last one is saved, including its timestamp.</li> <li>Before submitting, **Validate** your notebook to check if your codes pass all visible tests. </li> <li>Make sure you fill in any cell with the comment `# your code here`. Remove or comment the command `fail()` (in R), or `raise NotImplementedError` (in Python) and place your code there </li> </ul>"
   ]
  },
  {
   "cell_type": "code",
   "execution_count": 1,
   "id": "c1881429",
   "metadata": {},
   "outputs": [],
   "source": [
    "NAME = \"Madison Chester\""
   ]
  },
  {
   "cell_type": "markdown",
   "id": "b6f468c7",
   "metadata": {},
   "source": [
    "---"
   ]
  },
  {
   "cell_type": "code",
   "execution_count": 2,
   "id": "05221e14",
   "metadata": {
    "deletable": false,
    "editable": false,
    "nbgrader": {
     "cell_type": "code",
     "checksum": "0a1cd489cd4282d49e595f8917b95082",
     "grade": false,
     "grade_id": "cell-4a55cab80c69beaf",
     "locked": true,
     "schema_version": 3,
     "solution": false,
     "task": false
    }
   },
   "outputs": [],
   "source": [
    "## import libraries needed\n",
    "## make sure you run this code first!\n",
    "\n",
    "library(testthat)\n",
    "library(digest)\n",
    "library(stringr)"
   ]
  },
  {
   "cell_type": "markdown",
   "id": "a2afcd97",
   "metadata": {
    "deletable": false,
    "editable": false,
    "nbgrader": {
     "cell_type": "markdown",
     "checksum": "fa885e5cebce1136bb63c79a861ddf8a",
     "grade": false,
     "grade_id": "cell-9495ca7a76add5bc",
     "locked": true,
     "schema_version": 3,
     "solution": false,
     "task": false
    }
   },
   "source": [
    "## Question 1.\n",
    "\n",
    "In class, we saw an example of kNN (k-Nearest Neighbors) model used for predicting concentration of nitrogen oxides (NOx) in Boston air, based on a single predictor - weighted average distance from 5 employment centers in Boston area. In this question you are going to tune the hyperparameter $k$, i.e. find its optimal value, and then fit the model with that value of $k$. But first, you will produce the following plot from class, which shows how performance of the fitted model varies with the change of the tuning parameter $k$.\n",
    "\n",
    "<img src=\"hw2-pic1.png\" style=\"width: 600px;\"/>\n",
    "\n",
    "\n",
    "We will use simple validation and split the data into `train` and `test` subsets.\n",
    "\n",
    "To simplify, we first extract the two variables `nox` and `dist` from `Boston` data frame from `MASS` library, and create a new data frame called `df`. To do that, run the following cell."
   ]
  },
  {
   "cell_type": "code",
   "execution_count": 3,
   "id": "ea7ac783",
   "metadata": {
    "deletable": false,
    "editable": false,
    "nbgrader": {
     "cell_type": "code",
     "checksum": "a6172d762466020ade13c4bf1deadb69",
     "grade": false,
     "grade_id": "cell-b2a6358ffae2e72f",
     "locked": true,
     "schema_version": 3,
     "solution": false,
     "task": false
    }
   },
   "outputs": [
    {
     "data": {
      "text/html": [
       "<style>\n",
       ".list-inline {list-style: none; margin:0; padding: 0}\n",
       ".list-inline>li {display: inline-block}\n",
       ".list-inline>li:not(:last-child)::after {content: \"\\00b7\"; padding: 0 .5ex}\n",
       "</style>\n",
       "<ol class=list-inline><li>506</li><li>2</li></ol>\n"
      ],
      "text/latex": [
       "\\begin{enumerate*}\n",
       "\\item 506\n",
       "\\item 2\n",
       "\\end{enumerate*}\n"
      ],
      "text/markdown": [
       "1. 506\n",
       "2. 2\n",
       "\n",
       "\n"
      ],
      "text/plain": [
       "[1] 506   2"
      ]
     },
     "metadata": {},
     "output_type": "display_data"
    }
   ],
   "source": [
    "## RUN THIS CELL\n",
    "\n",
    "library(MASS)\n",
    "library(kknn)\n",
    "\n",
    "n = nrow(Boston)  #number of observatons/rows, i.e. sample size\n",
    "\n",
    "xall = Boston$dis  #our input variable\n",
    "yall = 10*Boston$nox  #our output variable\n",
    "\n",
    "# create data frame df that consists only of our input and output variables\n",
    "df = data.frame(xall,yall) #simple data frame for convenience\n",
    "\n",
    "dim(df) #checking the dimension of the dataframe df (note there are 506 obs)"
   ]
  },
  {
   "cell_type": "markdown",
   "id": "dbfbc666",
   "metadata": {
    "deletable": false,
    "editable": false,
    "nbgrader": {
     "cell_type": "markdown",
     "checksum": "9ea8a330e2d0e7d0029a23efc8b4340f",
     "grade": false,
     "grade_id": "cell-4c248124d054f647",
     "locked": true,
     "schema_version": 3,
     "solution": false,
     "task": false
    }
   },
   "source": [
    "### Part (a)\n",
    "\n",
    "\n",
    "Use the seed 123 in the function `set.seed()` to make sure you are going to produce the same (pseudo)random sample as in the test cells. Then, create the vector `tr` which is a random sample of 400 indices from the index set: 1,2,3,...,506 (i.e. all rows in `df`). This will be the set of indices for our *training* data (hence the name `tr`). \n",
    "\n",
    "To create `tr`, use `sample()` function. So, your command should look like  \n",
    "\n",
    "`tr = sample(x=??, size=??, replace=FALSE)`\n",
    "\n",
    "You can check out the documentation for the function `sample()`; in fact, `replace=FALSE` is the default, so even if you don't include it, you will take a sample of 400 values without replacement (i.e. no index value will appear more than once).\n",
    "\n",
    "If you set the seed to 123 before creating `tr`, first couple of values of `tr` should be\n",
    "\n",
    "`415, 463, 179, 14, 195`\n",
    "\n",
    "<br>"
   ]
  },
  {
   "cell_type": "code",
   "execution_count": 4,
   "id": "5f293cc0",
   "metadata": {
    "deletable": false,
    "nbgrader": {
     "cell_type": "code",
     "checksum": "1350b0c6cbe9a1638c7fa024049c143c",
     "grade": false,
     "grade_id": "cell-792d41b155d9db72",
     "locked": false,
     "schema_version": 3,
     "solution": true,
     "task": false
    }
   },
   "outputs": [],
   "source": [
    "set.seed(123)\n",
    "vec <- seq(1, 506, 1)\n",
    "tr = sample(x = vec, size = 400, replace = FALSE)"
   ]
  },
  {
   "cell_type": "code",
   "execution_count": 5,
   "id": "f748c8de",
   "metadata": {
    "deletable": false,
    "editable": false,
    "nbgrader": {
     "cell_type": "code",
     "checksum": "d0380274bc24effeadedd16a9c81f22f",
     "grade": true,
     "grade_id": "cell-ee392896f22b2ac2",
     "locked": true,
     "points": 2,
     "schema_version": 3,
     "solution": false,
     "task": false
    }
   },
   "outputs": [
    {
     "name": "stdout",
     "output_type": "stream",
     "text": [
      "\u001b[32mTest passed\u001b[39m 🎊\n",
      "\u001b[32mTest passed\u001b[39m 🎉\n"
     ]
    }
   ],
   "source": [
    "## check whether first 5 values of vector tr are 415, 463, 179, 14, 195\n",
    "\n",
    "if (test_that(desc=\"\", code={\n",
    "    expect_equal(tr[1:5], c(415, 463, 179, 14, 195))\n",
    "    }) != TRUE) stop(\"Sorry, wrong answer\")\n",
    "\n",
    "\n",
    "## check whether tr is of length 400\n",
    "\n",
    "if (test_that(desc=\"\", code={\n",
    "    expect_equal(length(tr), 400)\n",
    "    }) != TRUE) stop(\"Sorry, wrong answer\")\n"
   ]
  },
  {
   "cell_type": "code",
   "execution_count": 6,
   "id": "310d9a59",
   "metadata": {
    "deletable": false,
    "editable": false,
    "nbgrader": {
     "cell_type": "code",
     "checksum": "3a27a1473276fe0106ee90b5af590cee",
     "grade": true,
     "grade_id": "cell-7f9cbd05c41e3cc0",
     "locked": true,
     "points": 7,
     "schema_version": 3,
     "solution": false,
     "task": false
    }
   },
   "outputs": [],
   "source": [
    "## check whether tr is correct (hidden tests)\n",
    "\n"
   ]
  },
  {
   "cell_type": "markdown",
   "id": "2ec8aac1",
   "metadata": {
    "deletable": false,
    "editable": false,
    "nbgrader": {
     "cell_type": "markdown",
     "checksum": "129da9789e810ddb3dfaa25f3d710711",
     "grade": false,
     "grade_id": "cell-148b5489b48e843e",
     "locked": true,
     "schema_version": 3,
     "solution": false,
     "task": false
    }
   },
   "source": [
    "### Part (b)\n",
    "\n",
    "Create data frames `train` and `test` from the data frame `df`. The data frame `train` should consist of observations (i.e. rows) of `df` whose indices are precisely those 400 random indices from vector `tr`. The data frame `test` should consist of the complement of `tr` (you can use `df[-tr, ]` for taking the complementary indices, i.e. precisely those indices which are not in `tr`).\n",
    "\n",
    "**Hint:** First two rows of `train` should be\n",
    "\n",
    "&nbsp; &nbsp; &nbsp; &nbsp; &nbsp; &nbsp; **xall** &nbsp; &nbsp; &nbsp; **yall** <br>\n",
    "**415** `1.6582  6.93` \n",
    "\n",
    "**463** `2.7344  7.13\n",
    "`\n",
    "\n",
    "and of `test`:\n",
    "\n",
    "&nbsp; &nbsp; &nbsp; &nbsp; &nbsp; **xall** &nbsp; &nbsp; &nbsp; **yall** <br>\n",
    "**1** `4.0900  5.38` \n",
    "\n",
    "**6** `6.0622  4.58`"
   ]
  },
  {
   "cell_type": "code",
   "execution_count": 7,
   "id": "a73c19da",
   "metadata": {
    "deletable": false,
    "nbgrader": {
     "cell_type": "code",
     "checksum": "0da627ee11c9f2a25a6a8f7b8955725e",
     "grade": false,
     "grade_id": "cell-83a059ec45d49840",
     "locked": false,
     "schema_version": 3,
     "solution": true,
     "task": false
    }
   },
   "outputs": [],
   "source": [
    "train <- df[tr,]\n",
    "test <- df[-tr,]"
   ]
  },
  {
   "cell_type": "code",
   "execution_count": 8,
   "id": "43293336",
   "metadata": {
    "deletable": false,
    "editable": false,
    "nbgrader": {
     "cell_type": "code",
     "checksum": "937b1667440323667f1bbc0c0ab90672",
     "grade": true,
     "grade_id": "cell-46303c2afae2b74f",
     "locked": true,
     "points": 2,
     "schema_version": 3,
     "solution": false,
     "task": false
    }
   },
   "outputs": [
    {
     "name": "stdout",
     "output_type": "stream",
     "text": [
      "\u001b[32mTest passed\u001b[39m 🌈\n",
      "\u001b[32mTest passed\u001b[39m 😸\n"
     ]
    }
   ],
   "source": [
    "\n",
    "## check whether train and test are data frames and of right format\n",
    "\n",
    "if (test_that(desc=\"\", code={\n",
    "    expect_equal(is.data.frame(train), TRUE)\n",
    "    expect_equal(dim(train),c(400,2))\n",
    "    }) != TRUE) stop(\"Sorry, train is not correct\")\n",
    "\n",
    "if (test_that(desc=\"\", code={\n",
    "    expect_equal(is.data.frame(test), TRUE)\n",
    "    expect_equal(dim(test),c(506-400,2))\n",
    "    }) != TRUE) stop(\"Sorry, test is not correct\")\n"
   ]
  },
  {
   "cell_type": "code",
   "execution_count": 9,
   "id": "60ddbf31",
   "metadata": {
    "deletable": false,
    "editable": false,
    "nbgrader": {
     "cell_type": "code",
     "checksum": "1f29d4a5d480272a3606213804472af3",
     "grade": true,
     "grade_id": "cell-8642b5630c56847d",
     "locked": true,
     "points": 3,
     "schema_version": 3,
     "solution": false,
     "task": false
    }
   },
   "outputs": [
    {
     "name": "stdout",
     "output_type": "stream",
     "text": [
      "\u001b[32mTest passed\u001b[39m 😸\n",
      "\u001b[32mTest passed\u001b[39m 😸\n"
     ]
    }
   ],
   "source": [
    "## check whether the first two rows of train and test data are correct\n",
    "\n",
    "\n",
    "if (test_that(desc=\"\", code={\n",
    "    expect_equal(norm(as.matrix(train[1:2,]) \n",
    "                      - matrix(c(1.6582, 6.93, 2.7344, 7.13),nrow=2,byrow=T), type=\"2\") < 1.e-4,\n",
    "                TRUE)\n",
    "    }) != TRUE) stop(\"Sorry, train is not correct\")\n",
    "\n",
    "if (test_that(desc=\"\", code={\n",
    "    expect_equal(norm(as.matrix(test[1:2,]) \n",
    "                      - matrix(c(4.0900, 5.38, 6.0622, 4.58),nrow=2,byrow=T), type=\"2\") < 1.e-4,\n",
    "                TRUE)\n",
    "    }) != TRUE) stop(\"Sorry, test is not correct\")\n"
   ]
  },
  {
   "cell_type": "code",
   "execution_count": 10,
   "id": "5fa1dee0",
   "metadata": {
    "deletable": false,
    "editable": false,
    "nbgrader": {
     "cell_type": "code",
     "checksum": "2732c70eee38444d32dbbf5a6da974ca",
     "grade": true,
     "grade_id": "cell-4e129471733e5f86",
     "locked": true,
     "points": 8,
     "schema_version": 3,
     "solution": false,
     "task": false
    }
   },
   "outputs": [],
   "source": [
    "## check whether train and test data are correct (hidden tests)\n",
    "\n"
   ]
  },
  {
   "cell_type": "markdown",
   "id": "a4f3cb54",
   "metadata": {
    "deletable": false,
    "editable": false,
    "nbgrader": {
     "cell_type": "markdown",
     "checksum": "83c8fde984ea6eac856e55285222c6b6",
     "grade": false,
     "grade_id": "cell-90243936e6f485f6",
     "locked": true,
     "schema_version": 3,
     "solution": false,
     "task": false
    }
   },
   "source": [
    "\n",
    "We now create vector `kvec` of possible values for the tuning parameter (i.e. hyperparameter) $k$ in the kNN model. We will take values 1,2,...,350. We could also include values up to the size of the training sample `train` (which is 400), but it's not difficult to see that the performance of the model for such values of $k$ would be lower than performance for all other values of $k$.\n",
    "\n",
    "Apart from `kvec`, we also define `nk` to be the length of `kvec` (i.e. 350). Run the following cell to create `kvec` and `nk`."
   ]
  },
  {
   "cell_type": "code",
   "execution_count": 11,
   "id": "b453441e",
   "metadata": {
    "deletable": false,
    "editable": false,
    "nbgrader": {
     "cell_type": "code",
     "checksum": "ebc06abe29b251765ef2ea85515eb2d1",
     "grade": false,
     "grade_id": "cell-2eedecb09525a987",
     "locked": true,
     "schema_version": 3,
     "solution": false,
     "task": false
    }
   },
   "outputs": [],
   "source": [
    "## run this code to create kvec and define nk\n",
    "\n",
    "#loop over values of k, fit on train, predict on test\n",
    "kvec = 1:350\n",
    "nk=length(kvec)\n"
   ]
  },
  {
   "cell_type": "markdown",
   "id": "3e9b113e",
   "metadata": {
    "deletable": false,
    "editable": false,
    "nbgrader": {
     "cell_type": "markdown",
     "checksum": "fa216b06f4b1e087836a975b9f5e1df4",
     "grade": false,
     "grade_id": "cell-5913d5334b8a8f0a",
     "locked": true,
     "schema_version": 3,
     "solution": false,
     "task": false
    }
   },
   "source": [
    "### Part (c)\n",
    "\n",
    "In this part you should create vectors `outRMSE` and `inRMSE`. For each $k\\in$ `kvec`, we fit the model using training data `train`. Then, we compute the out-of-sample root mean squared error $outRMSE_k$ as well as in-sample root mean squared error $inRMSE_k$:\n",
    "\n",
    "$$outRMSE_k = \\sqrt{{1\\over n}\\sum_{i\\,\\notin \\,tr} (\\hat{y}_i - y_i)^2}$$\n",
    "\n",
    "$$inRMSE_k = \\sqrt{{1\\over n}\\sum_{i\\,\\in \\,tr} (\\hat{y}_i - y_i)^2}$$\n",
    "\n",
    "Note that the sum in $outRMSE_k$ goes over all indices that are NOT in the training index set `tr` while in $inRMSE_k$ the some goes precisely over those indices which ARE in the training index set `tr`.\n",
    "\n",
    "<br>\n",
    "\n",
    "To compute $outRMSE$ and $inRMSE$ we will need to find the fitted values $\\hat{y}_i$'s, for $i\\notin $`tr` and  \n",
    " \n",
    "For this purpose, we use function `kknn()` from the library `kknn` (imported above). We can use a code line of the form \n",
    "\n",
    "`kmod = kknn(yall ~ xall, train=??, test=??, k=??, kernel=\"rectangular\")`\n",
    "\n",
    "where `yall ~ xall` is the R formula regressing the output `yall` on the input `xall`. The argument `train` is an appropriate data frame used for training/fitting, with columns named  `xall` and `yall`, so that `kknn()` knows which variables to take from the training data frame `train` and use for what (output or input). Among other info, the created object `kmod` also stores the fitted values applied on the data from the data frame `test`. Set the argument `test` to be a data frame that contains not just `xall`, but also the corresponding `yall` values from your sample. \n",
    "\n",
    "For example, if we want to fit kNN model with $k=123$ on our training data `train` and compute fitted values on our test data `test`, we would use\n",
    "\n",
    "`kmod = kknn(yall ~ xall, train=train, test=test, k=123, kernel=\"rectangular\")` and then \n",
    "\n",
    "`kmod$fitted` would be the vector of desireable fitted values.\n",
    "\n",
    "Also, if we want to fit kNN model with $k=123$ on our training data `train` and compute fitted values on the same (i.e. training) data, then we can create R object `kmodtr` as\n",
    "\n",
    "`kmodtr = kknn(yall ~ xall, train=train, test=train, k=123, kernel=\"rectangular\")` and then \n",
    "\n",
    "`kmodtr$fitted` would be the vector of desireable fitted values.\n",
    "\n",
    "<br>\n",
    "\n",
    "Your task is to do this for each $k\\in$ `kvec` (not just $k=123$). Create a for-loop that for each $k \\in$ `kvec` = $(1,2,...,\\texttt{nk})$ computes $outRMSE_k$ and $inRMSE_k$ as given above and stores these values as $k$-th components of the R vectors `outRMSE` and `inRMSE`, respectively.\n",
    "\n",
    "You can start first by pre-allocating memory for `outRMSE` and `inRMSE`:\n",
    "\n",
    "`outRMSE = rep(0,nk)` <br>\n",
    "`inRMSE = rep(0,nk)`\n",
    "\n",
    "(this just creates 0-vectors, both of length `nk`, whose compononents you would then need to change to appropriate values; memory pre-allocation was briefly discussed in DAT301).\n",
    "\n",
    "The computation in your for-loop may take a couple of moments, since you are fitting a lot of models (i.e. for each $k$).\n",
    "\n",
    "If everything is okay, first couple of values of the two vectors are:\n",
    "\n",
    "outRMSE = `0.776118930538112, 0.720259336484056, 0.688533442062602, 0.688563663027939, 0.713899101268837...`\n",
    "\n",
    "<br>\n",
    "\n",
    "inRMSE = `0.0294448637286709, 0.413066386916195, 0.479819913844999, 0.515748405687066, 0.532981421345998...`\n",
    "\n"
   ]
  },
  {
   "cell_type": "code",
   "execution_count": 12,
   "id": "434aca9c",
   "metadata": {
    "deletable": false,
    "nbgrader": {
     "cell_type": "code",
     "checksum": "a3210f91b5c0b05f2f88088390c5b057",
     "grade": false,
     "grade_id": "cell-3870da71f8b915b9",
     "locked": false,
     "schema_version": 3,
     "solution": true,
     "task": false
    }
   },
   "outputs": [],
   "source": [
    "outRMSE = rep(0,nk) #pre-allocating RMSE for out-of-sample data\n",
    "inRMSE = rep(0,nk) #pre-allocating RMSE for in-sample data\n",
    "\n",
    "for (k in kvec) {\n",
    "    kmod = kknn(yall ~ xall, train=train, test=test, k=k, kernel=\"rectangular\")\n",
    "    outRMSE[k] = sqrt(mean((kmod$fitted-test$yall)^2))\n",
    "}\n",
    "\n",
    "for (k in kvec) { \n",
    "    kmodtr = kknn(yall ~ xall, train=train, test=train, k=k, kernel=\"rectangular\")\n",
    "    inRMSE[k] = sqrt(mean((kmodtr$fitted-train$yall)^2))\n",
    "}"
   ]
  },
  {
   "cell_type": "code",
   "execution_count": 13,
   "id": "58eb701b",
   "metadata": {
    "deletable": false,
    "editable": false,
    "nbgrader": {
     "cell_type": "code",
     "checksum": "a07abc7a8c4c12151a5a6e8f294218ea",
     "grade": true,
     "grade_id": "cell-ca964adb54c7c750",
     "locked": true,
     "points": 2,
     "schema_version": 3,
     "solution": false,
     "task": false
    }
   },
   "outputs": [
    {
     "name": "stdout",
     "output_type": "stream",
     "text": [
      "\u001b[32mTest passed\u001b[39m 🎉\n",
      "\u001b[32mTest passed\u001b[39m 🎊\n"
     ]
    }
   ],
   "source": [
    "## check whether outRMSE and inRMSE are numeric vectors of length nk=350\n",
    "\n",
    "if (test_that(desc=\"\", code={\n",
    "    expect_equal(is.numeric(outRMSE),TRUE)\n",
    "    expect_equal(length(outRMSE)==350, TRUE)\n",
    "    }) != TRUE) stop(\"Sorry, wrong answer\")\n",
    "\n",
    "if (test_that(desc=\"\", code={\n",
    "    expect_equal(is.numeric(inRMSE),TRUE)\n",
    "    expect_equal(length(inRMSE)==350, TRUE)\n",
    "    }) != TRUE) stop(\"Sorry, wrong answer\")\n"
   ]
  },
  {
   "cell_type": "code",
   "execution_count": 14,
   "id": "ea16f7ca",
   "metadata": {
    "deletable": false,
    "editable": false,
    "nbgrader": {
     "cell_type": "code",
     "checksum": "85898788fa164a08cce032d537adfc39",
     "grade": true,
     "grade_id": "cell-3259c56ea11fe156",
     "locked": true,
     "points": 5,
     "schema_version": 3,
     "solution": false,
     "task": false
    }
   },
   "outputs": [
    {
     "name": "stdout",
     "output_type": "stream",
     "text": [
      "\u001b[32mTest passed\u001b[39m 🌈\n"
     ]
    }
   ],
   "source": [
    "## check whether first couple of values of outRMSE are correct\n",
    "\n",
    "if (test_that(desc=\"\", code={\n",
    "    expect_equal(norm(outRMSE[1:5]-c(0.776118930538112, \n",
    "                                0.720259336484056, \n",
    "                                0.688533442062602, \n",
    "                                0.688563663027939, \n",
    "                                0.713899101268837),type=\"2\") < 1.e-5,TRUE)\n",
    "    }) != TRUE) stop(\"Sorry, wrong answer\")\n",
    "\n"
   ]
  },
  {
   "cell_type": "code",
   "execution_count": 15,
   "id": "95d131ea",
   "metadata": {
    "deletable": false,
    "editable": false,
    "nbgrader": {
     "cell_type": "code",
     "checksum": "a9e85293730ce8f9b3c6bea363a8f7a3",
     "grade": true,
     "grade_id": "cell-a918c87ca5bdccf0",
     "locked": true,
     "points": 5,
     "schema_version": 3,
     "solution": false,
     "task": false
    }
   },
   "outputs": [
    {
     "name": "stdout",
     "output_type": "stream",
     "text": [
      "\u001b[32mTest passed\u001b[39m 🌈\n"
     ]
    }
   ],
   "source": [
    "## check whether first couple of values of inRMSE are correct\n",
    "\n",
    "if (test_that(desc=\"\", code={\n",
    "    expect_equal(norm(inRMSE[1:5]-c(0.0294448637286709, \n",
    "                                     0.413066386916195, \n",
    "                                     0.479819913844999, \n",
    "                                     0.515748405687066, \n",
    "                                     0.532981421345998),type=\"2\") < 1.e-5,TRUE)\n",
    "    }) != TRUE) stop(\"Sorry, wrong answer\")\n"
   ]
  },
  {
   "cell_type": "markdown",
   "id": "2b52ebeb",
   "metadata": {
    "deletable": false,
    "editable": false,
    "nbgrader": {
     "cell_type": "markdown",
     "checksum": "a9d9c6a0289a97cfc2fafb924bae13d1",
     "grade": false,
     "grade_id": "cell-a087e7c62d3be703",
     "locked": true,
     "schema_version": 3,
     "solution": false,
     "task": false
    }
   },
   "source": [
    "<br>\n",
    "\n",
    "If everything is okay, by running th following cell you should get the plot as above. Try to understand all parts of this code."
   ]
  },
  {
   "cell_type": "code",
   "execution_count": 16,
   "id": "201c0092",
   "metadata": {
    "deletable": false,
    "editable": false,
    "nbgrader": {
     "cell_type": "code",
     "checksum": "8bfd57a1db3186f9baa74777491c4805",
     "grade": false,
     "grade_id": "cell-231d6430c26ed21e",
     "locked": true,
     "schema_version": 3,
     "solution": false,
     "task": false
    }
   },
   "outputs": [
    {
     "data": {
      "image/png": "[encoded data removed]",
      "text/plain": [
       "plot without title"
      ]
     },
     "metadata": {
      "image/png": {
       "height": 300,
       "width": 600
      }
     },
     "output_type": "display_data"
    }
   ],
   "source": [
    "## run this cell\n",
    "\n",
    "# Change plot size \n",
    "options(repr.plot.width=10, repr.plot.height=5)\n",
    "\n",
    "#make plot consist of two subplots in a row\n",
    "par(mfrow=c(1,2),mar=c(4,6,1,1))\n",
    "\n",
    "plot(kvec,outRMSE,type=\"l\",\n",
    "     xlab=\"k\",ylab=\"outRMSE and inRMSE\",\n",
    "     col=\"red\",ylim=range(inRMSE))\n",
    "lines(kvec,inRMSE,col=\"blue\")\n",
    "legend(x = \"topleft\",          # Position\n",
    "       legend = c(\"test RMSE (outRMSE)\", \"train RMSE (inRMSE)\"),  # Legend texts\n",
    "       lty = c(1, 1),           # Line types\n",
    "       col = c(\"red\", \"blue\"),           # Line colors\n",
    "       lwd = 2,                 # Line width\n",
    "       bty = \"n\")   # boundary type\n",
    "\n",
    "plot(log(1/kvec),outRMSE,type=\"l\",\n",
    "     xlab=\"Complexity (log(1/k))\",ylab=\"outRMSE and inRMSE\",\n",
    "     col=\"red\",ylim=range(inRMSE))\n",
    "lines(log(1/kvec),inRMSE,col=\"blue\")\n",
    "legend(x = \"topright\",          # Position\n",
    "       legend = c(\"test RMSE (outRMSE)\", \"train RMSE (inRMSE)\"),  # Legend texts\n",
    "       lty = c(1, 1),           # Line types\n",
    "       col = c(\"red\", \"blue\"),           # Line colors\n",
    "       lwd = 2,                 # Line width\n",
    "       bty = \"n\")   # boundary type\n",
    "\n",
    "\n"
   ]
  },
  {
   "cell_type": "markdown",
   "id": "4d7030e3",
   "metadata": {
    "deletable": false,
    "editable": false,
    "nbgrader": {
     "cell_type": "markdown",
     "checksum": "76ca6a16674f726a3fa428177401647c",
     "grade": false,
     "grade_id": "cell-b302832dd18e5176",
     "locked": true,
     "schema_version": 3,
     "solution": false,
     "task": false
    }
   },
   "source": [
    "### Part (d)\n",
    "\n",
    "Find $k$ for which the out-of-sample root mean squared error is the smallest. You can use `which.min(outRMSE)` to find the index of the smallest value in the vector `outRMSE`.\n",
    "\n",
    "Create variable `kbest` that stores the value $k$ for which `outRMSE` has the smallest value.\n",
    "\n",
    "**Hint:** `kbest` should be between 40 and 50."
   ]
  },
  {
   "cell_type": "code",
   "execution_count": 17,
   "id": "42f4cede",
   "metadata": {
    "deletable": false,
    "nbgrader": {
     "cell_type": "code",
     "checksum": "15a212aa010859a93eb1f9690ebbc49a",
     "grade": false,
     "grade_id": "cell-5c264725cfb29d26",
     "locked": false,
     "schema_version": 3,
     "solution": true,
     "task": false
    }
   },
   "outputs": [
    {
     "data": {
      "text/html": [
       "48"
      ],
      "text/latex": [
       "48"
      ],
      "text/markdown": [
       "48"
      ],
      "text/plain": [
       "[1] 48"
      ]
     },
     "metadata": {},
     "output_type": "display_data"
    }
   ],
   "source": [
    "kbest = kvec[which.min(outRMSE)]\n",
    "kbest "
   ]
  },
  {
   "cell_type": "code",
   "execution_count": 18,
   "id": "57b988d4",
   "metadata": {
    "deletable": false,
    "editable": false,
    "nbgrader": {
     "cell_type": "code",
     "checksum": "073d0ccb4a74d827cb02eeb398c324ce",
     "grade": true,
     "grade_id": "cell-202c881780f7cf5b",
     "locked": true,
     "points": 4,
     "schema_version": 3,
     "solution": false,
     "task": false
    }
   },
   "outputs": [
    {
     "name": "stdout",
     "output_type": "stream",
     "text": [
      "\u001b[32mTest passed\u001b[39m 😸\n"
     ]
    }
   ],
   "source": [
    "## check whether kbest is between 40 and 50\n",
    "\n",
    "if (test_that(desc=\"\", code={\n",
    "    expect_equal((40 <= kbest) & (kbest <= 50),TRUE)\n",
    "    }) != TRUE) stop(\"Sorry, wrong answer\")\n"
   ]
  },
  {
   "cell_type": "code",
   "execution_count": 19,
   "id": "5f062e98",
   "metadata": {
    "deletable": false,
    "editable": false,
    "nbgrader": {
     "cell_type": "code",
     "checksum": "f64a15ba648f8fc4f129e27e9b2f6f03",
     "grade": true,
     "grade_id": "cell-b3696456d5cdbef7",
     "locked": true,
     "points": 6,
     "schema_version": 3,
     "solution": false,
     "task": false
    }
   },
   "outputs": [],
   "source": [
    "## check whether kbest is correct (hidden tests)\n"
   ]
  },
  {
   "cell_type": "markdown",
   "id": "eadaa60c",
   "metadata": {
    "deletable": false,
    "editable": false,
    "nbgrader": {
     "cell_type": "markdown",
     "checksum": "d5dbf2f161146fe586ea39ca7fc6a4d7",
     "grade": false,
     "grade_id": "cell-7992d89bf3c98f9f",
     "locked": true,
     "schema_version": 3,
     "solution": false,
     "task": false
    }
   },
   "source": [
    "You can now plot all the data and include your fitted model (with your `kbest` value of the tuning parameter $k$). Run the following code. If your `kbest` is correct (or at least reasonable), the red curve that represents your model should fit relatively nicely."
   ]
  },
  {
   "cell_type": "code",
   "execution_count": 20,
   "id": "9e7de16b",
   "metadata": {
    "deletable": false,
    "editable": false,
    "nbgrader": {
     "cell_type": "code",
     "checksum": "4f847d20e78a70599ca4993fbb94afeb",
     "grade": false,
     "grade_id": "cell-545bae6bead754f9",
     "locked": true,
     "schema_version": 3,
     "solution": false,
     "task": false
    }
   },
   "outputs": [
    {
     "data": {
      "image/png": "[encoded data removed]",
      "text/plain": [
       "plot without title"
      ]
     },
     "metadata": {
      "image/png": {
       "height": 300,
       "width": 600
      }
     },
     "output_type": "display_data"
    }
   ],
   "source": [
    "##run the following code\n",
    "\n",
    "sortedxall = data.frame(xall=sort(df$xall)) #sort xall and put them in data frame\n",
    "kmodbest = kknn(yall~xall, df, test=sortedxall, k=kbest,kernel=\"rectangular\")\n",
    "plot(df,pch=16,col=rgb(0,0,0,0.1), xlab=\"weighted avg dist from 5 empl. centers\", ylab=\"NOx\")\n",
    "lines(sortedxall$xall, kmodbest$fitted, col=\"red\")"
   ]
  },
  {
   "cell_type": "markdown",
   "id": "04afb8d5",
   "metadata": {
    "deletable": false,
    "editable": false,
    "nbgrader": {
     "cell_type": "markdown",
     "checksum": "860aa4c21befffefd6b64820d0df445c",
     "grade": false,
     "grade_id": "cell-1155080d72ff46a6",
     "locked": true,
     "schema_version": 3,
     "solution": false,
     "task": false
    }
   },
   "source": [
    "<font style=\"font-size: 14pt;\"><strong>IMPORTANT: In this problem, we fine-tuned the hyperparameter $k$. However, if we choose another training subsample even of the same sample size as above (for example, different seed), the result would be somewhat different (hopefully `kbest` wouldn't differ a lot). You should be aware of this randomness and the fact that `kbest` is not some absolutely optimal value of $k$.</strong></font>"
   ]
  },
  {
   "cell_type": "markdown",
   "id": "72b305b1",
   "metadata": {
    "deletable": false,
    "editable": false,
    "nbgrader": {
     "cell_type": "markdown",
     "checksum": "fe587b4c395b4acf20b2275d8a59081e",
     "grade": false,
     "grade_id": "cell-b3503751868793b7",
     "locked": true,
     "schema_version": 3,
     "solution": false,
     "task": false
    }
   },
   "source": [
    "<br>\n",
    "\n",
    "## Question 2.\n",
    "\n",
    "\n",
    "In order to include all the observations as training data at some point, and as test data at other time, we do cross-validation.\n",
    "\n",
    "It is important to understand the idea of cross-validation from class and how it is implemented in a code. \n",
    "\n",
    "Make sure you understand the following code."
   ]
  },
  {
   "cell_type": "code",
   "execution_count": 21,
   "id": "2d7ef89b",
   "metadata": {
    "deletable": false,
    "editable": false,
    "nbgrader": {
     "cell_type": "code",
     "checksum": "174a3c6bbec72bf6fdbd2506a2d98a42",
     "grade": false,
     "grade_id": "cell-ad05f9f1feb55484",
     "locked": true,
     "schema_version": 3,
     "solution": false,
     "task": false
    }
   },
   "outputs": [],
   "source": [
    "#defining loss functions mse and rmse\n",
    "mse = function(yout,yhat){mean((yout-yhat)^2)}\n",
    "rmse = function(yout,yhat){sqrt(mean((yout-yhat)^2))}\n",
    "\n",
    "#create fcn knnCV that does cross validation for given number of folds (nfolds)\n",
    "knnCV = function(xall, yall, lossfun=rmse, nfolds=10, kvec){\n",
    "   \n",
    "    df = data.frame(xall, yall)\n",
    "    n = nrow(df)\n",
    "\n",
    "    ##shuffle data \n",
    "    idx = sample(1:n, size=n, replace=F) #shuffle indices\n",
    "    df = df[idx,] #shuffle data\n",
    "\n",
    "    fdsize = n %/% nfolds  #fold size (n = fdsize*nfolds + remdr)\n",
    "    remdr = n %% nfolds   #remainder in the euclidean division algorithm\n",
    "\n",
    "    loss = rep(0,length(kvec))  \n",
    "\n",
    "    for (j in 1:length(kvec)){\n",
    "\n",
    "       loss_folds = rep(0,nfolds)\n",
    "   \n",
    "       for (i in 1:nfolds){\n",
    "          ## n = fdsize*nfolds + remdr\n",
    "          idxout = ((i-1)*fdsize+1):(i*fdsize)\n",
    "          ##to each of the 1st remdr folds, we add \n",
    "          ##one of the last remdr observations/rows\n",
    "          if (i <= remdr) {idxout = c(idxout, nfolds*fdsize+i)\n",
    "          }\n",
    "          test = df[idxout,]\n",
    "          train = df[-idxout,]\n",
    "   \n",
    "          kmod = kknn::kknn(yall~., train=train, test=test,\n",
    "                        k=kvec[j],kernel=\"rectangular\")\n",
    "          loss_folds[i] = lossfun(test$yall,kmod$fitted)\n",
    "      \n",
    "       }#end of looping over folds\n",
    "   \n",
    "       loss[j] = mean(loss_folds)\n",
    "   \n",
    "    }#end of looping over kvec\n",
    "\n",
    " return(loss)\n",
    "\n",
    "}#end of function knnCV"
   ]
  },
  {
   "cell_type": "code",
   "execution_count": 22,
   "id": "20fe18a4",
   "metadata": {
    "deletable": false,
    "editable": false,
    "nbgrader": {
     "cell_type": "code",
     "checksum": "57a2139d9248b5c9f571f482d2b2a30a",
     "grade": false,
     "grade_id": "cell-b76c003d3ff92ab6",
     "locked": true,
     "schema_version": 3,
     "solution": false,
     "task": false
    }
   },
   "outputs": [
    {
     "data": {
      "image/png": "[encoded data removed]",
      "text/plain": [
       "plot without title"
      ]
     },
     "metadata": {
      "image/png": {
       "height": 300,
       "width": 600
      }
     },
     "output_type": "display_data"
    }
   ],
   "source": [
    "## running function knnCV with nfolds=5 three times, and once with nfolds=10\n",
    "\n",
    "kvec = 1:250\n",
    "nfolds = 5\n",
    "\n",
    "set.seed(123)\n",
    "\n",
    "err5_1 = knnCV(xall=Boston$dis, yall=10*Boston$nox,nfolds=5, kvec=kvec)\n",
    "err5_2 = knnCV(xall=Boston$dis, yall=10*Boston$nox,nfolds=5, kvec=kvec)\n",
    "err5_3 = knnCV(xall=Boston$dis, yall=10*Boston$nox,nfolds=5, kvec=kvec)\n",
    "err10 = knnCV(xall=Boston$dis, yall=10*Boston$nox,nfolds=10, kvec=kvec)\n",
    "\n",
    "legendvec = c(paste0(\"5-fold #1; rmse_min=\",as.character(round(min(err5_1),3)),\"; k_optim=\",as.character(kvec[which.min(err5_1)])),\n",
    "              paste0(\"5-fold #2; rmse_min=\",as.character(round(min(err5_2),3)),\"; k_optim=\",as.character(kvec[which.min(err5_2)])),\n",
    "              paste0(\"5-fold #3; rmse_min=\",as.character(round(min(err5_3),3)),\"; k_optim=\",as.character(kvec[which.min(err5_3)])),\n",
    "              paste0(\"10-fold; rmse_min=\",as.character(round(min(err10),3)),\"; k_optim=\",as.character(kvec[which.min(err10)])))\n",
    "\n",
    "\n",
    "\n",
    "#png(filename=\"cv-kfold-5-10.png\", width=700, height=450)\n",
    "\n",
    "#par(mai=c(0.4,0.35,0.15,0.1))\n",
    "par(mar=c(5,5,0,0),mgp=c(1.4,0.45,0),cex.lab=1.2)\n",
    "\n",
    "rnge = range(c(err5_1,err5_2,err5_3,err10))\n",
    "ylm = c(0.98*rnge[1],1.02*rnge[2])\n",
    "\n",
    "plot(x=log(1/kvec),y=err5_1,ylim=ylm,\n",
    "     ylab=\"avg RMSE\",type=\"l\",col=\"blue\")\n",
    "lines(x=log(1/kvec),y=err5_2,col=\"red\")\n",
    "lines(x=log(1/kvec),y=err5_3,col=\"green\")\n",
    "lines(x=log(1/kvec),y=err10,col=\"black\",lwd=2)\n",
    "legend(-4.7,0.85,legend=legendvec,\n",
    "       col=c(\"blue\",\"red\",\"green\",\"black\"),lwd=2,cex=0.8)\n"
   ]
  },
  {
   "cell_type": "markdown",
   "id": "b9528739",
   "metadata": {
    "deletable": false,
    "editable": false,
    "nbgrader": {
     "cell_type": "markdown",
     "checksum": "63fa831a4e6e1f6a5a94eb2c175cbf94",
     "grade": false,
     "grade_id": "cell-58d0a89c38c6c364",
     "locked": true,
     "schema_version": 3,
     "solution": false,
     "task": false
    }
   },
   "source": [
    "### Part (a)\n",
    "\n",
    "Did you understand the code? Create a character variable `ans` with one of the possible values: \"yes\" or \"no\". \n",
    "\n",
    "So, if you understood the code, your answer should be \n",
    "\n",
    "`ans = \"yes\"`\n",
    "\n",
    "and if you didn't, your answer should be \n",
    "\n",
    "`ans = \"no\"`"
   ]
  },
  {
   "cell_type": "code",
   "execution_count": 23,
   "id": "c8c04c82",
   "metadata": {
    "deletable": false,
    "nbgrader": {
     "cell_type": "code",
     "checksum": "84aafa95eb0e78527e8dc01a6dff79f5",
     "grade": false,
     "grade_id": "cell-e4bd8a6767d8609f",
     "locked": false,
     "schema_version": 3,
     "solution": true,
     "task": false
    }
   },
   "outputs": [],
   "source": [
    "ans = \"yes\""
   ]
  },
  {
   "cell_type": "code",
   "execution_count": 24,
   "id": "22130dcc",
   "metadata": {
    "deletable": false,
    "editable": false,
    "nbgrader": {
     "cell_type": "code",
     "checksum": "3badcc82478fb2bb4903537b91dd92c4",
     "grade": true,
     "grade_id": "cell-30a7de55067dd348",
     "locked": true,
     "points": 2,
     "schema_version": 3,
     "solution": false,
     "task": false
    }
   },
   "outputs": [
    {
     "name": "stdout",
     "output_type": "stream",
     "text": [
      "\u001b[32mTest passed\u001b[39m 🥳\n"
     ]
    }
   ],
   "source": [
    "## check whether ans is either equal to \"yes\" or \"no\"\n",
    "\n",
    "if (test_that(desc=\"\", code={\n",
    "    expect_equal(ans %in% c(\"yes\",\"no\"),TRUE)\n",
    "    }) != TRUE) stop(\"Sorry, something is wrong with the variable ans.\")\n",
    "\n"
   ]
  },
  {
   "cell_type": "code",
   "execution_count": 25,
   "id": "389e1fac",
   "metadata": {
    "deletable": false,
    "editable": false,
    "nbgrader": {
     "cell_type": "code",
     "checksum": "39c0573d313de951f6df6df03b5c0733",
     "grade": true,
     "grade_id": "cell-49e696c8b7f20e85",
     "locked": true,
     "points": 4,
     "schema_version": 3,
     "solution": false,
     "task": false
    }
   },
   "outputs": [
    {
     "name": "stdout",
     "output_type": "stream",
     "text": [
      "\u001b[32mTest passed\u001b[39m 🥇\n"
     ]
    }
   ],
   "source": [
    "## check whether ans is equal to \"yes\" (if not, make sure you trully understand the code!!!)\n",
    "\n",
    "if (test_that(desc=\"\", code={\n",
    "    expect_equal(ans == \"yes\",TRUE)\n",
    "    }) != TRUE) stop(\"Sorry, you must make sure you understand how cross-validation works!\")\n"
   ]
  },
  {
   "cell_type": "code",
   "execution_count": null,
   "id": "d739ff20",
   "metadata": {},
   "outputs": [],
   "source": []
  }
 ],
 "metadata": {
  "kernelspec": {
   "display_name": "R",
   "language": "R",
   "name": "ir"
  },
  "language_info": {
   "codemirror_mode": "r",
   "file_extension": ".r",
   "mimetype": "text/x-r-source",
   "name": "R",
   "pygments_lexer": "r",
   "version": "3.6.3"
  }
 },
 "nbformat": 4,
 "nbformat_minor": 5
}
